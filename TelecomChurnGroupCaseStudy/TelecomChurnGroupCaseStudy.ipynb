{
 "cells": [
  {
   "cell_type": "markdown",
   "id": "f7be410b",
   "metadata": {},
   "source": [
    "# <center><span style='color:Blue'>Telecom Churn - Case Study</span></center>"
   ]
  },
  {
   "cell_type": "markdown",
   "id": "c7bf5042",
   "metadata": {},
   "source": [
    "# 1. Introduction"
   ]
  },
  {
   "cell_type": "markdown",
   "id": "cefedeb1",
   "metadata": {},
   "source": [
    "##  1.1 Business Description"
   ]
  },
  {
   "cell_type": "markdown",
   "id": "acc4c373",
   "metadata": {},
   "source": [
    "- In the telecom industry, customers are able to choose from multiple service providers and actively switch from one operator to another."
   ]
  },
  {
   "cell_type": "markdown",
   "id": "ba398160",
   "metadata": {},
   "source": [
    "## 1.2 Problem Statement"
   ]
  },
  {
   "cell_type": "markdown",
   "id": "d42fb5f6",
   "metadata": {},
   "source": [
    "- In the telecommunication industry, customers tend to change operators if not provided with attractive schemes and offers. \n",
    "- It is very important for any telecom operator to prevent the present customers from churning to other operators.\n",
    "- In this highly competitive market, the telecommunications industry experiences an average of 15-25% annual churn rate.\n",
    "- Given the fact that it costs 5-10 times more to acquire a new customer than to retain an existing one, customer retention has now become even more important than customer acquisition to reduce customer churn, telecom companies need to predict which customers are at high risk of churn. "
   ]
  },
  {
   "cell_type": "markdown",
   "id": "f7e57c8f",
   "metadata": {},
   "source": [
    "## 1.3 Objective of the Project"
   ]
  },
  {
   "cell_type": "markdown",
   "id": "4feef5fa",
   "metadata": {},
   "source": [
    "- The main goal of the case study is to build ML models to predict churn. The predictive model that you’re going to build will the following purposes:\n",
    "    - to predict whether a high-value customer will churn or not, in near future (i.e. churn phase). By knowing this, the company can take action steps such as providing special plans, discounts on recharge etc.\n",
    "    - to identify important variables that are strong predictors of churn. These variables may also indicate why customers choose to switch to other networks.\n",
    "    -  Recommend strategies to manage customer churn based on your observations.\n",
    "    - Use a dimensionality reduction technique such as PCA to handle large number of attributes and then build a predictive model"
   ]
  },
  {
   "cell_type": "markdown",
   "id": "d2cf2eaa",
   "metadata": {},
   "source": [
    "## 1.4 Approach to solve this business problem"
   ]
  },
  {
   "cell_type": "markdown",
   "id": "4efed72a",
   "metadata": {},
   "source": [
    "- Step 1 : Introduction -  Business Description, Problem Statement and Objective of the Project\n",
    "- Step 2 : Data Understanding and Data Preparation\n",
    "- Step 3 : Exploratory data analysis (EDA)\n",
    "- Step 4 : Training the model\n",
    "- Step 5 : Model Prediction and Evaluation\n",
    "- Step 6 : Recommandations"
   ]
  },
  {
   "cell_type": "markdown",
   "id": "0f71f31c",
   "metadata": {},
   "source": [
    "# Step 2 : Data Understanding and Data Preparation"
   ]
  },
  {
   "cell_type": "markdown",
   "id": "91af5126",
   "metadata": {},
   "source": [
    "## 2.1 Importing Libraries and Packages"
   ]
  },
  {
   "cell_type": "code",
   "execution_count": 1,
   "id": "fb635710",
   "metadata": {},
   "outputs": [],
   "source": [
    "import pandas as pd #Data Processing\n",
    "import numpy as np #Linear Algebra\n",
    "import seaborn as sns #Data Visualization\n",
    "import matplotlib.pyplot as plt #Data Visualization\n",
    "import warnings #Warnings\n",
    "warnings.filterwarnings (\"ignore\") #Warnings\n",
    "from IPython.display import Markdown, display ,HTML"
   ]
  },
  {
   "cell_type": "markdown",
   "id": "cd6e119c",
   "metadata": {},
   "source": [
    "## 2.2 Data Loading : Train Data Set"
   ]
  },
  {
   "cell_type": "code",
   "execution_count": 2,
   "id": "9a9fd237",
   "metadata": {},
   "outputs": [
    {
     "data": {
      "text/html": [
       "<div>\n",
       "<style scoped>\n",
       "    .dataframe tbody tr th:only-of-type {\n",
       "        vertical-align: middle;\n",
       "    }\n",
       "\n",
       "    .dataframe tbody tr th {\n",
       "        vertical-align: top;\n",
       "    }\n",
       "\n",
       "    .dataframe thead th {\n",
       "        text-align: right;\n",
       "    }\n",
       "</style>\n",
       "<table border=\"1\" class=\"dataframe\">\n",
       "  <thead>\n",
       "    <tr style=\"text-align: right;\">\n",
       "      <th></th>\n",
       "      <th>id</th>\n",
       "      <th>circle_id</th>\n",
       "      <th>loc_og_t2o_mou</th>\n",
       "      <th>std_og_t2o_mou</th>\n",
       "      <th>loc_ic_t2o_mou</th>\n",
       "      <th>last_date_of_month_6</th>\n",
       "      <th>last_date_of_month_7</th>\n",
       "      <th>last_date_of_month_8</th>\n",
       "      <th>arpu_6</th>\n",
       "      <th>arpu_7</th>\n",
       "      <th>...</th>\n",
       "      <th>sachet_3g_7</th>\n",
       "      <th>sachet_3g_8</th>\n",
       "      <th>fb_user_6</th>\n",
       "      <th>fb_user_7</th>\n",
       "      <th>fb_user_8</th>\n",
       "      <th>aon</th>\n",
       "      <th>aug_vbc_3g</th>\n",
       "      <th>jul_vbc_3g</th>\n",
       "      <th>jun_vbc_3g</th>\n",
       "      <th>churn_probability</th>\n",
       "    </tr>\n",
       "  </thead>\n",
       "  <tbody>\n",
       "    <tr>\n",
       "      <th>0</th>\n",
       "      <td>0</td>\n",
       "      <td>109</td>\n",
       "      <td>0.0</td>\n",
       "      <td>0.0</td>\n",
       "      <td>0.0</td>\n",
       "      <td>6/30/2014</td>\n",
       "      <td>7/31/2014</td>\n",
       "      <td>8/31/2014</td>\n",
       "      <td>31.277</td>\n",
       "      <td>87.009</td>\n",
       "      <td>...</td>\n",
       "      <td>0</td>\n",
       "      <td>0</td>\n",
       "      <td>NaN</td>\n",
       "      <td>NaN</td>\n",
       "      <td>NaN</td>\n",
       "      <td>1958</td>\n",
       "      <td>0.0</td>\n",
       "      <td>0.0</td>\n",
       "      <td>0.0</td>\n",
       "      <td>0</td>\n",
       "    </tr>\n",
       "    <tr>\n",
       "      <th>1</th>\n",
       "      <td>1</td>\n",
       "      <td>109</td>\n",
       "      <td>0.0</td>\n",
       "      <td>0.0</td>\n",
       "      <td>0.0</td>\n",
       "      <td>6/30/2014</td>\n",
       "      <td>7/31/2014</td>\n",
       "      <td>8/31/2014</td>\n",
       "      <td>0.000</td>\n",
       "      <td>122.787</td>\n",
       "      <td>...</td>\n",
       "      <td>0</td>\n",
       "      <td>0</td>\n",
       "      <td>NaN</td>\n",
       "      <td>1.0</td>\n",
       "      <td>NaN</td>\n",
       "      <td>710</td>\n",
       "      <td>0.0</td>\n",
       "      <td>0.0</td>\n",
       "      <td>0.0</td>\n",
       "      <td>0</td>\n",
       "    </tr>\n",
       "    <tr>\n",
       "      <th>2</th>\n",
       "      <td>2</td>\n",
       "      <td>109</td>\n",
       "      <td>0.0</td>\n",
       "      <td>0.0</td>\n",
       "      <td>0.0</td>\n",
       "      <td>6/30/2014</td>\n",
       "      <td>7/31/2014</td>\n",
       "      <td>8/31/2014</td>\n",
       "      <td>60.806</td>\n",
       "      <td>103.176</td>\n",
       "      <td>...</td>\n",
       "      <td>0</td>\n",
       "      <td>0</td>\n",
       "      <td>NaN</td>\n",
       "      <td>NaN</td>\n",
       "      <td>NaN</td>\n",
       "      <td>882</td>\n",
       "      <td>0.0</td>\n",
       "      <td>0.0</td>\n",
       "      <td>0.0</td>\n",
       "      <td>0</td>\n",
       "    </tr>\n",
       "    <tr>\n",
       "      <th>3</th>\n",
       "      <td>3</td>\n",
       "      <td>109</td>\n",
       "      <td>0.0</td>\n",
       "      <td>0.0</td>\n",
       "      <td>0.0</td>\n",
       "      <td>6/30/2014</td>\n",
       "      <td>7/31/2014</td>\n",
       "      <td>8/31/2014</td>\n",
       "      <td>156.362</td>\n",
       "      <td>205.260</td>\n",
       "      <td>...</td>\n",
       "      <td>0</td>\n",
       "      <td>0</td>\n",
       "      <td>NaN</td>\n",
       "      <td>NaN</td>\n",
       "      <td>NaN</td>\n",
       "      <td>982</td>\n",
       "      <td>0.0</td>\n",
       "      <td>0.0</td>\n",
       "      <td>0.0</td>\n",
       "      <td>0</td>\n",
       "    </tr>\n",
       "    <tr>\n",
       "      <th>4</th>\n",
       "      <td>4</td>\n",
       "      <td>109</td>\n",
       "      <td>0.0</td>\n",
       "      <td>0.0</td>\n",
       "      <td>0.0</td>\n",
       "      <td>6/30/2014</td>\n",
       "      <td>7/31/2014</td>\n",
       "      <td>8/31/2014</td>\n",
       "      <td>240.708</td>\n",
       "      <td>128.191</td>\n",
       "      <td>...</td>\n",
       "      <td>1</td>\n",
       "      <td>0</td>\n",
       "      <td>1.0</td>\n",
       "      <td>1.0</td>\n",
       "      <td>1.0</td>\n",
       "      <td>647</td>\n",
       "      <td>0.0</td>\n",
       "      <td>0.0</td>\n",
       "      <td>0.0</td>\n",
       "      <td>0</td>\n",
       "    </tr>\n",
       "  </tbody>\n",
       "</table>\n",
       "<p>5 rows × 172 columns</p>\n",
       "</div>"
      ],
      "text/plain": [
       "   id  circle_id  loc_og_t2o_mou  std_og_t2o_mou  loc_ic_t2o_mou  \\\n",
       "0   0        109             0.0             0.0             0.0   \n",
       "1   1        109             0.0             0.0             0.0   \n",
       "2   2        109             0.0             0.0             0.0   \n",
       "3   3        109             0.0             0.0             0.0   \n",
       "4   4        109             0.0             0.0             0.0   \n",
       "\n",
       "  last_date_of_month_6 last_date_of_month_7 last_date_of_month_8   arpu_6  \\\n",
       "0            6/30/2014            7/31/2014            8/31/2014   31.277   \n",
       "1            6/30/2014            7/31/2014            8/31/2014    0.000   \n",
       "2            6/30/2014            7/31/2014            8/31/2014   60.806   \n",
       "3            6/30/2014            7/31/2014            8/31/2014  156.362   \n",
       "4            6/30/2014            7/31/2014            8/31/2014  240.708   \n",
       "\n",
       "    arpu_7  ...  sachet_3g_7  sachet_3g_8  fb_user_6  fb_user_7  fb_user_8  \\\n",
       "0   87.009  ...            0            0        NaN        NaN        NaN   \n",
       "1  122.787  ...            0            0        NaN        1.0        NaN   \n",
       "2  103.176  ...            0            0        NaN        NaN        NaN   \n",
       "3  205.260  ...            0            0        NaN        NaN        NaN   \n",
       "4  128.191  ...            1            0        1.0        1.0        1.0   \n",
       "\n",
       "    aon  aug_vbc_3g  jul_vbc_3g  jun_vbc_3g  churn_probability  \n",
       "0  1958         0.0         0.0         0.0                  0  \n",
       "1   710         0.0         0.0         0.0                  0  \n",
       "2   882         0.0         0.0         0.0                  0  \n",
       "3   982         0.0         0.0         0.0                  0  \n",
       "4   647         0.0         0.0         0.0                  0  \n",
       "\n",
       "[5 rows x 172 columns]"
      ]
     },
     "execution_count": 2,
     "metadata": {},
     "output_type": "execute_result"
    }
   ],
   "source": [
    "df_telecom_train = pd.read_csv(\"train.csv\")#reading the CSV file as dataframe\n",
    "df_telecom_train.head() #diplaying the 1st few rows of the dataset"
   ]
  },
  {
   "cell_type": "markdown",
   "id": "130d600a",
   "metadata": {},
   "source": [
    "## 2.3. Data Description : Train Data Set"
   ]
  },
  {
   "cell_type": "code",
   "execution_count": 3,
   "id": "c39b1be9",
   "metadata": {},
   "outputs": [
    {
     "data": {
      "text/plain": [
       "(69999, 172)"
      ]
     },
     "execution_count": 3,
     "metadata": {},
     "output_type": "execute_result"
    }
   ],
   "source": [
    "#Finding the number of rows and columns in the data\n",
    "df_telecom_train.shape"
   ]
  },
  {
   "cell_type": "markdown",
   "id": "6f96c188",
   "metadata": {},
   "source": [
    "##### Observations : There are 69999 Rows & 172 Columns in the Train Dataset."
   ]
  },
  {
   "cell_type": "code",
   "execution_count": 4,
   "id": "5fe350bc",
   "metadata": {},
   "outputs": [
    {
     "name": "stdout",
     "output_type": "stream",
     "text": [
      "<class 'pandas.core.frame.DataFrame'>\n",
      "RangeIndex: 69999 entries, 0 to 69998\n",
      "Columns: 172 entries, id to churn_probability\n",
      "dtypes: float64(135), int64(28), object(9)\n",
      "memory usage: 91.9+ MB\n"
     ]
    }
   ],
   "source": [
    "#Fetching the information that we can get from the dataset\n",
    "df_telecom_train.info()"
   ]
  },
  {
   "cell_type": "code",
   "execution_count": 5,
   "id": "ead2fca3",
   "metadata": {},
   "outputs": [
    {
     "data": {
      "text/html": [
       "<div>\n",
       "<style scoped>\n",
       "    .dataframe tbody tr th:only-of-type {\n",
       "        vertical-align: middle;\n",
       "    }\n",
       "\n",
       "    .dataframe tbody tr th {\n",
       "        vertical-align: top;\n",
       "    }\n",
       "\n",
       "    .dataframe thead th {\n",
       "        text-align: right;\n",
       "    }\n",
       "</style>\n",
       "<table border=\"1\" class=\"dataframe\">\n",
       "  <thead>\n",
       "    <tr style=\"text-align: right;\">\n",
       "      <th></th>\n",
       "      <th>id</th>\n",
       "      <th>circle_id</th>\n",
       "      <th>loc_og_t2o_mou</th>\n",
       "      <th>std_og_t2o_mou</th>\n",
       "      <th>loc_ic_t2o_mou</th>\n",
       "      <th>arpu_6</th>\n",
       "      <th>arpu_7</th>\n",
       "      <th>arpu_8</th>\n",
       "      <th>onnet_mou_6</th>\n",
       "      <th>onnet_mou_7</th>\n",
       "      <th>...</th>\n",
       "      <th>sachet_3g_7</th>\n",
       "      <th>sachet_3g_8</th>\n",
       "      <th>fb_user_6</th>\n",
       "      <th>fb_user_7</th>\n",
       "      <th>fb_user_8</th>\n",
       "      <th>aon</th>\n",
       "      <th>aug_vbc_3g</th>\n",
       "      <th>jul_vbc_3g</th>\n",
       "      <th>jun_vbc_3g</th>\n",
       "      <th>churn_probability</th>\n",
       "    </tr>\n",
       "  </thead>\n",
       "  <tbody>\n",
       "    <tr>\n",
       "      <th>count</th>\n",
       "      <td>69999.000000</td>\n",
       "      <td>69999.0</td>\n",
       "      <td>69297.0</td>\n",
       "      <td>69297.0</td>\n",
       "      <td>69297.0</td>\n",
       "      <td>69999.000000</td>\n",
       "      <td>69999.000000</td>\n",
       "      <td>69999.000000</td>\n",
       "      <td>67231.000000</td>\n",
       "      <td>67312.000000</td>\n",
       "      <td>...</td>\n",
       "      <td>69999.000000</td>\n",
       "      <td>69999.000000</td>\n",
       "      <td>17568.000000</td>\n",
       "      <td>17865.000000</td>\n",
       "      <td>18417.000000</td>\n",
       "      <td>69999.000000</td>\n",
       "      <td>69999.000000</td>\n",
       "      <td>69999.000000</td>\n",
       "      <td>69999.00000</td>\n",
       "      <td>69999.000000</td>\n",
       "    </tr>\n",
       "    <tr>\n",
       "      <th>mean</th>\n",
       "      <td>34999.000000</td>\n",
       "      <td>109.0</td>\n",
       "      <td>0.0</td>\n",
       "      <td>0.0</td>\n",
       "      <td>0.0</td>\n",
       "      <td>283.134365</td>\n",
       "      <td>278.185912</td>\n",
       "      <td>278.858826</td>\n",
       "      <td>133.153275</td>\n",
       "      <td>133.894438</td>\n",
       "      <td>...</td>\n",
       "      <td>0.081444</td>\n",
       "      <td>0.085487</td>\n",
       "      <td>0.916325</td>\n",
       "      <td>0.909544</td>\n",
       "      <td>0.890319</td>\n",
       "      <td>1220.639709</td>\n",
       "      <td>68.108597</td>\n",
       "      <td>65.935830</td>\n",
       "      <td>60.07674</td>\n",
       "      <td>0.101887</td>\n",
       "    </tr>\n",
       "    <tr>\n",
       "      <th>std</th>\n",
       "      <td>20207.115084</td>\n",
       "      <td>0.0</td>\n",
       "      <td>0.0</td>\n",
       "      <td>0.0</td>\n",
       "      <td>0.0</td>\n",
       "      <td>334.213918</td>\n",
       "      <td>344.366927</td>\n",
       "      <td>351.924315</td>\n",
       "      <td>299.963093</td>\n",
       "      <td>311.277193</td>\n",
       "      <td>...</td>\n",
       "      <td>0.634547</td>\n",
       "      <td>0.680035</td>\n",
       "      <td>0.276907</td>\n",
       "      <td>0.286842</td>\n",
       "      <td>0.312501</td>\n",
       "      <td>952.426321</td>\n",
       "      <td>269.328659</td>\n",
       "      <td>267.899034</td>\n",
       "      <td>257.22681</td>\n",
       "      <td>0.302502</td>\n",
       "    </tr>\n",
       "    <tr>\n",
       "      <th>min</th>\n",
       "      <td>0.000000</td>\n",
       "      <td>109.0</td>\n",
       "      <td>0.0</td>\n",
       "      <td>0.0</td>\n",
       "      <td>0.0</td>\n",
       "      <td>-2258.709000</td>\n",
       "      <td>-1289.715000</td>\n",
       "      <td>-945.808000</td>\n",
       "      <td>0.000000</td>\n",
       "      <td>0.000000</td>\n",
       "      <td>...</td>\n",
       "      <td>0.000000</td>\n",
       "      <td>0.000000</td>\n",
       "      <td>0.000000</td>\n",
       "      <td>0.000000</td>\n",
       "      <td>0.000000</td>\n",
       "      <td>180.000000</td>\n",
       "      <td>0.000000</td>\n",
       "      <td>0.000000</td>\n",
       "      <td>0.00000</td>\n",
       "      <td>0.000000</td>\n",
       "    </tr>\n",
       "    <tr>\n",
       "      <th>25%</th>\n",
       "      <td>17499.500000</td>\n",
       "      <td>109.0</td>\n",
       "      <td>0.0</td>\n",
       "      <td>0.0</td>\n",
       "      <td>0.0</td>\n",
       "      <td>93.581000</td>\n",
       "      <td>86.714000</td>\n",
       "      <td>84.095000</td>\n",
       "      <td>7.410000</td>\n",
       "      <td>6.675000</td>\n",
       "      <td>...</td>\n",
       "      <td>0.000000</td>\n",
       "      <td>0.000000</td>\n",
       "      <td>1.000000</td>\n",
       "      <td>1.000000</td>\n",
       "      <td>1.000000</td>\n",
       "      <td>468.000000</td>\n",
       "      <td>0.000000</td>\n",
       "      <td>0.000000</td>\n",
       "      <td>0.00000</td>\n",
       "      <td>0.000000</td>\n",
       "    </tr>\n",
       "    <tr>\n",
       "      <th>50%</th>\n",
       "      <td>34999.000000</td>\n",
       "      <td>109.0</td>\n",
       "      <td>0.0</td>\n",
       "      <td>0.0</td>\n",
       "      <td>0.0</td>\n",
       "      <td>197.484000</td>\n",
       "      <td>191.588000</td>\n",
       "      <td>192.234000</td>\n",
       "      <td>34.110000</td>\n",
       "      <td>32.280000</td>\n",
       "      <td>...</td>\n",
       "      <td>0.000000</td>\n",
       "      <td>0.000000</td>\n",
       "      <td>1.000000</td>\n",
       "      <td>1.000000</td>\n",
       "      <td>1.000000</td>\n",
       "      <td>868.000000</td>\n",
       "      <td>0.000000</td>\n",
       "      <td>0.000000</td>\n",
       "      <td>0.00000</td>\n",
       "      <td>0.000000</td>\n",
       "    </tr>\n",
       "    <tr>\n",
       "      <th>75%</th>\n",
       "      <td>52498.500000</td>\n",
       "      <td>109.0</td>\n",
       "      <td>0.0</td>\n",
       "      <td>0.0</td>\n",
       "      <td>0.0</td>\n",
       "      <td>370.791000</td>\n",
       "      <td>365.369500</td>\n",
       "      <td>369.909000</td>\n",
       "      <td>119.390000</td>\n",
       "      <td>115.837500</td>\n",
       "      <td>...</td>\n",
       "      <td>0.000000</td>\n",
       "      <td>0.000000</td>\n",
       "      <td>1.000000</td>\n",
       "      <td>1.000000</td>\n",
       "      <td>1.000000</td>\n",
       "      <td>1813.000000</td>\n",
       "      <td>0.000000</td>\n",
       "      <td>0.000000</td>\n",
       "      <td>0.00000</td>\n",
       "      <td>0.000000</td>\n",
       "    </tr>\n",
       "    <tr>\n",
       "      <th>max</th>\n",
       "      <td>69998.000000</td>\n",
       "      <td>109.0</td>\n",
       "      <td>0.0</td>\n",
       "      <td>0.0</td>\n",
       "      <td>0.0</td>\n",
       "      <td>27731.088000</td>\n",
       "      <td>35145.834000</td>\n",
       "      <td>33543.624000</td>\n",
       "      <td>7376.710000</td>\n",
       "      <td>8157.780000</td>\n",
       "      <td>...</td>\n",
       "      <td>33.000000</td>\n",
       "      <td>41.000000</td>\n",
       "      <td>1.000000</td>\n",
       "      <td>1.000000</td>\n",
       "      <td>1.000000</td>\n",
       "      <td>4337.000000</td>\n",
       "      <td>12916.220000</td>\n",
       "      <td>9165.600000</td>\n",
       "      <td>11166.21000</td>\n",
       "      <td>1.000000</td>\n",
       "    </tr>\n",
       "  </tbody>\n",
       "</table>\n",
       "<p>8 rows × 163 columns</p>\n",
       "</div>"
      ],
      "text/plain": [
       "                 id  circle_id  loc_og_t2o_mou  std_og_t2o_mou  \\\n",
       "count  69999.000000    69999.0         69297.0         69297.0   \n",
       "mean   34999.000000      109.0             0.0             0.0   \n",
       "std    20207.115084        0.0             0.0             0.0   \n",
       "min        0.000000      109.0             0.0             0.0   \n",
       "25%    17499.500000      109.0             0.0             0.0   \n",
       "50%    34999.000000      109.0             0.0             0.0   \n",
       "75%    52498.500000      109.0             0.0             0.0   \n",
       "max    69998.000000      109.0             0.0             0.0   \n",
       "\n",
       "       loc_ic_t2o_mou        arpu_6        arpu_7        arpu_8   onnet_mou_6  \\\n",
       "count         69297.0  69999.000000  69999.000000  69999.000000  67231.000000   \n",
       "mean              0.0    283.134365    278.185912    278.858826    133.153275   \n",
       "std               0.0    334.213918    344.366927    351.924315    299.963093   \n",
       "min               0.0  -2258.709000  -1289.715000   -945.808000      0.000000   \n",
       "25%               0.0     93.581000     86.714000     84.095000      7.410000   \n",
       "50%               0.0    197.484000    191.588000    192.234000     34.110000   \n",
       "75%               0.0    370.791000    365.369500    369.909000    119.390000   \n",
       "max               0.0  27731.088000  35145.834000  33543.624000   7376.710000   \n",
       "\n",
       "        onnet_mou_7  ...   sachet_3g_7   sachet_3g_8     fb_user_6  \\\n",
       "count  67312.000000  ...  69999.000000  69999.000000  17568.000000   \n",
       "mean     133.894438  ...      0.081444      0.085487      0.916325   \n",
       "std      311.277193  ...      0.634547      0.680035      0.276907   \n",
       "min        0.000000  ...      0.000000      0.000000      0.000000   \n",
       "25%        6.675000  ...      0.000000      0.000000      1.000000   \n",
       "50%       32.280000  ...      0.000000      0.000000      1.000000   \n",
       "75%      115.837500  ...      0.000000      0.000000      1.000000   \n",
       "max     8157.780000  ...     33.000000     41.000000      1.000000   \n",
       "\n",
       "          fb_user_7     fb_user_8           aon    aug_vbc_3g    jul_vbc_3g  \\\n",
       "count  17865.000000  18417.000000  69999.000000  69999.000000  69999.000000   \n",
       "mean       0.909544      0.890319   1220.639709     68.108597     65.935830   \n",
       "std        0.286842      0.312501    952.426321    269.328659    267.899034   \n",
       "min        0.000000      0.000000    180.000000      0.000000      0.000000   \n",
       "25%        1.000000      1.000000    468.000000      0.000000      0.000000   \n",
       "50%        1.000000      1.000000    868.000000      0.000000      0.000000   \n",
       "75%        1.000000      1.000000   1813.000000      0.000000      0.000000   \n",
       "max        1.000000      1.000000   4337.000000  12916.220000   9165.600000   \n",
       "\n",
       "        jun_vbc_3g  churn_probability  \n",
       "count  69999.00000       69999.000000  \n",
       "mean      60.07674           0.101887  \n",
       "std      257.22681           0.302502  \n",
       "min        0.00000           0.000000  \n",
       "25%        0.00000           0.000000  \n",
       "50%        0.00000           0.000000  \n",
       "75%        0.00000           0.000000  \n",
       "max    11166.21000           1.000000  \n",
       "\n",
       "[8 rows x 163 columns]"
      ]
     },
     "execution_count": 5,
     "metadata": {},
     "output_type": "execute_result"
    }
   ],
   "source": [
    "#Describing the data in terms of range\n",
    "df_telecom_train.describe()"
   ]
  },
  {
   "cell_type": "markdown",
   "id": "c87a9399",
   "metadata": {},
   "source": [
    "## 2.4 Data Loading : Test Data Set"
   ]
  },
  {
   "cell_type": "code",
   "execution_count": 6,
   "id": "08d2fbe0",
   "metadata": {},
   "outputs": [
    {
     "data": {
      "text/html": [
       "<div>\n",
       "<style scoped>\n",
       "    .dataframe tbody tr th:only-of-type {\n",
       "        vertical-align: middle;\n",
       "    }\n",
       "\n",
       "    .dataframe tbody tr th {\n",
       "        vertical-align: top;\n",
       "    }\n",
       "\n",
       "    .dataframe thead th {\n",
       "        text-align: right;\n",
       "    }\n",
       "</style>\n",
       "<table border=\"1\" class=\"dataframe\">\n",
       "  <thead>\n",
       "    <tr style=\"text-align: right;\">\n",
       "      <th></th>\n",
       "      <th>id</th>\n",
       "      <th>circle_id</th>\n",
       "      <th>loc_og_t2o_mou</th>\n",
       "      <th>std_og_t2o_mou</th>\n",
       "      <th>loc_ic_t2o_mou</th>\n",
       "      <th>last_date_of_month_6</th>\n",
       "      <th>last_date_of_month_7</th>\n",
       "      <th>last_date_of_month_8</th>\n",
       "      <th>arpu_6</th>\n",
       "      <th>arpu_7</th>\n",
       "      <th>...</th>\n",
       "      <th>sachet_3g_6</th>\n",
       "      <th>sachet_3g_7</th>\n",
       "      <th>sachet_3g_8</th>\n",
       "      <th>fb_user_6</th>\n",
       "      <th>fb_user_7</th>\n",
       "      <th>fb_user_8</th>\n",
       "      <th>aon</th>\n",
       "      <th>aug_vbc_3g</th>\n",
       "      <th>jul_vbc_3g</th>\n",
       "      <th>jun_vbc_3g</th>\n",
       "    </tr>\n",
       "  </thead>\n",
       "  <tbody>\n",
       "    <tr>\n",
       "      <th>0</th>\n",
       "      <td>69999</td>\n",
       "      <td>109</td>\n",
       "      <td>0.0</td>\n",
       "      <td>0.0</td>\n",
       "      <td>0.0</td>\n",
       "      <td>6/30/2014</td>\n",
       "      <td>7/31/2014</td>\n",
       "      <td>8/31/2014</td>\n",
       "      <td>91.882</td>\n",
       "      <td>65.330</td>\n",
       "      <td>...</td>\n",
       "      <td>0</td>\n",
       "      <td>0</td>\n",
       "      <td>0</td>\n",
       "      <td>NaN</td>\n",
       "      <td>NaN</td>\n",
       "      <td>NaN</td>\n",
       "      <td>1692</td>\n",
       "      <td>0.00</td>\n",
       "      <td>0.00</td>\n",
       "      <td>0.00</td>\n",
       "    </tr>\n",
       "    <tr>\n",
       "      <th>1</th>\n",
       "      <td>70000</td>\n",
       "      <td>109</td>\n",
       "      <td>0.0</td>\n",
       "      <td>0.0</td>\n",
       "      <td>0.0</td>\n",
       "      <td>6/30/2014</td>\n",
       "      <td>7/31/2014</td>\n",
       "      <td>8/31/2014</td>\n",
       "      <td>414.168</td>\n",
       "      <td>515.568</td>\n",
       "      <td>...</td>\n",
       "      <td>0</td>\n",
       "      <td>0</td>\n",
       "      <td>0</td>\n",
       "      <td>NaN</td>\n",
       "      <td>NaN</td>\n",
       "      <td>NaN</td>\n",
       "      <td>2533</td>\n",
       "      <td>0.00</td>\n",
       "      <td>0.00</td>\n",
       "      <td>0.00</td>\n",
       "    </tr>\n",
       "    <tr>\n",
       "      <th>2</th>\n",
       "      <td>70001</td>\n",
       "      <td>109</td>\n",
       "      <td>0.0</td>\n",
       "      <td>0.0</td>\n",
       "      <td>0.0</td>\n",
       "      <td>6/30/2014</td>\n",
       "      <td>7/31/2014</td>\n",
       "      <td>8/31/2014</td>\n",
       "      <td>329.844</td>\n",
       "      <td>434.884</td>\n",
       "      <td>...</td>\n",
       "      <td>0</td>\n",
       "      <td>0</td>\n",
       "      <td>0</td>\n",
       "      <td>NaN</td>\n",
       "      <td>NaN</td>\n",
       "      <td>NaN</td>\n",
       "      <td>277</td>\n",
       "      <td>525.61</td>\n",
       "      <td>758.41</td>\n",
       "      <td>241.84</td>\n",
       "    </tr>\n",
       "    <tr>\n",
       "      <th>3</th>\n",
       "      <td>70002</td>\n",
       "      <td>109</td>\n",
       "      <td>0.0</td>\n",
       "      <td>0.0</td>\n",
       "      <td>0.0</td>\n",
       "      <td>6/30/2014</td>\n",
       "      <td>7/31/2014</td>\n",
       "      <td>8/31/2014</td>\n",
       "      <td>43.550</td>\n",
       "      <td>171.390</td>\n",
       "      <td>...</td>\n",
       "      <td>0</td>\n",
       "      <td>0</td>\n",
       "      <td>0</td>\n",
       "      <td>NaN</td>\n",
       "      <td>NaN</td>\n",
       "      <td>NaN</td>\n",
       "      <td>1244</td>\n",
       "      <td>0.00</td>\n",
       "      <td>0.00</td>\n",
       "      <td>0.00</td>\n",
       "    </tr>\n",
       "    <tr>\n",
       "      <th>4</th>\n",
       "      <td>70003</td>\n",
       "      <td>109</td>\n",
       "      <td>0.0</td>\n",
       "      <td>0.0</td>\n",
       "      <td>0.0</td>\n",
       "      <td>6/30/2014</td>\n",
       "      <td>7/31/2014</td>\n",
       "      <td>8/31/2014</td>\n",
       "      <td>306.854</td>\n",
       "      <td>406.289</td>\n",
       "      <td>...</td>\n",
       "      <td>0</td>\n",
       "      <td>0</td>\n",
       "      <td>0</td>\n",
       "      <td>NaN</td>\n",
       "      <td>NaN</td>\n",
       "      <td>NaN</td>\n",
       "      <td>462</td>\n",
       "      <td>0.00</td>\n",
       "      <td>0.00</td>\n",
       "      <td>0.00</td>\n",
       "    </tr>\n",
       "  </tbody>\n",
       "</table>\n",
       "<p>5 rows × 171 columns</p>\n",
       "</div>"
      ],
      "text/plain": [
       "      id  circle_id  loc_og_t2o_mou  std_og_t2o_mou  loc_ic_t2o_mou  \\\n",
       "0  69999        109             0.0             0.0             0.0   \n",
       "1  70000        109             0.0             0.0             0.0   \n",
       "2  70001        109             0.0             0.0             0.0   \n",
       "3  70002        109             0.0             0.0             0.0   \n",
       "4  70003        109             0.0             0.0             0.0   \n",
       "\n",
       "  last_date_of_month_6 last_date_of_month_7 last_date_of_month_8   arpu_6  \\\n",
       "0            6/30/2014            7/31/2014            8/31/2014   91.882   \n",
       "1            6/30/2014            7/31/2014            8/31/2014  414.168   \n",
       "2            6/30/2014            7/31/2014            8/31/2014  329.844   \n",
       "3            6/30/2014            7/31/2014            8/31/2014   43.550   \n",
       "4            6/30/2014            7/31/2014            8/31/2014  306.854   \n",
       "\n",
       "    arpu_7  ...  sachet_3g_6  sachet_3g_7  sachet_3g_8  fb_user_6  fb_user_7  \\\n",
       "0   65.330  ...            0            0            0        NaN        NaN   \n",
       "1  515.568  ...            0            0            0        NaN        NaN   \n",
       "2  434.884  ...            0            0            0        NaN        NaN   \n",
       "3  171.390  ...            0            0            0        NaN        NaN   \n",
       "4  406.289  ...            0            0            0        NaN        NaN   \n",
       "\n",
       "   fb_user_8   aon  aug_vbc_3g  jul_vbc_3g  jun_vbc_3g  \n",
       "0        NaN  1692        0.00        0.00        0.00  \n",
       "1        NaN  2533        0.00        0.00        0.00  \n",
       "2        NaN   277      525.61      758.41      241.84  \n",
       "3        NaN  1244        0.00        0.00        0.00  \n",
       "4        NaN   462        0.00        0.00        0.00  \n",
       "\n",
       "[5 rows x 171 columns]"
      ]
     },
     "execution_count": 6,
     "metadata": {},
     "output_type": "execute_result"
    }
   ],
   "source": [
    "df_telecom_test = pd.read_csv(\"test.csv\")#reading the CSV file as dataframe\n",
    "df_telecom_test.head() #diplaying the 1st few rows of the dataset"
   ]
  },
  {
   "cell_type": "markdown",
   "id": "6331c9c7",
   "metadata": {},
   "source": [
    "## 2.5. Data Description : Test Data Set"
   ]
  },
  {
   "cell_type": "code",
   "execution_count": 7,
   "id": "348a0522",
   "metadata": {},
   "outputs": [
    {
     "data": {
      "text/plain": [
       "(30000, 171)"
      ]
     },
     "execution_count": 7,
     "metadata": {},
     "output_type": "execute_result"
    }
   ],
   "source": [
    "#Finding the number of rows and columns in the data\n",
    "df_telecom_test.shape"
   ]
  },
  {
   "cell_type": "markdown",
   "id": "f8864466",
   "metadata": {},
   "source": [
    "##### Observations : There are 30000 Rows & 171 Columns in the Train Dataset."
   ]
  },
  {
   "cell_type": "code",
   "execution_count": 8,
   "id": "6e234fc5",
   "metadata": {},
   "outputs": [
    {
     "name": "stdout",
     "output_type": "stream",
     "text": [
      "<class 'pandas.core.frame.DataFrame'>\n",
      "RangeIndex: 30000 entries, 0 to 29999\n",
      "Columns: 171 entries, id to jun_vbc_3g\n",
      "dtypes: float64(135), int64(27), object(9)\n",
      "memory usage: 39.1+ MB\n"
     ]
    }
   ],
   "source": [
    "#Fetching the information that we can get from the dataset\n",
    "df_telecom_test.info()"
   ]
  },
  {
   "cell_type": "code",
   "execution_count": 9,
   "id": "f4b449d7",
   "metadata": {},
   "outputs": [
    {
     "data": {
      "text/html": [
       "<div>\n",
       "<style scoped>\n",
       "    .dataframe tbody tr th:only-of-type {\n",
       "        vertical-align: middle;\n",
       "    }\n",
       "\n",
       "    .dataframe tbody tr th {\n",
       "        vertical-align: top;\n",
       "    }\n",
       "\n",
       "    .dataframe thead th {\n",
       "        text-align: right;\n",
       "    }\n",
       "</style>\n",
       "<table border=\"1\" class=\"dataframe\">\n",
       "  <thead>\n",
       "    <tr style=\"text-align: right;\">\n",
       "      <th></th>\n",
       "      <th>id</th>\n",
       "      <th>circle_id</th>\n",
       "      <th>loc_og_t2o_mou</th>\n",
       "      <th>std_og_t2o_mou</th>\n",
       "      <th>loc_ic_t2o_mou</th>\n",
       "      <th>arpu_6</th>\n",
       "      <th>arpu_7</th>\n",
       "      <th>arpu_8</th>\n",
       "      <th>onnet_mou_6</th>\n",
       "      <th>onnet_mou_7</th>\n",
       "      <th>...</th>\n",
       "      <th>sachet_3g_6</th>\n",
       "      <th>sachet_3g_7</th>\n",
       "      <th>sachet_3g_8</th>\n",
       "      <th>fb_user_6</th>\n",
       "      <th>fb_user_7</th>\n",
       "      <th>fb_user_8</th>\n",
       "      <th>aon</th>\n",
       "      <th>aug_vbc_3g</th>\n",
       "      <th>jul_vbc_3g</th>\n",
       "      <th>jun_vbc_3g</th>\n",
       "    </tr>\n",
       "  </thead>\n",
       "  <tbody>\n",
       "    <tr>\n",
       "      <th>count</th>\n",
       "      <td>30000.000000</td>\n",
       "      <td>30000.0</td>\n",
       "      <td>29684.0</td>\n",
       "      <td>29684.0</td>\n",
       "      <td>29684.0</td>\n",
       "      <td>30000.000000</td>\n",
       "      <td>30000.000000</td>\n",
       "      <td>30000.000000</td>\n",
       "      <td>28831.000000</td>\n",
       "      <td>28828.000000</td>\n",
       "      <td>...</td>\n",
       "      <td>30000.000000</td>\n",
       "      <td>30000.000000</td>\n",
       "      <td>30000.000000</td>\n",
       "      <td>7585.000000</td>\n",
       "      <td>7706.000000</td>\n",
       "      <td>7922.000000</td>\n",
       "      <td>30000.000000</td>\n",
       "      <td>30000.000000</td>\n",
       "      <td>30000.000000</td>\n",
       "      <td>30000.000000</td>\n",
       "    </tr>\n",
       "    <tr>\n",
       "      <th>mean</th>\n",
       "      <td>84998.500000</td>\n",
       "      <td>109.0</td>\n",
       "      <td>0.0</td>\n",
       "      <td>0.0</td>\n",
       "      <td>0.0</td>\n",
       "      <td>282.644348</td>\n",
       "      <td>279.355021</td>\n",
       "      <td>279.845167</td>\n",
       "      <td>130.629693</td>\n",
       "      <td>133.148632</td>\n",
       "      <td>...</td>\n",
       "      <td>0.073467</td>\n",
       "      <td>0.077967</td>\n",
       "      <td>0.082200</td>\n",
       "      <td>0.909954</td>\n",
       "      <td>0.906956</td>\n",
       "      <td>0.891946</td>\n",
       "      <td>1218.023200</td>\n",
       "      <td>68.314097</td>\n",
       "      <td>68.946576</td>\n",
       "      <td>59.891621</td>\n",
       "    </tr>\n",
       "    <tr>\n",
       "      <th>std</th>\n",
       "      <td>8660.398374</td>\n",
       "      <td>0.0</td>\n",
       "      <td>0.0</td>\n",
       "      <td>0.0</td>\n",
       "      <td>0.0</td>\n",
       "      <td>314.560212</td>\n",
       "      <td>323.205370</td>\n",
       "      <td>326.437029</td>\n",
       "      <td>290.677420</td>\n",
       "      <td>302.921820</td>\n",
       "      <td>...</td>\n",
       "      <td>0.557327</td>\n",
       "      <td>0.613596</td>\n",
       "      <td>0.611546</td>\n",
       "      <td>0.286267</td>\n",
       "      <td>0.290513</td>\n",
       "      <td>0.310468</td>\n",
       "      <td>960.109844</td>\n",
       "      <td>263.460641</td>\n",
       "      <td>278.749349</td>\n",
       "      <td>246.098292</td>\n",
       "    </tr>\n",
       "    <tr>\n",
       "      <th>min</th>\n",
       "      <td>69999.000000</td>\n",
       "      <td>109.0</td>\n",
       "      <td>0.0</td>\n",
       "      <td>0.0</td>\n",
       "      <td>0.0</td>\n",
       "      <td>-185.043000</td>\n",
       "      <td>-2014.045000</td>\n",
       "      <td>-146.859000</td>\n",
       "      <td>0.000000</td>\n",
       "      <td>0.000000</td>\n",
       "      <td>...</td>\n",
       "      <td>0.000000</td>\n",
       "      <td>0.000000</td>\n",
       "      <td>0.000000</td>\n",
       "      <td>0.000000</td>\n",
       "      <td>0.000000</td>\n",
       "      <td>0.000000</td>\n",
       "      <td>180.000000</td>\n",
       "      <td>0.000000</td>\n",
       "      <td>0.000000</td>\n",
       "      <td>0.000000</td>\n",
       "    </tr>\n",
       "    <tr>\n",
       "      <th>25%</th>\n",
       "      <td>77498.750000</td>\n",
       "      <td>109.0</td>\n",
       "      <td>0.0</td>\n",
       "      <td>0.0</td>\n",
       "      <td>0.0</td>\n",
       "      <td>92.907500</td>\n",
       "      <td>87.504750</td>\n",
       "      <td>84.180500</td>\n",
       "      <td>7.280000</td>\n",
       "      <td>6.660000</td>\n",
       "      <td>...</td>\n",
       "      <td>0.000000</td>\n",
       "      <td>0.000000</td>\n",
       "      <td>0.000000</td>\n",
       "      <td>1.000000</td>\n",
       "      <td>1.000000</td>\n",
       "      <td>1.000000</td>\n",
       "      <td>466.000000</td>\n",
       "      <td>0.000000</td>\n",
       "      <td>0.000000</td>\n",
       "      <td>0.000000</td>\n",
       "    </tr>\n",
       "    <tr>\n",
       "      <th>50%</th>\n",
       "      <td>84998.500000</td>\n",
       "      <td>109.0</td>\n",
       "      <td>0.0</td>\n",
       "      <td>0.0</td>\n",
       "      <td>0.0</td>\n",
       "      <td>198.227500</td>\n",
       "      <td>191.775000</td>\n",
       "      <td>191.690500</td>\n",
       "      <td>34.760000</td>\n",
       "      <td>32.550000</td>\n",
       "      <td>...</td>\n",
       "      <td>0.000000</td>\n",
       "      <td>0.000000</td>\n",
       "      <td>0.000000</td>\n",
       "      <td>1.000000</td>\n",
       "      <td>1.000000</td>\n",
       "      <td>1.000000</td>\n",
       "      <td>853.000000</td>\n",
       "      <td>0.000000</td>\n",
       "      <td>0.000000</td>\n",
       "      <td>0.000000</td>\n",
       "    </tr>\n",
       "    <tr>\n",
       "      <th>75%</th>\n",
       "      <td>92498.250000</td>\n",
       "      <td>109.0</td>\n",
       "      <td>0.0</td>\n",
       "      <td>0.0</td>\n",
       "      <td>0.0</td>\n",
       "      <td>371.969250</td>\n",
       "      <td>365.250750</td>\n",
       "      <td>367.804750</td>\n",
       "      <td>117.170000</td>\n",
       "      <td>115.210000</td>\n",
       "      <td>...</td>\n",
       "      <td>0.000000</td>\n",
       "      <td>0.000000</td>\n",
       "      <td>0.000000</td>\n",
       "      <td>1.000000</td>\n",
       "      <td>1.000000</td>\n",
       "      <td>1.000000</td>\n",
       "      <td>1795.000000</td>\n",
       "      <td>0.000000</td>\n",
       "      <td>0.000000</td>\n",
       "      <td>0.000000</td>\n",
       "    </tr>\n",
       "    <tr>\n",
       "      <th>max</th>\n",
       "      <td>99998.000000</td>\n",
       "      <td>109.0</td>\n",
       "      <td>0.0</td>\n",
       "      <td>0.0</td>\n",
       "      <td>0.0</td>\n",
       "      <td>10955.066000</td>\n",
       "      <td>13224.119000</td>\n",
       "      <td>13505.996000</td>\n",
       "      <td>6944.360000</td>\n",
       "      <td>7411.010000</td>\n",
       "      <td>...</td>\n",
       "      <td>28.000000</td>\n",
       "      <td>35.000000</td>\n",
       "      <td>30.000000</td>\n",
       "      <td>1.000000</td>\n",
       "      <td>1.000000</td>\n",
       "      <td>1.000000</td>\n",
       "      <td>4197.000000</td>\n",
       "      <td>6054.390000</td>\n",
       "      <td>7994.840000</td>\n",
       "      <td>6614.530000</td>\n",
       "    </tr>\n",
       "  </tbody>\n",
       "</table>\n",
       "<p>8 rows × 162 columns</p>\n",
       "</div>"
      ],
      "text/plain": [
       "                 id  circle_id  loc_og_t2o_mou  std_og_t2o_mou  \\\n",
       "count  30000.000000    30000.0         29684.0         29684.0   \n",
       "mean   84998.500000      109.0             0.0             0.0   \n",
       "std     8660.398374        0.0             0.0             0.0   \n",
       "min    69999.000000      109.0             0.0             0.0   \n",
       "25%    77498.750000      109.0             0.0             0.0   \n",
       "50%    84998.500000      109.0             0.0             0.0   \n",
       "75%    92498.250000      109.0             0.0             0.0   \n",
       "max    99998.000000      109.0             0.0             0.0   \n",
       "\n",
       "       loc_ic_t2o_mou        arpu_6        arpu_7        arpu_8   onnet_mou_6  \\\n",
       "count         29684.0  30000.000000  30000.000000  30000.000000  28831.000000   \n",
       "mean              0.0    282.644348    279.355021    279.845167    130.629693   \n",
       "std               0.0    314.560212    323.205370    326.437029    290.677420   \n",
       "min               0.0   -185.043000  -2014.045000   -146.859000      0.000000   \n",
       "25%               0.0     92.907500     87.504750     84.180500      7.280000   \n",
       "50%               0.0    198.227500    191.775000    191.690500     34.760000   \n",
       "75%               0.0    371.969250    365.250750    367.804750    117.170000   \n",
       "max               0.0  10955.066000  13224.119000  13505.996000   6944.360000   \n",
       "\n",
       "        onnet_mou_7  ...   sachet_3g_6   sachet_3g_7   sachet_3g_8  \\\n",
       "count  28828.000000  ...  30000.000000  30000.000000  30000.000000   \n",
       "mean     133.148632  ...      0.073467      0.077967      0.082200   \n",
       "std      302.921820  ...      0.557327      0.613596      0.611546   \n",
       "min        0.000000  ...      0.000000      0.000000      0.000000   \n",
       "25%        6.660000  ...      0.000000      0.000000      0.000000   \n",
       "50%       32.550000  ...      0.000000      0.000000      0.000000   \n",
       "75%      115.210000  ...      0.000000      0.000000      0.000000   \n",
       "max     7411.010000  ...     28.000000     35.000000     30.000000   \n",
       "\n",
       "         fb_user_6    fb_user_7    fb_user_8           aon    aug_vbc_3g  \\\n",
       "count  7585.000000  7706.000000  7922.000000  30000.000000  30000.000000   \n",
       "mean      0.909954     0.906956     0.891946   1218.023200     68.314097   \n",
       "std       0.286267     0.290513     0.310468    960.109844    263.460641   \n",
       "min       0.000000     0.000000     0.000000    180.000000      0.000000   \n",
       "25%       1.000000     1.000000     1.000000    466.000000      0.000000   \n",
       "50%       1.000000     1.000000     1.000000    853.000000      0.000000   \n",
       "75%       1.000000     1.000000     1.000000   1795.000000      0.000000   \n",
       "max       1.000000     1.000000     1.000000   4197.000000   6054.390000   \n",
       "\n",
       "         jul_vbc_3g    jun_vbc_3g  \n",
       "count  30000.000000  30000.000000  \n",
       "mean      68.946576     59.891621  \n",
       "std      278.749349    246.098292  \n",
       "min        0.000000      0.000000  \n",
       "25%        0.000000      0.000000  \n",
       "50%        0.000000      0.000000  \n",
       "75%        0.000000      0.000000  \n",
       "max     7994.840000   6614.530000  \n",
       "\n",
       "[8 rows x 162 columns]"
      ]
     },
     "execution_count": 9,
     "metadata": {},
     "output_type": "execute_result"
    }
   ],
   "source": [
    "#Describing the data in terms of range\n",
    "df_telecom_test.describe()"
   ]
  },
  {
   "cell_type": "markdown",
   "id": "322b48bd",
   "metadata": {},
   "source": [
    "## 2.6 Data Preparation"
   ]
  },
  {
   "cell_type": "markdown",
   "id": "a9929f2d",
   "metadata": {},
   "source": [
    "**We are assuming that there are three phases of customer lifecycle :**\n",
    "- The ‘good’ phase [Month 6 & 7]\n",
    "- The ‘action’ phase [Month 8]\n",
    "- The ‘churn’ phase [Month 9]\n",
    "\n",
    "In this case, we are working over a four-month window, the first two months are the **good** phase, the third month is the **action** phase, while the fourth month is the **churn** phase."
   ]
  },
  {
   "cell_type": "markdown",
   "id": "c3815d7e",
   "metadata": {},
   "source": [
    "### Lets **DERIVE NEW COLUMNS** based on few observations"
   ]
  },
  {
   "cell_type": "code",
   "execution_count": 10,
   "id": "be84f54c",
   "metadata": {
    "scrolled": true
   },
   "outputs": [
    {
     "name": "stdout",
     "output_type": "stream",
     "text": [
      "Index(['total_rech_amt_6', 'total_rech_amt_7', 'total_rech_amt_8',\n",
      "       'max_rech_amt_6', 'max_rech_amt_7', 'max_rech_amt_8',\n",
      "       'date_of_last_rech_data_6', 'date_of_last_rech_data_7',\n",
      "       'date_of_last_rech_data_8', 'total_rech_data_6', 'total_rech_data_7',\n",
      "       'total_rech_data_8', 'max_rech_data_6', 'max_rech_data_7',\n",
      "       'max_rech_data_8', 'av_rech_amt_data_6', 'av_rech_amt_data_7',\n",
      "       'av_rech_amt_data_8'],\n",
      "      dtype='object') \n",
      "\n",
      "The are in total 18 Columns containing Recharge Amount\n"
     ]
    }
   ],
   "source": [
    "#Extracting list of columns containing recharge amount\n",
    "recharge_columns =  df_telecom_train.columns[df_telecom_train.columns.str.contains('rech_amt|rech_data')]\n",
    "print(recharge_columns,\"\\n\")\n",
    "print(\"The are in total\",len(recharge_columns),\"Columns containing Recharge Amount\")"
   ]
  },
  {
   "cell_type": "code",
   "execution_count": 11,
   "id": "145aaecb",
   "metadata": {},
   "outputs": [
    {
     "data": {
      "text/plain": [
       "total_rech_amt_6             0.00\n",
       "total_rech_amt_7             0.00\n",
       "total_rech_amt_8             0.00\n",
       "max_rech_amt_6               0.00\n",
       "max_rech_amt_7               0.00\n",
       "max_rech_amt_8               0.00\n",
       "date_of_last_rech_data_6    74.90\n",
       "date_of_last_rech_data_7    74.48\n",
       "date_of_last_rech_data_8    73.69\n",
       "total_rech_data_6           74.90\n",
       "total_rech_data_7           74.48\n",
       "total_rech_data_8           73.69\n",
       "max_rech_data_6             74.90\n",
       "max_rech_data_7             74.48\n",
       "max_rech_data_8             73.69\n",
       "av_rech_amt_data_6          74.90\n",
       "av_rech_amt_data_7          74.48\n",
       "av_rech_amt_data_8          73.69\n",
       "dtype: float64"
      ]
     },
     "execution_count": 11,
     "metadata": {},
     "output_type": "execute_result"
    }
   ],
   "source": [
    "#Checking missing values percentages\n",
    "telecom_df_null_check = 100*df_telecom_train.loc[:,recharge_columns].isnull().sum()/len(df_telecom_train)\n",
    "telecom_df_null_check = telecom_df_null_check.round(decimals = 2)\n",
    "telecom_df_null_check"
   ]
  },
  {
   "cell_type": "markdown",
   "id": "58a27473",
   "metadata": {},
   "source": [
    "##### Observations : For most of the columns more then `74%` values for **recharge** related data are missing."
   ]
  },
  {
   "cell_type": "code",
   "execution_count": 12,
   "id": "ae0b6e4d",
   "metadata": {},
   "outputs": [],
   "source": [
    "#Replacing the NAN values with 0, considering there were no recharges done by the customer.\n",
    "df_telecom_train['total_rech_data_6'] = df_telecom_train['total_rech_data_6'].replace(np.NaN,0.0)\n",
    "df_telecom_train['total_rech_data_7'] = df_telecom_train['total_rech_data_7'].replace(np.NaN,0.0)\n",
    "df_telecom_train['total_rech_data_8'] = df_telecom_train['total_rech_data_8'].replace(np.NaN,0.0)\n",
    "df_telecom_train['av_rech_amt_data_6'] = df_telecom_train['av_rech_amt_data_6'].replace(np.NaN,0.0)\n",
    "df_telecom_train['av_rech_amt_data_7'] = df_telecom_train['av_rech_amt_data_7'].replace(np.NaN,0.0)\n",
    "df_telecom_train['av_rech_amt_data_8'] = df_telecom_train['av_rech_amt_data_8'].replace(np.NaN,0.0)"
   ]
  },
  {
   "cell_type": "code",
   "execution_count": 13,
   "id": "614037e9",
   "metadata": {},
   "outputs": [],
   "source": [
    "#let's adding new column total recharge amount for data: total_rech_amt_data for calculating High Value customer process\n",
    "df_telecom_train['total_rech_amt_data_6'] = df_telecom_train.av_rech_amt_data_6 + df_telecom_train.total_rech_data_6\n",
    "df_telecom_train['total_rech_amt_data_7'] = df_telecom_train.av_rech_amt_data_7 + df_telecom_train.total_rech_data_7\n",
    "df_telecom_train['total_rech_amt_data_8'] = df_telecom_train.av_rech_amt_data_8 + df_telecom_train.total_rech_data_8"
   ]
  },
  {
   "cell_type": "code",
   "execution_count": 14,
   "id": "d2283942",
   "metadata": {},
   "outputs": [],
   "source": [
    "#Defining total average recharge amount for good phase for months 6 and 7 (the good phase)\n",
    "df_telecom_train['total_avg_rech_amnt_6_7_GPhase'] = (df_telecom_train.total_rech_amt_6 + df_telecom_train.total_rech_amt_data_6+ df_telecom_train.total_rech_amt_7+ df_telecom_train.total_rech_amt_data_7)/2"
   ]
  },
  {
   "cell_type": "markdown",
   "id": "c9393545",
   "metadata": {},
   "source": [
    "### Lets FILTER HIGH VALUED CUSTOMERS based on few observations"
   ]
  },
  {
   "cell_type": "markdown",
   "id": "46bcbe5f",
   "metadata": {},
   "source": [
    "- **Those who have recharged with an amount more than or equal to X, where X is greater than 70th percentile of the average recharge amount in the first two months (the good phase)**"
   ]
  },
  {
   "cell_type": "code",
   "execution_count": 15,
   "id": "f1e35201",
   "metadata": {
    "scrolled": true
   },
   "outputs": [
    {
     "name": "stdout",
     "output_type": "stream",
     "text": [
      "70 percentile of 6th and 7th months avg recharge amount: 432.5 \n",
      "\n",
      "Dataframe Shape after Filtering High Value Customers: (20984, 176) \n",
      "\n"
     ]
    }
   ],
   "source": [
    "# create a filter for values greater than 70th percentile of total average recharge amount for good phase \n",
    "high_value_filter = df_telecom_train.total_avg_rech_amnt_6_7_GPhase.quantile(0.7)\n",
    "print('70 percentile of 6th and 7th months avg recharge amount: '+str(high_value_filter),\"\\n\")\n",
    "\n",
    "telecom_df_high_val_cust = df_telecom_train[df_telecom_train.total_avg_rech_amnt_6_7_GPhase > high_value_filter]\n",
    "print('Dataframe Shape after Filtering High Value Customers: ' + str(telecom_df_high_val_cust.shape),\"\\n\")"
   ]
  },
  {
   "cell_type": "markdown",
   "id": "f8c41b18",
   "metadata": {},
   "source": [
    "### Tag churners and remove attributes of the churn phase"
   ]
  },
  {
   "cell_type": "markdown",
   "id": "7aaafcb4",
   "metadata": {},
   "source": [
    "- Now tagging the churned customers (churn = 1, else 0) based on the fourth month as follows: Those who have not made any calls (either incoming or outgoing) AND have not used mobile internet even once in the churn phase. \n",
    "- The attributes we need to use to tag churners are:\n",
    "    - total_ic_mou_8\n",
    "    - total_og_mou_8\n",
    "    - vol_2g_mb_8\n",
    "    - vol_3g_mb_8\n",
    "- After tagging churners, we will remove all the attributes corresponding to the churn phase (all attributes having ‘ _8’, etc. in their names)."
   ]
  },
  {
   "cell_type": "code",
   "execution_count": 16,
   "id": "340668d3",
   "metadata": {},
   "outputs": [],
   "source": [
    "#taking all the mentioned columns in a dataframe\n",
    "high_val_cust_8 = ['total_ic_mou_8', 'total_og_mou_8', 'vol_2g_mb_8','vol_3g_mb_8']"
   ]
  },
  {
   "cell_type": "code",
   "execution_count": 17,
   "id": "27de054d",
   "metadata": {},
   "outputs": [
    {
     "data": {
      "text/plain": [
       "total_ic_mou_8    0.0\n",
       "total_og_mou_8    0.0\n",
       "vol_2g_mb_8       0.0\n",
       "vol_3g_mb_8       0.0\n",
       "dtype: float64"
      ]
     },
     "execution_count": 17,
     "metadata": {},
     "output_type": "execute_result"
    }
   ],
   "source": [
    "# Checking the NA/Null values are present or Not\n",
    "df = 100*telecom_df_high_val_cust.loc[:,high_val_cust_8].isnull().sum()/len(telecom_df_high_val_cust)\n",
    "df"
   ]
  },
  {
   "cell_type": "code",
   "execution_count": 18,
   "id": "51c99ed5",
   "metadata": {},
   "outputs": [],
   "source": [
    "# Initially set all the values as 0\n",
    "telecom_df_high_val_cust['churn']= 0"
   ]
  },
  {
   "cell_type": "code",
   "execution_count": 19,
   "id": "af75d696",
   "metadata": {},
   "outputs": [],
   "source": [
    "#is_churned boolean flag for customers where above values are zero\n",
    "is_churned = (telecom_df_high_val_cust.total_ic_mou_8 == 0) & \\\n",
    "             (telecom_df_high_val_cust.total_og_mou_8 == 0) & \\\n",
    "             (telecom_df_high_val_cust.vol_2g_mb_8 ==0) & \\\n",
    "             (telecom_df_high_val_cust.vol_3g_mb_8 ==0)\n",
    "# set all which having is_churned True condition as 1\n",
    "telecom_df_high_val_cust.loc[is_churned,'churn']=1"
   ]
  },
  {
   "cell_type": "code",
   "execution_count": 20,
   "id": "98104afc",
   "metadata": {},
   "outputs": [
    {
     "name": "stdout",
     "output_type": "stream",
     "text": [
      "The Percentage of Churned Customers are 5.47 %\n"
     ]
    }
   ],
   "source": [
    "# let us check what's the % of churned customers\n",
    "print(\"The Percentage of Churned Customers are\",round(100*telecom_df_high_val_cust.churn.sum()/len(telecom_df_high_val_cust),2),\"%\")"
   ]
  },
  {
   "cell_type": "code",
   "execution_count": 21,
   "id": "3396c22c",
   "metadata": {},
   "outputs": [
    {
     "data": {
      "text/html": [
       "<div>\n",
       "<style scoped>\n",
       "    .dataframe tbody tr th:only-of-type {\n",
       "        vertical-align: middle;\n",
       "    }\n",
       "\n",
       "    .dataframe tbody tr th {\n",
       "        vertical-align: top;\n",
       "    }\n",
       "\n",
       "    .dataframe thead th {\n",
       "        text-align: right;\n",
       "    }\n",
       "</style>\n",
       "<table border=\"1\" class=\"dataframe\">\n",
       "  <thead>\n",
       "    <tr style=\"text-align: right;\">\n",
       "      <th></th>\n",
       "      <th>id</th>\n",
       "      <th>circle_id</th>\n",
       "      <th>loc_og_t2o_mou</th>\n",
       "      <th>std_og_t2o_mou</th>\n",
       "      <th>loc_ic_t2o_mou</th>\n",
       "      <th>last_date_of_month_6</th>\n",
       "      <th>last_date_of_month_7</th>\n",
       "      <th>last_date_of_month_8</th>\n",
       "      <th>arpu_6</th>\n",
       "      <th>arpu_7</th>\n",
       "      <th>...</th>\n",
       "      <th>aon</th>\n",
       "      <th>aug_vbc_3g</th>\n",
       "      <th>jul_vbc_3g</th>\n",
       "      <th>jun_vbc_3g</th>\n",
       "      <th>churn_probability</th>\n",
       "      <th>total_rech_amt_data_6</th>\n",
       "      <th>total_rech_amt_data_7</th>\n",
       "      <th>total_rech_amt_data_8</th>\n",
       "      <th>total_avg_rech_amnt_6_7_GPhase</th>\n",
       "      <th>churn</th>\n",
       "    </tr>\n",
       "  </thead>\n",
       "  <tbody>\n",
       "    <tr>\n",
       "      <th>12</th>\n",
       "      <td>12</td>\n",
       "      <td>109</td>\n",
       "      <td>0.0</td>\n",
       "      <td>0.0</td>\n",
       "      <td>0.0</td>\n",
       "      <td>6/30/2014</td>\n",
       "      <td>7/31/2014</td>\n",
       "      <td>8/31/2014</td>\n",
       "      <td>439.919</td>\n",
       "      <td>397.946</td>\n",
       "      <td>...</td>\n",
       "      <td>322</td>\n",
       "      <td>0.00</td>\n",
       "      <td>0.00</td>\n",
       "      <td>0.00</td>\n",
       "      <td>0</td>\n",
       "      <td>0.0</td>\n",
       "      <td>0.0</td>\n",
       "      <td>0.0</td>\n",
       "      <td>469.5</td>\n",
       "      <td>0</td>\n",
       "    </tr>\n",
       "    <tr>\n",
       "      <th>15</th>\n",
       "      <td>15</td>\n",
       "      <td>109</td>\n",
       "      <td>0.0</td>\n",
       "      <td>0.0</td>\n",
       "      <td>0.0</td>\n",
       "      <td>6/30/2014</td>\n",
       "      <td>7/31/2014</td>\n",
       "      <td>8/31/2014</td>\n",
       "      <td>580.549</td>\n",
       "      <td>377.294</td>\n",
       "      <td>...</td>\n",
       "      <td>602</td>\n",
       "      <td>0.00</td>\n",
       "      <td>0.00</td>\n",
       "      <td>0.00</td>\n",
       "      <td>0</td>\n",
       "      <td>155.0</td>\n",
       "      <td>0.0</td>\n",
       "      <td>155.0</td>\n",
       "      <td>604.5</td>\n",
       "      <td>0</td>\n",
       "    </tr>\n",
       "    <tr>\n",
       "      <th>23</th>\n",
       "      <td>23</td>\n",
       "      <td>109</td>\n",
       "      <td>0.0</td>\n",
       "      <td>0.0</td>\n",
       "      <td>0.0</td>\n",
       "      <td>6/30/2014</td>\n",
       "      <td>7/31/2014</td>\n",
       "      <td>8/31/2014</td>\n",
       "      <td>1130.948</td>\n",
       "      <td>905.506</td>\n",
       "      <td>...</td>\n",
       "      <td>455</td>\n",
       "      <td>0.00</td>\n",
       "      <td>0.00</td>\n",
       "      <td>0.00</td>\n",
       "      <td>0</td>\n",
       "      <td>0.0</td>\n",
       "      <td>0.0</td>\n",
       "      <td>0.0</td>\n",
       "      <td>1205.0</td>\n",
       "      <td>0</td>\n",
       "    </tr>\n",
       "    <tr>\n",
       "      <th>24</th>\n",
       "      <td>24</td>\n",
       "      <td>109</td>\n",
       "      <td>0.0</td>\n",
       "      <td>0.0</td>\n",
       "      <td>0.0</td>\n",
       "      <td>6/30/2014</td>\n",
       "      <td>7/31/2014</td>\n",
       "      <td>8/31/2014</td>\n",
       "      <td>371.974</td>\n",
       "      <td>352.069</td>\n",
       "      <td>...</td>\n",
       "      <td>1219</td>\n",
       "      <td>0.00</td>\n",
       "      <td>0.00</td>\n",
       "      <td>0.00</td>\n",
       "      <td>0</td>\n",
       "      <td>24.0</td>\n",
       "      <td>48.0</td>\n",
       "      <td>24.0</td>\n",
       "      <td>469.5</td>\n",
       "      <td>0</td>\n",
       "    </tr>\n",
       "    <tr>\n",
       "      <th>27</th>\n",
       "      <td>27</td>\n",
       "      <td>109</td>\n",
       "      <td>0.0</td>\n",
       "      <td>0.0</td>\n",
       "      <td>0.0</td>\n",
       "      <td>6/30/2014</td>\n",
       "      <td>7/31/2014</td>\n",
       "      <td>8/31/2014</td>\n",
       "      <td>390.489</td>\n",
       "      <td>350.985</td>\n",
       "      <td>...</td>\n",
       "      <td>573</td>\n",
       "      <td>700.40</td>\n",
       "      <td>185.71</td>\n",
       "      <td>173.72</td>\n",
       "      <td>0</td>\n",
       "      <td>209.0</td>\n",
       "      <td>306.0</td>\n",
       "      <td>217.0</td>\n",
       "      <td>826.0</td>\n",
       "      <td>0</td>\n",
       "    </tr>\n",
       "    <tr>\n",
       "      <th>...</th>\n",
       "      <td>...</td>\n",
       "      <td>...</td>\n",
       "      <td>...</td>\n",
       "      <td>...</td>\n",
       "      <td>...</td>\n",
       "      <td>...</td>\n",
       "      <td>...</td>\n",
       "      <td>...</td>\n",
       "      <td>...</td>\n",
       "      <td>...</td>\n",
       "      <td>...</td>\n",
       "      <td>...</td>\n",
       "      <td>...</td>\n",
       "      <td>...</td>\n",
       "      <td>...</td>\n",
       "      <td>...</td>\n",
       "      <td>...</td>\n",
       "      <td>...</td>\n",
       "      <td>...</td>\n",
       "      <td>...</td>\n",
       "      <td>...</td>\n",
       "    </tr>\n",
       "    <tr>\n",
       "      <th>69982</th>\n",
       "      <td>69982</td>\n",
       "      <td>109</td>\n",
       "      <td>0.0</td>\n",
       "      <td>0.0</td>\n",
       "      <td>0.0</td>\n",
       "      <td>6/30/2014</td>\n",
       "      <td>7/31/2014</td>\n",
       "      <td>8/31/2014</td>\n",
       "      <td>146.927</td>\n",
       "      <td>458.054</td>\n",
       "      <td>...</td>\n",
       "      <td>1577</td>\n",
       "      <td>0.00</td>\n",
       "      <td>0.00</td>\n",
       "      <td>0.00</td>\n",
       "      <td>0</td>\n",
       "      <td>0.0</td>\n",
       "      <td>276.0</td>\n",
       "      <td>0.0</td>\n",
       "      <td>449.0</td>\n",
       "      <td>0</td>\n",
       "    </tr>\n",
       "    <tr>\n",
       "      <th>69984</th>\n",
       "      <td>69984</td>\n",
       "      <td>109</td>\n",
       "      <td>0.0</td>\n",
       "      <td>0.0</td>\n",
       "      <td>0.0</td>\n",
       "      <td>6/30/2014</td>\n",
       "      <td>7/31/2014</td>\n",
       "      <td>8/31/2014</td>\n",
       "      <td>1106.130</td>\n",
       "      <td>1609.381</td>\n",
       "      <td>...</td>\n",
       "      <td>283</td>\n",
       "      <td>6.48</td>\n",
       "      <td>102.80</td>\n",
       "      <td>127.41</td>\n",
       "      <td>0</td>\n",
       "      <td>452.0</td>\n",
       "      <td>0.0</td>\n",
       "      <td>0.0</td>\n",
       "      <td>1624.0</td>\n",
       "      <td>0</td>\n",
       "    </tr>\n",
       "    <tr>\n",
       "      <th>69989</th>\n",
       "      <td>69989</td>\n",
       "      <td>109</td>\n",
       "      <td>0.0</td>\n",
       "      <td>0.0</td>\n",
       "      <td>0.0</td>\n",
       "      <td>6/30/2014</td>\n",
       "      <td>7/31/2014</td>\n",
       "      <td>8/31/2014</td>\n",
       "      <td>196.695</td>\n",
       "      <td>298.645</td>\n",
       "      <td>...</td>\n",
       "      <td>251</td>\n",
       "      <td>107.77</td>\n",
       "      <td>112.70</td>\n",
       "      <td>242.18</td>\n",
       "      <td>0</td>\n",
       "      <td>101.0</td>\n",
       "      <td>234.0</td>\n",
       "      <td>92.0</td>\n",
       "      <td>483.5</td>\n",
       "      <td>0</td>\n",
       "    </tr>\n",
       "    <tr>\n",
       "      <th>69996</th>\n",
       "      <td>69996</td>\n",
       "      <td>109</td>\n",
       "      <td>0.0</td>\n",
       "      <td>0.0</td>\n",
       "      <td>0.0</td>\n",
       "      <td>6/30/2014</td>\n",
       "      <td>7/31/2014</td>\n",
       "      <td>8/31/2014</td>\n",
       "      <td>372.088</td>\n",
       "      <td>258.374</td>\n",
       "      <td>...</td>\n",
       "      <td>879</td>\n",
       "      <td>0.00</td>\n",
       "      <td>0.00</td>\n",
       "      <td>0.00</td>\n",
       "      <td>0</td>\n",
       "      <td>0.0</td>\n",
       "      <td>0.0</td>\n",
       "      <td>0.0</td>\n",
       "      <td>438.0</td>\n",
       "      <td>0</td>\n",
       "    </tr>\n",
       "    <tr>\n",
       "      <th>69997</th>\n",
       "      <td>69997</td>\n",
       "      <td>109</td>\n",
       "      <td>0.0</td>\n",
       "      <td>0.0</td>\n",
       "      <td>0.0</td>\n",
       "      <td>6/30/2014</td>\n",
       "      <td>7/31/2014</td>\n",
       "      <td>8/31/2014</td>\n",
       "      <td>238.575</td>\n",
       "      <td>245.414</td>\n",
       "      <td>...</td>\n",
       "      <td>277</td>\n",
       "      <td>664.25</td>\n",
       "      <td>1402.96</td>\n",
       "      <td>990.97</td>\n",
       "      <td>0</td>\n",
       "      <td>180.0</td>\n",
       "      <td>253.0</td>\n",
       "      <td>146.0</td>\n",
       "      <td>532.0</td>\n",
       "      <td>0</td>\n",
       "    </tr>\n",
       "  </tbody>\n",
       "</table>\n",
       "<p>20984 rows × 177 columns</p>\n",
       "</div>"
      ],
      "text/plain": [
       "          id  circle_id  loc_og_t2o_mou  std_og_t2o_mou  loc_ic_t2o_mou  \\\n",
       "12        12        109             0.0             0.0             0.0   \n",
       "15        15        109             0.0             0.0             0.0   \n",
       "23        23        109             0.0             0.0             0.0   \n",
       "24        24        109             0.0             0.0             0.0   \n",
       "27        27        109             0.0             0.0             0.0   \n",
       "...      ...        ...             ...             ...             ...   \n",
       "69982  69982        109             0.0             0.0             0.0   \n",
       "69984  69984        109             0.0             0.0             0.0   \n",
       "69989  69989        109             0.0             0.0             0.0   \n",
       "69996  69996        109             0.0             0.0             0.0   \n",
       "69997  69997        109             0.0             0.0             0.0   \n",
       "\n",
       "      last_date_of_month_6 last_date_of_month_7 last_date_of_month_8  \\\n",
       "12               6/30/2014            7/31/2014            8/31/2014   \n",
       "15               6/30/2014            7/31/2014            8/31/2014   \n",
       "23               6/30/2014            7/31/2014            8/31/2014   \n",
       "24               6/30/2014            7/31/2014            8/31/2014   \n",
       "27               6/30/2014            7/31/2014            8/31/2014   \n",
       "...                    ...                  ...                  ...   \n",
       "69982            6/30/2014            7/31/2014            8/31/2014   \n",
       "69984            6/30/2014            7/31/2014            8/31/2014   \n",
       "69989            6/30/2014            7/31/2014            8/31/2014   \n",
       "69996            6/30/2014            7/31/2014            8/31/2014   \n",
       "69997            6/30/2014            7/31/2014            8/31/2014   \n",
       "\n",
       "         arpu_6    arpu_7  ...   aon  aug_vbc_3g  jul_vbc_3g  jun_vbc_3g  \\\n",
       "12      439.919   397.946  ...   322        0.00        0.00        0.00   \n",
       "15      580.549   377.294  ...   602        0.00        0.00        0.00   \n",
       "23     1130.948   905.506  ...   455        0.00        0.00        0.00   \n",
       "24      371.974   352.069  ...  1219        0.00        0.00        0.00   \n",
       "27      390.489   350.985  ...   573      700.40      185.71      173.72   \n",
       "...         ...       ...  ...   ...         ...         ...         ...   \n",
       "69982   146.927   458.054  ...  1577        0.00        0.00        0.00   \n",
       "69984  1106.130  1609.381  ...   283        6.48      102.80      127.41   \n",
       "69989   196.695   298.645  ...   251      107.77      112.70      242.18   \n",
       "69996   372.088   258.374  ...   879        0.00        0.00        0.00   \n",
       "69997   238.575   245.414  ...   277      664.25     1402.96      990.97   \n",
       "\n",
       "       churn_probability  total_rech_amt_data_6  total_rech_amt_data_7  \\\n",
       "12                     0                    0.0                    0.0   \n",
       "15                     0                  155.0                    0.0   \n",
       "23                     0                    0.0                    0.0   \n",
       "24                     0                   24.0                   48.0   \n",
       "27                     0                  209.0                  306.0   \n",
       "...                  ...                    ...                    ...   \n",
       "69982                  0                    0.0                  276.0   \n",
       "69984                  0                  452.0                    0.0   \n",
       "69989                  0                  101.0                  234.0   \n",
       "69996                  0                    0.0                    0.0   \n",
       "69997                  0                  180.0                  253.0   \n",
       "\n",
       "       total_rech_amt_data_8  total_avg_rech_amnt_6_7_GPhase  churn  \n",
       "12                       0.0                           469.5      0  \n",
       "15                     155.0                           604.5      0  \n",
       "23                       0.0                          1205.0      0  \n",
       "24                      24.0                           469.5      0  \n",
       "27                     217.0                           826.0      0  \n",
       "...                      ...                             ...    ...  \n",
       "69982                    0.0                           449.0      0  \n",
       "69984                    0.0                          1624.0      0  \n",
       "69989                   92.0                           483.5      0  \n",
       "69996                    0.0                           438.0      0  \n",
       "69997                  146.0                           532.0      0  \n",
       "\n",
       "[20984 rows x 177 columns]"
      ]
     },
     "execution_count": 21,
     "metadata": {},
     "output_type": "execute_result"
    }
   ],
   "source": [
    "telecom_df_high_val_cust"
   ]
  },
  {
   "cell_type": "markdown",
   "id": "af2fef1e",
   "metadata": {},
   "source": [
    "# Step 3 : Exploratory data analysis (EDA)"
   ]
  },
  {
   "cell_type": "markdown",
   "id": "c663fb6a",
   "metadata": {},
   "source": [
    "### Lets look and drop for columns with only 1/2 unique values which would not add any value to our model "
   ]
  },
  {
   "cell_type": "code",
   "execution_count": 22,
   "id": "85aadaf6",
   "metadata": {},
   "outputs": [
    {
     "name": "stdout",
     "output_type": "stream",
     "text": [
      "loc_og_t2o_mou  -  2\n",
      "std_og_t2o_mou  -  2\n",
      "loc_ic_t2o_mou  -  2\n",
      "last_date_of_month_7  -  2\n",
      "last_date_of_month_8  -  2\n",
      "std_og_t2c_mou_6  -  2\n",
      "std_og_t2c_mou_7  -  2\n",
      "std_og_t2c_mou_8  -  2\n",
      "std_ic_t2o_mou_6  -  2\n",
      "std_ic_t2o_mou_7  -  2\n",
      "std_ic_t2o_mou_8  -  2\n",
      "churn_probability  -  2\n",
      "churn  -  2\n"
     ]
    }
   ],
   "source": [
    "for i in telecom_df_high_val_cust.columns :\n",
    "    if len(pd.unique(telecom_df_high_val_cust[i])) == 2:\n",
    "        print(i,\" - \",len(pd.unique(telecom_df_high_val_cust[i])))"
   ]
  },
  {
   "cell_type": "code",
   "execution_count": 23,
   "id": "ebb64645",
   "metadata": {},
   "outputs": [],
   "source": [
    "drop_col_with_unique_col =['circle_id', 'loc_og_t2o_mou', 'std_og_t2o_mou', 'loc_ic_t2o_mou', \n",
    "                          'last_date_of_month_6', 'last_date_of_month_7',\n",
    "                          'std_og_t2c_mou_6', 'std_og_t2c_mou_7','std_ic_t2o_mou_6', \n",
    "                          'std_ic_t2o_mou_7']"
   ]
  },
  {
   "cell_type": "code",
   "execution_count": 24,
   "id": "77f2286c",
   "metadata": {},
   "outputs": [
    {
     "name": "stdout",
     "output_type": "stream",
     "text": [
      "Features before dropping unique values : 177\n",
      "Features after dropping unique values : 167\n"
     ]
    }
   ],
   "source": [
    "print(\"Features before dropping unique values : \"+ str(telecom_df_high_val_cust.shape[1]))\n",
    "telecom_df_high_val_cust.drop(drop_col_with_unique_col,axis=1,inplace=True)\n",
    "print(\"Features after dropping unique values : \"+ str(telecom_df_high_val_cust.shape[1]))"
   ]
  },
  {
   "cell_type": "markdown",
   "id": "33117114",
   "metadata": {},
   "source": [
    "### Lets look for Object Type Features"
   ]
  },
  {
   "cell_type": "code",
   "execution_count": 25,
   "id": "671b11a3",
   "metadata": {},
   "outputs": [
    {
     "name": "stdout",
     "output_type": "stream",
     "text": [
      "last_date_of_month_8  -  object\n",
      "date_of_last_rech_6  -  object\n",
      "date_of_last_rech_7  -  object\n",
      "date_of_last_rech_8  -  object\n",
      "date_of_last_rech_data_6  -  object\n",
      "date_of_last_rech_data_7  -  object\n",
      "date_of_last_rech_data_8  -  object\n"
     ]
    },
    {
     "data": {
      "text/plain": [
       "['last_date_of_month_8',\n",
       " 'date_of_last_rech_6',\n",
       " 'date_of_last_rech_7',\n",
       " 'date_of_last_rech_8',\n",
       " 'date_of_last_rech_data_6',\n",
       " 'date_of_last_rech_data_7',\n",
       " 'date_of_last_rech_data_8']"
      ]
     },
     "execution_count": 25,
     "metadata": {},
     "output_type": "execute_result"
    }
   ],
   "source": [
    "df_DateCols = []\n",
    "for i in telecom_df_high_val_cust.columns :\n",
    "    if telecom_df_high_val_cust[i].dtypes == 'object':\n",
    "        print(i,\" - \",telecom_df_high_val_cust[i].dtypes)\n",
    "        df_DateCols.append(i)\n",
    "df_DateCols"
   ]
  },
  {
   "cell_type": "code",
   "execution_count": 26,
   "id": "3301bae2",
   "metadata": {},
   "outputs": [],
   "source": [
    "#Since all the Object Type Columns are of DateType , lets convert them to Date Type\n",
    "for col in df_DateCols:\n",
    "    telecom_df_high_val_cust[col] = pd.to_datetime(telecom_df_high_val_cust[col])"
   ]
  },
  {
   "cell_type": "markdown",
   "id": "229f50d5",
   "metadata": {},
   "source": [
    "### Observe Features with Graghs and Charts"
   ]
  },
  {
   "cell_type": "code",
   "execution_count": 27,
   "id": "3eebbaea",
   "metadata": {},
   "outputs": [],
   "source": [
    "# create box plot function for  6th, 7th and 8th month variables\n",
    "def plot_box_chart(attribute):\n",
    "    plt.figure(figsize=(20,16))\n",
    "    df = telecom_df_high_val_cust\n",
    "    plt.subplot(2,3,1)\n",
    "    sns.boxplot(data=df, y=attribute+\"_6\",x=\"churn\",hue=\"churn\",\n",
    "                showfliers=False,palette=(\"plasma\"))\n",
    "    plt.subplot(2,3,2)\n",
    "    sns.boxplot(data=df, y=attribute+\"_7\",x=\"churn\",hue=\"churn\",\n",
    "                showfliers=False,palette=(\"plasma\"))\n",
    "    plt.subplot(2,3,3)\n",
    "    sns.boxplot(data=df, y=attribute+\"_8\",x=\"churn\",hue=\"churn\",\n",
    "                showfliers=False,palette=(\"plasma\"))\n",
    "    plt.show()"
   ]
  },
  {
   "cell_type": "markdown",
   "id": "53e5a4f3",
   "metadata": {},
   "source": [
    "## 1. Recharge amount related Features"
   ]
  },
  {
   "cell_type": "code",
   "execution_count": 28,
   "id": "aa008153",
   "metadata": {},
   "outputs": [
    {
     "data": {
      "text/plain": [
       "['total_rech_amt_6',\n",
       " 'total_rech_amt_7',\n",
       " 'total_rech_amt_8',\n",
       " 'max_rech_amt_6',\n",
       " 'max_rech_amt_7',\n",
       " 'max_rech_amt_8',\n",
       " 'av_rech_amt_data_6',\n",
       " 'av_rech_amt_data_7',\n",
       " 'av_rech_amt_data_8',\n",
       " 'total_rech_amt_data_6',\n",
       " 'total_rech_amt_data_7',\n",
       " 'total_rech_amt_data_8']"
      ]
     },
     "execution_count": 28,
     "metadata": {},
     "output_type": "execute_result"
    }
   ],
   "source": [
    "#Lets extract the columns containing recharge amount in their variable name\n",
    "recharge_amnt_columns =  telecom_df_high_val_cust.columns[telecom_df_high_val_cust.columns.str.contains('rech_amt')]\n",
    "recharge_amnt_columns.tolist()"
   ]
  },
  {
   "cell_type": "markdown",
   "id": "667c0fda",
   "metadata": {},
   "source": [
    "### 1.1 Box Plot - total_rech_amt"
   ]
  },
  {
   "cell_type": "code",
   "execution_count": 29,
   "id": "33e2653a",
   "metadata": {},
   "outputs": [
    {
     "data": {
      "image/png": "[encoded data removed]",
      "text/plain": [
       "<Figure size 1440x1152 with 3 Axes>"
      ]
     },
     "metadata": {
      "needs_background": "light"
     },
     "output_type": "display_data"
    }
   ],
   "source": [
    "# Ploting for total recharge amount:\n",
    "plot_box_chart('total_rech_amt')"
   ]
  },
  {
   "cell_type": "markdown",
   "id": "4bb07ff0",
   "metadata": {},
   "source": [
    "##### Observations : We can see a drop in the total recharge amount for churned customers in the 8th Month (Action Phase)."
   ]
  },
  {
   "cell_type": "markdown",
   "id": "554ddab5",
   "metadata": {},
   "source": [
    "### 1.2 Box Plot - total_rech_amt_data"
   ]
  },
  {
   "cell_type": "code",
   "execution_count": 30,
   "id": "c081ce13",
   "metadata": {},
   "outputs": [
    {
     "data": {
      "image/png": "[encoded data removed]",
      "text/plain": [
       "<Figure size 1440x1152 with 3 Axes>"
      ]
     },
     "metadata": {
      "needs_background": "light"
     },
     "output_type": "display_data"
    }
   ],
   "source": [
    "# Ploting for total recharge amount for data:\n",
    "plot_box_chart('total_rech_amt_data')"
   ]
  },
  {
   "cell_type": "markdown",
   "id": "3d876654",
   "metadata": {},
   "source": [
    "### 1.3 Box Plot - max_rech_amt"
   ]
  },
  {
   "cell_type": "code",
   "execution_count": 31,
   "id": "fb027d0a",
   "metadata": {},
   "outputs": [
    {
     "data": {
      "image/png": "[encoded data removed]",
      "text/plain": [
       "<Figure size 1440x1152 with 3 Axes>"
      ]
     },
     "metadata": {
      "needs_background": "light"
     },
     "output_type": "display_data"
    }
   ],
   "source": [
    "# Ploting for maximum recharge amount for data:\n",
    "plot_box_chart('max_rech_amt')"
   ]
  },
  {
   "cell_type": "markdown",
   "id": "8d7acd24",
   "metadata": {},
   "source": [
    "##### Observations : We can see that there is a huge drop in maximum recharge amount for data in the 8th month (action phase) for churned customers."
   ]
  },
  {
   "cell_type": "code",
   "execution_count": 32,
   "id": "1a37da8f",
   "metadata": {},
   "outputs": [],
   "source": [
    "#Some other recharge related variables:\n",
    "other_recharge = telecom_df_high_val_cust.columns[telecom_df_high_val_cust.columns.str.contains('rech_num|max_rech_data',regex=True)]"
   ]
  },
  {
   "cell_type": "code",
   "execution_count": 33,
   "id": "6c39a0dc",
   "metadata": {},
   "outputs": [
    {
     "data": {
      "text/plain": [
       "total_rech_num_6     0.000000\n",
       "total_rech_num_7     0.000000\n",
       "total_rech_num_8     0.000000\n",
       "max_rech_data_6     50.443195\n",
       "max_rech_data_7     49.428136\n",
       "max_rech_data_8     51.725124\n",
       "dtype: float64"
      ]
     },
     "execution_count": 33,
     "metadata": {},
     "output_type": "execute_result"
    }
   ],
   "source": [
    "# lets check the percentage of Null values for other recharge related variables\n",
    "100*telecom_df_high_val_cust.loc[:,other_recharge].isnull().sum()/len(telecom_df_high_val_cust)\n"
   ]
  },
  {
   "cell_type": "markdown",
   "id": "fb0324e7",
   "metadata": {},
   "source": [
    "### 1.4 Box Plot - total_rech_num"
   ]
  },
  {
   "cell_type": "code",
   "execution_count": 34,
   "id": "45615b7b",
   "metadata": {},
   "outputs": [
    {
     "data": {
      "image/png": "[encoded data removed]",
      "text/plain": [
       "<Figure size 1440x1152 with 3 Axes>"
      ]
     },
     "metadata": {
      "needs_background": "light"
     },
     "output_type": "display_data"
    }
   ],
   "source": [
    "#Ploting for Total recharge for Number:\n",
    "plot_box_chart('total_rech_num')"
   ]
  },
  {
   "cell_type": "markdown",
   "id": "ba034f41",
   "metadata": {},
   "source": [
    "##### Observations : We can see that there is a huge drop in total recharge number also in the 8th month (action phase) for churned customers."
   ]
  },
  {
   "cell_type": "code",
   "execution_count": 35,
   "id": "dd580be8",
   "metadata": {},
   "outputs": [],
   "source": [
    "#Replace null values of max_rech_data with 0\n",
    "telecom_df_high_val_cust.loc[:,['max_rech_data_6','max_rech_data_7','max_rech_data_8']] = telecom_df_high_val_cust.loc[:,['max_rech_data_6','max_rech_data_7','max_rech_data_8']].replace(np.nan,0)"
   ]
  },
  {
   "cell_type": "code",
   "execution_count": 36,
   "id": "9101dec2",
   "metadata": {},
   "outputs": [
    {
     "data": {
      "text/plain": [
       "total_rech_num_6    0.0\n",
       "total_rech_num_7    0.0\n",
       "total_rech_num_8    0.0\n",
       "max_rech_data_6     0.0\n",
       "max_rech_data_7     0.0\n",
       "max_rech_data_8     0.0\n",
       "dtype: float64"
      ]
     },
     "execution_count": 36,
     "metadata": {},
     "output_type": "execute_result"
    }
   ],
   "source": [
    "100*telecom_df_high_val_cust.loc[:,other_recharge].isnull().sum()/len(telecom_df_high_val_cust)"
   ]
  },
  {
   "cell_type": "markdown",
   "id": "e0002fc8",
   "metadata": {},
   "source": [
    "### 1.5 Box Plot - max_rech_data"
   ]
  },
  {
   "cell_type": "code",
   "execution_count": 37,
   "id": "25e47d57",
   "metadata": {},
   "outputs": [
    {
     "data": {
      "image/png": "[encoded data removed]",
      "text/plain": [
       "<Figure size 1440x1152 with 3 Axes>"
      ]
     },
     "metadata": {
      "needs_background": "light"
     },
     "output_type": "display_data"
    }
   ],
   "source": [
    "# Ploting for maximum recharge for data:\n",
    "plot_box_chart('max_rech_data')"
   ]
  },
  {
   "cell_type": "markdown",
   "id": "297112d9",
   "metadata": {},
   "source": [
    "##### Observations : We can see that there is a huge drop in maximum recharge for data also in the 8th month (action phase) for churned customers."
   ]
  },
  {
   "cell_type": "code",
   "execution_count": 38,
   "id": "e5d09050",
   "metadata": {},
   "outputs": [
    {
     "name": "stdout",
     "output_type": "stream",
     "text": [
      "Index(['last_day_rch_amt_6', 'last_day_rch_amt_7', 'last_day_rch_amt_8'], dtype='object')\n"
     ]
    }
   ],
   "source": [
    "#Extracting the last day recharge amount columns\n",
    "last_day_rech_amt = telecom_df_high_val_cust.columns[telecom_df_high_val_cust.columns.str.contains('day')]\n",
    "print(last_day_rech_amt)"
   ]
  },
  {
   "cell_type": "markdown",
   "id": "7a8e2a62",
   "metadata": {},
   "source": [
    "### 1.5 Box Plot - last_day_rch_amt"
   ]
  },
  {
   "cell_type": "code",
   "execution_count": 39,
   "id": "bed87ba7",
   "metadata": {},
   "outputs": [
    {
     "data": {
      "image/png": "[encoded data removed]",
      "text/plain": [
       "<Figure size 1440x1152 with 3 Axes>"
      ]
     },
     "metadata": {
      "needs_background": "light"
     },
     "output_type": "display_data"
    }
   ],
   "source": [
    "# Ploting for last day recharge amount:\n",
    "plot_box_chart('last_day_rch_amt')"
   ]
  },
  {
   "cell_type": "markdown",
   "id": "16a48d33",
   "metadata": {},
   "source": [
    "##### Observations : We are getting a huge drop in 8th month recharge amount for churned customers."
   ]
  },
  {
   "cell_type": "markdown",
   "id": "da69d3fc",
   "metadata": {},
   "source": [
    "## 2. 2G and 3G usage related Features"
   ]
  },
  {
   "cell_type": "code",
   "execution_count": 40,
   "id": "f30d16b5",
   "metadata": {},
   "outputs": [],
   "source": [
    "usage_2g_and_3g = telecom_df_high_val_cust.columns[telecom_df_high_val_cust.columns.str.contains('2g|3g',regex=True)]"
   ]
  },
  {
   "cell_type": "markdown",
   "id": "5ae61ccb",
   "metadata": {},
   "source": [
    "##### Observations : We are getting more then 40% values are not available for count of recharge and average revenue for 2G/3G per user."
   ]
  },
  {
   "cell_type": "code",
   "execution_count": 41,
   "id": "e8b58f81",
   "metadata": {},
   "outputs": [],
   "source": [
    "#Lets drop the columns with more than 49% data as null\n",
    "telecom_df_high_val_cust.drop(['count_rech_2g_6','count_rech_2g_7',\n",
    "              'count_rech_3g_6','count_rech_3g_7',\n",
    "            'arpu_3g_6','arpu_3g_7','arpu_3g_8','arpu_2g_6','arpu_2g_7','arpu_2g_8'],axis=1,inplace=True)"
   ]
  },
  {
   "cell_type": "code",
   "execution_count": 42,
   "id": "d2cb6e3e",
   "metadata": {},
   "outputs": [
    {
     "data": {
      "text/plain": [
       "(20984, 157)"
      ]
     },
     "execution_count": 42,
     "metadata": {},
     "output_type": "execute_result"
    }
   ],
   "source": [
    "telecom_df_high_val_cust.shape"
   ]
  },
  {
   "cell_type": "code",
   "execution_count": 43,
   "id": "bf3e2cde",
   "metadata": {},
   "outputs": [
    {
     "data": {
      "image/png": "[encoded data removed]",
      "text/plain": [
       "<Figure size 1440x1152 with 3 Axes>"
      ]
     },
     "metadata": {
      "needs_background": "light"
     },
     "output_type": "display_data"
    }
   ],
   "source": [
    "# Ploting for volume of 2G and 3G usage columns:\n",
    "plot_box_chart('vol_2g_mb')"
   ]
  },
  {
   "cell_type": "markdown",
   "id": "64ba16ba",
   "metadata": {},
   "source": [
    "### 2.1 Box Plot - vol_2g_mb"
   ]
  },
  {
   "cell_type": "code",
   "execution_count": 44,
   "id": "b2a951c3",
   "metadata": {},
   "outputs": [
    {
     "data": {
      "image/png": "[encoded data removed]",
      "text/plain": [
       "<Figure size 1440x1152 with 3 Axes>"
      ]
     },
     "metadata": {
      "needs_background": "light"
     },
     "output_type": "display_data"
    }
   ],
   "source": [
    "# Ploting for volume of 2G and 3G usage columns:\n",
    "plot_box_chart('vol_2g_mb')"
   ]
  },
  {
   "cell_type": "markdown",
   "id": "95f569b0",
   "metadata": {},
   "source": [
    "### 2.2 Box Plot - vol_3g_mb"
   ]
  },
  {
   "cell_type": "code",
   "execution_count": 45,
   "id": "98690dbc",
   "metadata": {},
   "outputs": [
    {
     "data": {
      "image/png": "[encoded data removed]",
      "text/plain": [
       "<Figure size 1440x1152 with 3 Axes>"
      ]
     },
     "metadata": {
      "needs_background": "light"
     },
     "output_type": "display_data"
    }
   ],
   "source": [
    "plot_box_chart('vol_3g_mb')"
   ]
  },
  {
   "cell_type": "markdown",
   "id": "d8fc6170",
   "metadata": {},
   "source": [
    "##### Observations : We have two observations from above:\n",
    "- 2G and 3G usage for churned customers drops in 8th month\n",
    "- We also see that 2G/3G usage is higher for non-churned customers indicating that churned customers might be from areas where 2G/3G service is not properly available."
   ]
  },
  {
   "cell_type": "code",
   "execution_count": 46,
   "id": "8d23e462",
   "metadata": {},
   "outputs": [
    {
     "data": {
      "text/plain": [
       "['monthly_2g_6',\n",
       " 'monthly_2g_7',\n",
       " 'monthly_2g_8',\n",
       " 'monthly_3g_6',\n",
       " 'monthly_3g_7',\n",
       " 'monthly_3g_8']"
      ]
     },
     "execution_count": 46,
     "metadata": {},
     "output_type": "execute_result"
    }
   ],
   "source": [
    "# let's check monthly 2G/3G service schemes\n",
    "monthly_subcription_2g_3g = telecom_df_high_val_cust.columns[telecom_df_high_val_cust.columns.str.contains('monthly_2g|monthly_3g',regex=True)]\n",
    "monthly_subcription_2g_3g.tolist()"
   ]
  },
  {
   "cell_type": "code",
   "execution_count": 47,
   "id": "0ca13348",
   "metadata": {},
   "outputs": [
    {
     "data": {
      "text/plain": [
       "monthly_2g_6    0.0\n",
       "monthly_2g_7    0.0\n",
       "monthly_2g_8    0.0\n",
       "monthly_3g_6    0.0\n",
       "monthly_3g_7    0.0\n",
       "monthly_3g_8    0.0\n",
       "dtype: float64"
      ]
     },
     "execution_count": 47,
     "metadata": {},
     "output_type": "execute_result"
    }
   ],
   "source": [
    "#Checking Null value\n",
    "100*telecom_df_high_val_cust.loc[:,monthly_subcription_2g_3g].isnull().sum()/len(telecom_df_high_val_cust.loc[:,monthly_subcription_2g_3g])"
   ]
  },
  {
   "cell_type": "code",
   "execution_count": 48,
   "id": "d8a0a08a",
   "metadata": {},
   "outputs": [
    {
     "name": "stdout",
     "output_type": "stream",
     "text": [
      "<class 'pandas.core.frame.DataFrame'>\n",
      "Int64Index: 20984 entries, 12 to 69997\n",
      "Data columns (total 6 columns):\n",
      " #   Column        Non-Null Count  Dtype\n",
      "---  ------        --------------  -----\n",
      " 0   monthly_2g_6  20984 non-null  int64\n",
      " 1   monthly_2g_7  20984 non-null  int64\n",
      " 2   monthly_2g_8  20984 non-null  int64\n",
      " 3   monthly_3g_6  20984 non-null  int64\n",
      " 4   monthly_3g_7  20984 non-null  int64\n",
      " 5   monthly_3g_8  20984 non-null  int64\n",
      "dtypes: int64(6)\n",
      "memory usage: 1.1 MB\n"
     ]
    }
   ],
   "source": [
    "telecom_df_high_val_cust[monthly_subcription_2g_3g].info()"
   ]
  },
  {
   "cell_type": "markdown",
   "id": "9b37f293",
   "metadata": {},
   "source": [
    "### 2.3 Box Plot - monthly_2g"
   ]
  },
  {
   "cell_type": "code",
   "execution_count": 49,
   "id": "87f991f1",
   "metadata": {},
   "outputs": [
    {
     "data": {
      "image/png": "[encoded data removed]",
      "text/plain": [
       "<Figure size 1440x1152 with 3 Axes>"
      ]
     },
     "metadata": {
      "needs_background": "light"
     },
     "output_type": "display_data"
    }
   ],
   "source": [
    "# Ploting for monthly subscription :\n",
    "plot_box_chart('monthly_2g')"
   ]
  },
  {
   "cell_type": "markdown",
   "id": "8c60c7fd",
   "metadata": {},
   "source": [
    "##### Observations : Value range is very low, hence graph is not giving us proper justification result .Hence doing analysis by checking mean value."
   ]
  },
  {
   "cell_type": "code",
   "execution_count": 50,
   "id": "a0eb9ff5",
   "metadata": {},
   "outputs": [],
   "source": [
    "#Plotting Bar Chart\n",
    "def plot_mean_bar_chart(df,columns_list):\n",
    "    df_0 = df[df.churn==0].filter(columns_list)\n",
    "    df_1 = df[df.churn==1].filter(columns_list)\n",
    "\n",
    "    mean_df_0 = pd.DataFrame([df_0.mean()],index={'Non Churn'})\n",
    "    mean_df_1 = pd.DataFrame([df_1.mean()],index={'Churn'})\n",
    "\n",
    "    frames = [mean_df_0, mean_df_1]\n",
    "    mean_bar = pd.concat(frames)\n",
    "\n",
    "    mean_bar.T.plot.bar(figsize=(10,5),rot=0)\n",
    "    plt.show()\n",
    "    \n",
    "    return mean_bar"
   ]
  },
  {
   "cell_type": "code",
   "execution_count": 51,
   "id": "054d6a9b",
   "metadata": {},
   "outputs": [
    {
     "data": {
      "image/png": "[encoded data removed]",
      "text/plain": [
       "<Figure size 720x360 with 1 Axes>"
      ]
     },
     "metadata": {
      "needs_background": "light"
     },
     "output_type": "display_data"
    },
    {
     "data": {
      "text/html": [
       "<div>\n",
       "<style scoped>\n",
       "    .dataframe tbody tr th:only-of-type {\n",
       "        vertical-align: middle;\n",
       "    }\n",
       "\n",
       "    .dataframe tbody tr th {\n",
       "        vertical-align: top;\n",
       "    }\n",
       "\n",
       "    .dataframe thead th {\n",
       "        text-align: right;\n",
       "    }\n",
       "</style>\n",
       "<table border=\"1\" class=\"dataframe\">\n",
       "  <thead>\n",
       "    <tr style=\"text-align: right;\">\n",
       "      <th></th>\n",
       "      <th>monthly_2g_6</th>\n",
       "      <th>monthly_2g_7</th>\n",
       "      <th>monthly_2g_8</th>\n",
       "      <th>monthly_3g_6</th>\n",
       "      <th>monthly_3g_7</th>\n",
       "      <th>monthly_3g_8</th>\n",
       "    </tr>\n",
       "  </thead>\n",
       "  <tbody>\n",
       "    <tr>\n",
       "      <th>Non Churn</th>\n",
       "      <td>0.179916</td>\n",
       "      <td>0.194334</td>\n",
       "      <td>0.164087</td>\n",
       "      <td>0.218077</td>\n",
       "      <td>0.232898</td>\n",
       "      <td>0.220699</td>\n",
       "    </tr>\n",
       "    <tr>\n",
       "      <th>Churn</th>\n",
       "      <td>0.083697</td>\n",
       "      <td>0.047951</td>\n",
       "      <td>0.000000</td>\n",
       "      <td>0.190061</td>\n",
       "      <td>0.104621</td>\n",
       "      <td>0.000000</td>\n",
       "    </tr>\n",
       "  </tbody>\n",
       "</table>\n",
       "</div>"
      ],
      "text/plain": [
       "           monthly_2g_6  monthly_2g_7  monthly_2g_8  monthly_3g_6  \\\n",
       "Non Churn      0.179916      0.194334      0.164087      0.218077   \n",
       "Churn          0.083697      0.047951      0.000000      0.190061   \n",
       "\n",
       "           monthly_3g_7  monthly_3g_8  \n",
       "Non Churn      0.232898      0.220699  \n",
       "Churn          0.104621      0.000000  "
      ]
     },
     "execution_count": 51,
     "metadata": {},
     "output_type": "execute_result"
    }
   ],
   "source": [
    "#Plotting monthly 2g and 3g\n",
    "plot_mean_bar_chart(telecom_df_high_val_cust, monthly_subcription_2g_3g)"
   ]
  },
  {
   "cell_type": "markdown",
   "id": "3cda1d07",
   "metadata": {},
   "source": [
    "##### Observations : Again we can see a drop in monthly subscription for churned customers in 8th Month."
   ]
  },
  {
   "cell_type": "markdown",
   "id": "305ad7b7",
   "metadata": {},
   "source": [
    "## 3. Volume based cost usage related Features"
   ]
  },
  {
   "cell_type": "code",
   "execution_count": 52,
   "id": "86998d70",
   "metadata": {},
   "outputs": [
    {
     "data": {
      "text/plain": [
       "['aug_vbc_3g', 'jul_vbc_3g', 'jun_vbc_3g']"
      ]
     },
     "execution_count": 52,
     "metadata": {},
     "output_type": "execute_result"
    }
   ],
   "source": [
    "vbc_column = telecom_df_high_val_cust.columns[telecom_df_high_val_cust.columns.str.contains('vbc_',regex=True)]\n",
    "vbc_column.tolist()"
   ]
  },
  {
   "cell_type": "code",
   "execution_count": 53,
   "id": "49d73f3e",
   "metadata": {},
   "outputs": [],
   "source": [
    "# Renaming month named vbc columns to 6,7,8 format\n",
    "telecom_df_high_val_cust.rename(columns={'jun_vbc_3g':'vbc_3g_6','jul_vbc_3g':'vbc_3g_7','aug_vbc_3g':'vbc_3g_8'}, inplace=True)"
   ]
  },
  {
   "cell_type": "code",
   "execution_count": 54,
   "id": "6ee8e34d",
   "metadata": {},
   "outputs": [
    {
     "data": {
      "text/plain": [
       "['vbc_3g_8', 'vbc_3g_7', 'vbc_3g_6']"
      ]
     },
     "execution_count": 54,
     "metadata": {},
     "output_type": "execute_result"
    }
   ],
   "source": [
    "vbc_column = telecom_df_high_val_cust.columns[telecom_df_high_val_cust.columns.str.contains('vbc_3g',regex=True)]\n",
    "vbc_column.tolist()"
   ]
  },
  {
   "cell_type": "markdown",
   "id": "e1bfe8b7",
   "metadata": {},
   "source": [
    "### 3.1 Box Plot - vbc_3g"
   ]
  },
  {
   "cell_type": "code",
   "execution_count": 55,
   "id": "77cf58b1",
   "metadata": {},
   "outputs": [
    {
     "data": {
      "image/png": "[encoded data removed]",
      "text/plain": [
       "<Figure size 1440x1152 with 3 Axes>"
      ]
     },
     "metadata": {
      "needs_background": "light"
     },
     "output_type": "display_data"
    }
   ],
   "source": [
    "# Ploting for volume based cost :\n",
    "plot_box_chart('vbc_3g')"
   ]
  },
  {
   "cell_type": "code",
   "execution_count": 56,
   "id": "759094d4",
   "metadata": {},
   "outputs": [
    {
     "data": {
      "image/png": "[encoded data removed]",
      "text/plain": [
       "<Figure size 720x360 with 1 Axes>"
      ]
     },
     "metadata": {
      "needs_background": "light"
     },
     "output_type": "display_data"
    },
    {
     "data": {
      "text/html": [
       "<div>\n",
       "<style scoped>\n",
       "    .dataframe tbody tr th:only-of-type {\n",
       "        vertical-align: middle;\n",
       "    }\n",
       "\n",
       "    .dataframe tbody tr th {\n",
       "        vertical-align: top;\n",
       "    }\n",
       "\n",
       "    .dataframe thead th {\n",
       "        text-align: right;\n",
       "    }\n",
       "</style>\n",
       "<table border=\"1\" class=\"dataframe\">\n",
       "  <thead>\n",
       "    <tr style=\"text-align: right;\">\n",
       "      <th></th>\n",
       "      <th>vbc_3g_8</th>\n",
       "      <th>vbc_3g_7</th>\n",
       "      <th>vbc_3g_6</th>\n",
       "    </tr>\n",
       "  </thead>\n",
       "  <tbody>\n",
       "    <tr>\n",
       "      <th>Non Churn</th>\n",
       "      <td>172.612398</td>\n",
       "      <td>177.300444</td>\n",
       "      <td>157.238009</td>\n",
       "    </tr>\n",
       "    <tr>\n",
       "      <th>Churn</th>\n",
       "      <td>8.649189</td>\n",
       "      <td>59.741421</td>\n",
       "      <td>108.796513</td>\n",
       "    </tr>\n",
       "  </tbody>\n",
       "</table>\n",
       "</div>"
      ],
      "text/plain": [
       "             vbc_3g_8    vbc_3g_7    vbc_3g_6\n",
       "Non Churn  172.612398  177.300444  157.238009\n",
       "Churn        8.649189   59.741421  108.796513"
      ]
     },
     "execution_count": 56,
     "metadata": {},
     "output_type": "execute_result"
    }
   ],
   "source": [
    "plot_mean_bar_chart(telecom_df_high_val_cust, vbc_column)"
   ]
  },
  {
   "cell_type": "markdown",
   "id": "32f157d8",
   "metadata": {},
   "source": [
    "##### Observations : Significantly it showing that volume based cost for 3G is much lower for Churned customers as compared to Non-Churned Customers and also there is a drop in vbc in 8th month"
   ]
  },
  {
   "cell_type": "code",
   "execution_count": 57,
   "id": "6633e660",
   "metadata": {},
   "outputs": [],
   "source": [
    "# Checking Service schemes with validity smaller than a month for 2G/3G\n",
    "SC_2g_or_3g_col = telecom_df_high_val_cust.columns[telecom_df_high_val_cust.columns.str.contains('sachet_2g|sachet_3g',regex=True)]\n"
   ]
  },
  {
   "cell_type": "code",
   "execution_count": 58,
   "id": "04e27b8b",
   "metadata": {},
   "outputs": [
    {
     "data": {
      "image/png": "[encoded data removed]",
      "text/plain": [
       "<Figure size 720x360 with 1 Axes>"
      ]
     },
     "metadata": {
      "needs_background": "light"
     },
     "output_type": "display_data"
    },
    {
     "data": {
      "text/html": [
       "<div>\n",
       "<style scoped>\n",
       "    .dataframe tbody tr th:only-of-type {\n",
       "        vertical-align: middle;\n",
       "    }\n",
       "\n",
       "    .dataframe tbody tr th {\n",
       "        vertical-align: top;\n",
       "    }\n",
       "\n",
       "    .dataframe thead th {\n",
       "        text-align: right;\n",
       "    }\n",
       "</style>\n",
       "<table border=\"1\" class=\"dataframe\">\n",
       "  <thead>\n",
       "    <tr style=\"text-align: right;\">\n",
       "      <th></th>\n",
       "      <th>sachet_2g_6</th>\n",
       "      <th>sachet_2g_7</th>\n",
       "      <th>sachet_2g_8</th>\n",
       "      <th>sachet_3g_6</th>\n",
       "      <th>sachet_3g_7</th>\n",
       "      <th>sachet_3g_8</th>\n",
       "    </tr>\n",
       "  </thead>\n",
       "  <tbody>\n",
       "    <tr>\n",
       "      <th>Non Churn</th>\n",
       "      <td>0.75087</td>\n",
       "      <td>0.874326</td>\n",
       "      <td>0.829611</td>\n",
       "      <td>0.187075</td>\n",
       "      <td>0.207693</td>\n",
       "      <td>0.191511</td>\n",
       "    </tr>\n",
       "    <tr>\n",
       "      <th>Churn</th>\n",
       "      <td>0.50218</td>\n",
       "      <td>0.345248</td>\n",
       "      <td>0.034002</td>\n",
       "      <td>0.126417</td>\n",
       "      <td>0.074978</td>\n",
       "      <td>0.000000</td>\n",
       "    </tr>\n",
       "  </tbody>\n",
       "</table>\n",
       "</div>"
      ],
      "text/plain": [
       "           sachet_2g_6  sachet_2g_7  sachet_2g_8  sachet_3g_6  sachet_3g_7  \\\n",
       "Non Churn      0.75087     0.874326     0.829611     0.187075     0.207693   \n",
       "Churn          0.50218     0.345248     0.034002     0.126417     0.074978   \n",
       "\n",
       "           sachet_3g_8  \n",
       "Non Churn     0.191511  \n",
       "Churn         0.000000  "
      ]
     },
     "execution_count": 58,
     "metadata": {},
     "output_type": "execute_result"
    }
   ],
   "source": [
    "plot_mean_bar_chart(telecom_df_high_val_cust, SC_2g_or_3g_col)"
   ]
  },
  {
   "cell_type": "markdown",
   "id": "a589b56e",
   "metadata": {},
   "source": [
    "##### Observations : We can see the drop in sachet services in 8th month for churned cutsomers"
   ]
  },
  {
   "cell_type": "markdown",
   "id": "b8f80384",
   "metadata": {},
   "source": [
    "## 4. Average Revenue Per User  related Features"
   ]
  },
  {
   "cell_type": "code",
   "execution_count": 59,
   "id": "8c1ad3c2",
   "metadata": {},
   "outputs": [],
   "source": [
    "# Checking columns for average revenue per user\n",
    "arpu_cols = telecom_df_high_val_cust.columns[telecom_df_high_val_cust.columns.str.contains('arpu_')]"
   ]
  },
  {
   "cell_type": "markdown",
   "id": "473982d9",
   "metadata": {},
   "source": [
    "### 4.1 Box Plot - vbc_3g"
   ]
  },
  {
   "cell_type": "code",
   "execution_count": 60,
   "id": "b6ca05eb",
   "metadata": {},
   "outputs": [
    {
     "data": {
      "image/png": "[encoded data removed]",
      "text/plain": [
       "<Figure size 1440x1152 with 3 Axes>"
      ]
     },
     "metadata": {
      "needs_background": "light"
     },
     "output_type": "display_data"
    }
   ],
   "source": [
    "# Plotting arpu\n",
    "plot_box_chart('arpu')"
   ]
  },
  {
   "cell_type": "code",
   "execution_count": 61,
   "id": "b911923d",
   "metadata": {},
   "outputs": [
    {
     "data": {
      "image/png": "[encoded data removed]",
      "text/plain": [
       "<Figure size 720x360 with 1 Axes>"
      ]
     },
     "metadata": {
      "needs_background": "light"
     },
     "output_type": "display_data"
    },
    {
     "data": {
      "text/html": [
       "<div>\n",
       "<style scoped>\n",
       "    .dataframe tbody tr th:only-of-type {\n",
       "        vertical-align: middle;\n",
       "    }\n",
       "\n",
       "    .dataframe tbody tr th {\n",
       "        vertical-align: top;\n",
       "    }\n",
       "\n",
       "    .dataframe thead th {\n",
       "        text-align: right;\n",
       "    }\n",
       "</style>\n",
       "<table border=\"1\" class=\"dataframe\">\n",
       "  <thead>\n",
       "    <tr style=\"text-align: right;\">\n",
       "      <th></th>\n",
       "      <th>arpu_6</th>\n",
       "      <th>arpu_7</th>\n",
       "      <th>arpu_8</th>\n",
       "    </tr>\n",
       "  </thead>\n",
       "  <tbody>\n",
       "    <tr>\n",
       "      <th>Non Churn</th>\n",
       "      <td>567.250089</td>\n",
       "      <td>584.317433</td>\n",
       "      <td>548.193665</td>\n",
       "    </tr>\n",
       "    <tr>\n",
       "      <th>Churn</th>\n",
       "      <td>735.166869</td>\n",
       "      <td>441.618135</td>\n",
       "      <td>86.896745</td>\n",
       "    </tr>\n",
       "  </tbody>\n",
       "</table>\n",
       "</div>"
      ],
      "text/plain": [
       "               arpu_6      arpu_7      arpu_8\n",
       "Non Churn  567.250089  584.317433  548.193665\n",
       "Churn      735.166869  441.618135   86.896745"
      ]
     },
     "execution_count": 61,
     "metadata": {},
     "output_type": "execute_result"
    }
   ],
   "source": [
    "plot_mean_bar_chart(telecom_df_high_val_cust, arpu_cols)"
   ]
  },
  {
   "cell_type": "markdown",
   "id": "c5d0cb18",
   "metadata": {},
   "source": [
    "##### Observations : We can see that huge drops for Arpu in 8th month for churned customers"
   ]
  },
  {
   "cell_type": "markdown",
   "id": "80026f11",
   "metadata": {},
   "source": [
    "## 5. Minutes of usage - voice calls  related Features"
   ]
  },
  {
   "cell_type": "code",
   "execution_count": 62,
   "id": "3ba90c9e",
   "metadata": {},
   "outputs": [],
   "source": [
    "mou_cols = telecom_df_high_val_cust.columns[telecom_df_high_val_cust.columns.str.contains('mou')]"
   ]
  },
  {
   "cell_type": "code",
   "execution_count": 63,
   "id": "cb1d8ced",
   "metadata": {},
   "outputs": [
    {
     "data": {
      "text/plain": [
       "Index(['onnet_mou_6', 'onnet_mou_7', 'onnet_mou_8', 'offnet_mou_6',\n",
       "       'offnet_mou_7', 'offnet_mou_8', 'roam_ic_mou_6', 'roam_ic_mou_7',\n",
       "       'roam_ic_mou_8', 'roam_og_mou_6', 'roam_og_mou_7', 'roam_og_mou_8',\n",
       "       'loc_og_t2t_mou_6', 'loc_og_t2t_mou_7', 'loc_og_t2t_mou_8',\n",
       "       'loc_og_t2m_mou_6', 'loc_og_t2m_mou_7', 'loc_og_t2m_mou_8',\n",
       "       'loc_og_t2f_mou_6', 'loc_og_t2f_mou_7', 'loc_og_t2f_mou_8',\n",
       "       'loc_og_t2c_mou_6', 'loc_og_t2c_mou_7', 'loc_og_t2c_mou_8',\n",
       "       'loc_og_mou_6', 'loc_og_mou_7', 'loc_og_mou_8', 'std_og_t2t_mou_6',\n",
       "       'std_og_t2t_mou_7', 'std_og_t2t_mou_8', 'std_og_t2m_mou_6',\n",
       "       'std_og_t2m_mou_7', 'std_og_t2m_mou_8', 'std_og_t2f_mou_6',\n",
       "       'std_og_t2f_mou_7', 'std_og_t2f_mou_8', 'std_og_t2c_mou_8',\n",
       "       'std_og_mou_6', 'std_og_mou_7', 'std_og_mou_8', 'isd_og_mou_6',\n",
       "       'isd_og_mou_7', 'isd_og_mou_8', 'spl_og_mou_6', 'spl_og_mou_7',\n",
       "       'spl_og_mou_8', 'total_og_mou_6', 'total_og_mou_7', 'total_og_mou_8',\n",
       "       'loc_ic_t2t_mou_6', 'loc_ic_t2t_mou_7', 'loc_ic_t2t_mou_8',\n",
       "       'loc_ic_t2m_mou_6', 'loc_ic_t2m_mou_7', 'loc_ic_t2m_mou_8',\n",
       "       'loc_ic_t2f_mou_6', 'loc_ic_t2f_mou_7', 'loc_ic_t2f_mou_8',\n",
       "       'loc_ic_mou_6', 'loc_ic_mou_7', 'loc_ic_mou_8', 'std_ic_t2t_mou_6',\n",
       "       'std_ic_t2t_mou_7', 'std_ic_t2t_mou_8', 'std_ic_t2m_mou_6',\n",
       "       'std_ic_t2m_mou_7', 'std_ic_t2m_mou_8', 'std_ic_t2f_mou_6',\n",
       "       'std_ic_t2f_mou_7', 'std_ic_t2f_mou_8', 'std_ic_t2o_mou_8',\n",
       "       'std_ic_mou_6', 'std_ic_mou_7', 'std_ic_mou_8', 'total_ic_mou_6',\n",
       "       'total_ic_mou_7', 'total_ic_mou_8', 'spl_ic_mou_6', 'spl_ic_mou_7',\n",
       "       'spl_ic_mou_8', 'isd_ic_mou_6', 'isd_ic_mou_7', 'isd_ic_mou_8'],\n",
       "      dtype='object')"
      ]
     },
     "execution_count": 63,
     "metadata": {},
     "output_type": "execute_result"
    }
   ],
   "source": [
    "mou_cols"
   ]
  },
  {
   "cell_type": "markdown",
   "id": "69ff83a5",
   "metadata": {},
   "source": [
    "##### Observations : So for all minutes of usage columns the maximum missing % is 3.91 , means in these case the customer has not been used at all for that particular call type, thus we can fill the missing values with zero"
   ]
  },
  {
   "cell_type": "code",
   "execution_count": 64,
   "id": "0c3408d2",
   "metadata": {},
   "outputs": [],
   "source": [
    "# replaceing null values by 0 for minutes of usage variables\n",
    "telecom_df_high_val_cust.loc[:,mou_cols] = telecom_df_high_val_cust.loc[:,mou_cols].replace(np.NaN,0)"
   ]
  },
  {
   "cell_type": "code",
   "execution_count": 65,
   "id": "c05796bc",
   "metadata": {},
   "outputs": [],
   "source": [
    "mou_og_cols6 = telecom_df_high_val_cust.columns[telecom_df_high_val_cust.columns.str.contains('.*_og_.*mou_6',regex=True)]"
   ]
  },
  {
   "cell_type": "code",
   "execution_count": 66,
   "id": "446e51e5",
   "metadata": {},
   "outputs": [
    {
     "data": {
      "text/html": [
       "<div>\n",
       "<style scoped>\n",
       "    .dataframe tbody tr th:only-of-type {\n",
       "        vertical-align: middle;\n",
       "    }\n",
       "\n",
       "    .dataframe tbody tr th {\n",
       "        vertical-align: top;\n",
       "    }\n",
       "\n",
       "    .dataframe thead th {\n",
       "        text-align: right;\n",
       "    }\n",
       "</style>\n",
       "<table border=\"1\" class=\"dataframe\">\n",
       "  <thead>\n",
       "    <tr style=\"text-align: right;\">\n",
       "      <th></th>\n",
       "      <th>roam_og_mou_6</th>\n",
       "      <th>loc_og_t2t_mou_6</th>\n",
       "      <th>loc_og_t2m_mou_6</th>\n",
       "      <th>loc_og_t2f_mou_6</th>\n",
       "      <th>loc_og_t2c_mou_6</th>\n",
       "      <th>loc_og_mou_6</th>\n",
       "      <th>std_og_t2t_mou_6</th>\n",
       "      <th>std_og_t2m_mou_6</th>\n",
       "      <th>std_og_t2f_mou_6</th>\n",
       "      <th>std_og_mou_6</th>\n",
       "      <th>isd_og_mou_6</th>\n",
       "      <th>spl_og_mou_6</th>\n",
       "      <th>total_og_mou_6</th>\n",
       "    </tr>\n",
       "  </thead>\n",
       "  <tbody>\n",
       "    <tr>\n",
       "      <th>count</th>\n",
       "      <td>20984.000000</td>\n",
       "      <td>20984.000000</td>\n",
       "      <td>20984.000000</td>\n",
       "      <td>20984.000000</td>\n",
       "      <td>20984.000000</td>\n",
       "      <td>20984.000000</td>\n",
       "      <td>20984.000000</td>\n",
       "      <td>20984.000000</td>\n",
       "      <td>20984.000000</td>\n",
       "      <td>20984.000000</td>\n",
       "      <td>20984.000000</td>\n",
       "      <td>20984.000000</td>\n",
       "      <td>20984.000000</td>\n",
       "    </tr>\n",
       "    <tr>\n",
       "      <th>mean</th>\n",
       "      <td>28.558768</td>\n",
       "      <td>88.412276</td>\n",
       "      <td>170.866712</td>\n",
       "      <td>6.647443</td>\n",
       "      <td>1.549121</td>\n",
       "      <td>265.934996</td>\n",
       "      <td>177.757522</td>\n",
       "      <td>192.617813</td>\n",
       "      <td>1.894971</td>\n",
       "      <td>372.274326</td>\n",
       "      <td>2.383451</td>\n",
       "      <td>5.842503</td>\n",
       "      <td>647.098117</td>\n",
       "    </tr>\n",
       "    <tr>\n",
       "      <th>std</th>\n",
       "      <td>121.136006</td>\n",
       "      <td>233.410894</td>\n",
       "      <td>249.214341</td>\n",
       "      <td>20.571314</td>\n",
       "      <td>6.563695</td>\n",
       "      <td>380.845586</td>\n",
       "      <td>411.211260</td>\n",
       "      <td>412.078561</td>\n",
       "      <td>12.622126</td>\n",
       "      <td>612.028902</td>\n",
       "      <td>53.090602</td>\n",
       "      <td>19.016429</td>\n",
       "      <td>682.983177</td>\n",
       "    </tr>\n",
       "    <tr>\n",
       "      <th>min</th>\n",
       "      <td>0.000000</td>\n",
       "      <td>0.000000</td>\n",
       "      <td>0.000000</td>\n",
       "      <td>0.000000</td>\n",
       "      <td>0.000000</td>\n",
       "      <td>0.000000</td>\n",
       "      <td>0.000000</td>\n",
       "      <td>0.000000</td>\n",
       "      <td>0.000000</td>\n",
       "      <td>0.000000</td>\n",
       "      <td>0.000000</td>\n",
       "      <td>0.000000</td>\n",
       "      <td>0.000000</td>\n",
       "    </tr>\n",
       "    <tr>\n",
       "      <th>25%</th>\n",
       "      <td>0.000000</td>\n",
       "      <td>6.137500</td>\n",
       "      <td>24.380000</td>\n",
       "      <td>0.000000</td>\n",
       "      <td>0.000000</td>\n",
       "      <td>41.290000</td>\n",
       "      <td>0.000000</td>\n",
       "      <td>0.000000</td>\n",
       "      <td>0.000000</td>\n",
       "      <td>1.750000</td>\n",
       "      <td>0.000000</td>\n",
       "      <td>0.000000</td>\n",
       "      <td>176.330000</td>\n",
       "    </tr>\n",
       "    <tr>\n",
       "      <th>50%</th>\n",
       "      <td>0.000000</td>\n",
       "      <td>28.040000</td>\n",
       "      <td>86.960000</td>\n",
       "      <td>0.260000</td>\n",
       "      <td>0.000000</td>\n",
       "      <td>140.875000</td>\n",
       "      <td>6.020000</td>\n",
       "      <td>24.200000</td>\n",
       "      <td>0.000000</td>\n",
       "      <td>73.010000</td>\n",
       "      <td>0.000000</td>\n",
       "      <td>0.160000</td>\n",
       "      <td>464.255000</td>\n",
       "    </tr>\n",
       "    <tr>\n",
       "      <th>75%</th>\n",
       "      <td>0.000000</td>\n",
       "      <td>83.132500</td>\n",
       "      <td>221.032500</td>\n",
       "      <td>4.765000</td>\n",
       "      <td>0.000000</td>\n",
       "      <td>350.777500</td>\n",
       "      <td>140.250000</td>\n",
       "      <td>182.682500</td>\n",
       "      <td>0.000000</td>\n",
       "      <td>535.937500</td>\n",
       "      <td>0.000000</td>\n",
       "      <td>5.015000</td>\n",
       "      <td>885.795000</td>\n",
       "    </tr>\n",
       "    <tr>\n",
       "      <th>max</th>\n",
       "      <td>3775.110000</td>\n",
       "      <td>6431.330000</td>\n",
       "      <td>4696.830000</td>\n",
       "      <td>617.580000</td>\n",
       "      <td>271.440000</td>\n",
       "      <td>10643.380000</td>\n",
       "      <td>7366.580000</td>\n",
       "      <td>8314.760000</td>\n",
       "      <td>628.560000</td>\n",
       "      <td>8432.990000</td>\n",
       "      <td>5900.660000</td>\n",
       "      <td>1023.210000</td>\n",
       "      <td>10674.030000</td>\n",
       "    </tr>\n",
       "  </tbody>\n",
       "</table>\n",
       "</div>"
      ],
      "text/plain": [
       "       roam_og_mou_6  loc_og_t2t_mou_6  loc_og_t2m_mou_6  loc_og_t2f_mou_6  \\\n",
       "count   20984.000000      20984.000000      20984.000000      20984.000000   \n",
       "mean       28.558768         88.412276        170.866712          6.647443   \n",
       "std       121.136006        233.410894        249.214341         20.571314   \n",
       "min         0.000000          0.000000          0.000000          0.000000   \n",
       "25%         0.000000          6.137500         24.380000          0.000000   \n",
       "50%         0.000000         28.040000         86.960000          0.260000   \n",
       "75%         0.000000         83.132500        221.032500          4.765000   \n",
       "max      3775.110000       6431.330000       4696.830000        617.580000   \n",
       "\n",
       "       loc_og_t2c_mou_6  loc_og_mou_6  std_og_t2t_mou_6  std_og_t2m_mou_6  \\\n",
       "count      20984.000000  20984.000000      20984.000000      20984.000000   \n",
       "mean           1.549121    265.934996        177.757522        192.617813   \n",
       "std            6.563695    380.845586        411.211260        412.078561   \n",
       "min            0.000000      0.000000          0.000000          0.000000   \n",
       "25%            0.000000     41.290000          0.000000          0.000000   \n",
       "50%            0.000000    140.875000          6.020000         24.200000   \n",
       "75%            0.000000    350.777500        140.250000        182.682500   \n",
       "max          271.440000  10643.380000       7366.580000       8314.760000   \n",
       "\n",
       "       std_og_t2f_mou_6  std_og_mou_6  isd_og_mou_6  spl_og_mou_6  \\\n",
       "count      20984.000000  20984.000000  20984.000000  20984.000000   \n",
       "mean           1.894971    372.274326      2.383451      5.842503   \n",
       "std           12.622126    612.028902     53.090602     19.016429   \n",
       "min            0.000000      0.000000      0.000000      0.000000   \n",
       "25%            0.000000      1.750000      0.000000      0.000000   \n",
       "50%            0.000000     73.010000      0.000000      0.160000   \n",
       "75%            0.000000    535.937500      0.000000      5.015000   \n",
       "max          628.560000   8432.990000   5900.660000   1023.210000   \n",
       "\n",
       "       total_og_mou_6  \n",
       "count    20984.000000  \n",
       "mean       647.098117  \n",
       "std        682.983177  \n",
       "min          0.000000  \n",
       "25%        176.330000  \n",
       "50%        464.255000  \n",
       "75%        885.795000  \n",
       "max      10674.030000  "
      ]
     },
     "execution_count": 66,
     "metadata": {},
     "output_type": "execute_result"
    }
   ],
   "source": [
    "telecom_df_high_val_cust.loc[:,mou_og_cols6].describe()"
   ]
  },
  {
   "cell_type": "code",
   "execution_count": 67,
   "id": "70b9faaf",
   "metadata": {},
   "outputs": [
    {
     "data": {
      "image/png": "[encoded data removed]",
      "text/plain": [
       "<Figure size 1440x720 with 2 Axes>"
      ]
     },
     "metadata": {
      "needs_background": "light"
     },
     "output_type": "display_data"
    }
   ],
   "source": [
    "#Checking the corelation\n",
    "plt.subplots(figsize = (20,10))\n",
    "#Plotting heatmap of numerical features\n",
    "sns.heatmap(round(telecom_df_high_val_cust.filter(mou_og_cols6).corr(),2), cmap='coolwarm' , annot=True, center = 0)\n",
    "plt.show()"
   ]
  },
  {
   "cell_type": "code",
   "execution_count": 68,
   "id": "f4397cff",
   "metadata": {},
   "outputs": [
    {
     "data": {
      "text/plain": [
       "['loc_og_mou_6',\n",
       " 'loc_og_mou_7',\n",
       " 'loc_og_mou_8',\n",
       " 'std_og_mou_6',\n",
       " 'std_og_mou_7',\n",
       " 'std_og_mou_8',\n",
       " 'total_og_mou_6',\n",
       " 'total_og_mou_7',\n",
       " 'total_og_mou_8']"
      ]
     },
     "execution_count": 68,
     "metadata": {},
     "output_type": "execute_result"
    }
   ],
   "source": [
    "#lets drop columns with total_og_mou|std_og_mou|loc_og_mou\n",
    "list_total_og_cols = telecom_df_high_val_cust.columns[telecom_df_high_val_cust.columns.str.contains('total_og_mou|std_og_mou|loc_og_mou',regex=True)]\n",
    "telecom_df_high_val_cust.drop(list_total_og_cols,axis=1,inplace=True)\n",
    "list_total_og_cols.tolist()"
   ]
  },
  {
   "cell_type": "code",
   "execution_count": 69,
   "id": "149f5102",
   "metadata": {},
   "outputs": [
    {
     "data": {
      "text/plain": [
       "(20984, 148)"
      ]
     },
     "execution_count": 69,
     "metadata": {},
     "output_type": "execute_result"
    }
   ],
   "source": [
    "telecom_df_high_val_cust.shape"
   ]
  },
  {
   "cell_type": "code",
   "execution_count": 70,
   "id": "76fc31e9",
   "metadata": {},
   "outputs": [],
   "source": [
    "#Checking for incoming mou variables\n",
    "mou_ic_cols6 = telecom_df_high_val_cust.columns[telecom_df_high_val_cust.columns.str.contains('.*_ic_.*mou_6',regex=True)]"
   ]
  },
  {
   "cell_type": "code",
   "execution_count": 71,
   "id": "2fe4eafe",
   "metadata": {},
   "outputs": [
    {
     "data": {
      "text/html": [
       "<div>\n",
       "<style scoped>\n",
       "    .dataframe tbody tr th:only-of-type {\n",
       "        vertical-align: middle;\n",
       "    }\n",
       "\n",
       "    .dataframe tbody tr th {\n",
       "        vertical-align: top;\n",
       "    }\n",
       "\n",
       "    .dataframe thead th {\n",
       "        text-align: right;\n",
       "    }\n",
       "</style>\n",
       "<table border=\"1\" class=\"dataframe\">\n",
       "  <thead>\n",
       "    <tr style=\"text-align: right;\">\n",
       "      <th></th>\n",
       "      <th>roam_ic_mou_6</th>\n",
       "      <th>loc_ic_t2t_mou_6</th>\n",
       "      <th>loc_ic_t2m_mou_6</th>\n",
       "      <th>loc_ic_t2f_mou_6</th>\n",
       "      <th>loc_ic_mou_6</th>\n",
       "      <th>std_ic_t2t_mou_6</th>\n",
       "      <th>std_ic_t2m_mou_6</th>\n",
       "      <th>std_ic_t2f_mou_6</th>\n",
       "      <th>std_ic_mou_6</th>\n",
       "      <th>total_ic_mou_6</th>\n",
       "      <th>spl_ic_mou_6</th>\n",
       "      <th>isd_ic_mou_6</th>\n",
       "    </tr>\n",
       "  </thead>\n",
       "  <tbody>\n",
       "    <tr>\n",
       "      <th>count</th>\n",
       "      <td>20984.000000</td>\n",
       "      <td>20984.000000</td>\n",
       "      <td>20984.000000</td>\n",
       "      <td>20984.000000</td>\n",
       "      <td>20984.000000</td>\n",
       "      <td>20984.000000</td>\n",
       "      <td>20984.000000</td>\n",
       "      <td>20984.00000</td>\n",
       "      <td>20984.000000</td>\n",
       "      <td>20984.000000</td>\n",
       "      <td>20984.000000</td>\n",
       "      <td>20984.000000</td>\n",
       "    </tr>\n",
       "    <tr>\n",
       "      <th>mean</th>\n",
       "      <td>16.611307</td>\n",
       "      <td>66.864156</td>\n",
       "      <td>153.497267</td>\n",
       "      <td>15.755854</td>\n",
       "      <td>236.127060</td>\n",
       "      <td>15.217241</td>\n",
       "      <td>30.273796</td>\n",
       "      <td>2.91167</td>\n",
       "      <td>48.406447</td>\n",
       "      <td>296.683751</td>\n",
       "      <td>0.063772</td>\n",
       "      <td>10.848323</td>\n",
       "    </tr>\n",
       "    <tr>\n",
       "      <th>std</th>\n",
       "      <td>77.514092</td>\n",
       "      <td>158.017983</td>\n",
       "      <td>215.644988</td>\n",
       "      <td>45.059876</td>\n",
       "      <td>309.688761</td>\n",
       "      <td>70.835910</td>\n",
       "      <td>95.300274</td>\n",
       "      <td>21.05211</td>\n",
       "      <td>131.480014</td>\n",
       "      <td>357.918139</td>\n",
       "      <td>0.200656</td>\n",
       "      <td>76.904438</td>\n",
       "    </tr>\n",
       "    <tr>\n",
       "      <th>min</th>\n",
       "      <td>0.000000</td>\n",
       "      <td>0.000000</td>\n",
       "      <td>0.000000</td>\n",
       "      <td>0.000000</td>\n",
       "      <td>0.000000</td>\n",
       "      <td>0.000000</td>\n",
       "      <td>0.000000</td>\n",
       "      <td>0.00000</td>\n",
       "      <td>0.000000</td>\n",
       "      <td>0.000000</td>\n",
       "      <td>0.000000</td>\n",
       "      <td>0.000000</td>\n",
       "    </tr>\n",
       "    <tr>\n",
       "      <th>25%</th>\n",
       "      <td>0.000000</td>\n",
       "      <td>7.090000</td>\n",
       "      <td>30.660000</td>\n",
       "      <td>0.000000</td>\n",
       "      <td>51.960000</td>\n",
       "      <td>0.000000</td>\n",
       "      <td>0.030000</td>\n",
       "      <td>0.00000</td>\n",
       "      <td>1.600000</td>\n",
       "      <td>80.690000</td>\n",
       "      <td>0.000000</td>\n",
       "      <td>0.000000</td>\n",
       "    </tr>\n",
       "    <tr>\n",
       "      <th>50%</th>\n",
       "      <td>0.000000</td>\n",
       "      <td>26.560000</td>\n",
       "      <td>88.225000</td>\n",
       "      <td>2.030000</td>\n",
       "      <td>142.190000</td>\n",
       "      <td>0.630000</td>\n",
       "      <td>5.830000</td>\n",
       "      <td>0.00000</td>\n",
       "      <td>12.885000</td>\n",
       "      <td>194.100000</td>\n",
       "      <td>0.000000</td>\n",
       "      <td>0.000000</td>\n",
       "    </tr>\n",
       "    <tr>\n",
       "      <th>75%</th>\n",
       "      <td>0.000000</td>\n",
       "      <td>70.040000</td>\n",
       "      <td>194.345000</td>\n",
       "      <td>12.710000</td>\n",
       "      <td>305.220000</td>\n",
       "      <td>9.195000</td>\n",
       "      <td>25.390000</td>\n",
       "      <td>0.20000</td>\n",
       "      <td>43.980000</td>\n",
       "      <td>381.832500</td>\n",
       "      <td>0.000000</td>\n",
       "      <td>0.000000</td>\n",
       "    </tr>\n",
       "    <tr>\n",
       "      <th>max</th>\n",
       "      <td>2613.310000</td>\n",
       "      <td>4363.960000</td>\n",
       "      <td>4450.740000</td>\n",
       "      <td>1373.090000</td>\n",
       "      <td>7454.630000</td>\n",
       "      <td>3038.340000</td>\n",
       "      <td>3613.980000</td>\n",
       "      <td>1351.11000</td>\n",
       "      <td>3929.240000</td>\n",
       "      <td>7716.140000</td>\n",
       "      <td>19.760000</td>\n",
       "      <td>6789.410000</td>\n",
       "    </tr>\n",
       "  </tbody>\n",
       "</table>\n",
       "</div>"
      ],
      "text/plain": [
       "       roam_ic_mou_6  loc_ic_t2t_mou_6  loc_ic_t2m_mou_6  loc_ic_t2f_mou_6  \\\n",
       "count   20984.000000      20984.000000      20984.000000      20984.000000   \n",
       "mean       16.611307         66.864156        153.497267         15.755854   \n",
       "std        77.514092        158.017983        215.644988         45.059876   \n",
       "min         0.000000          0.000000          0.000000          0.000000   \n",
       "25%         0.000000          7.090000         30.660000          0.000000   \n",
       "50%         0.000000         26.560000         88.225000          2.030000   \n",
       "75%         0.000000         70.040000        194.345000         12.710000   \n",
       "max      2613.310000       4363.960000       4450.740000       1373.090000   \n",
       "\n",
       "       loc_ic_mou_6  std_ic_t2t_mou_6  std_ic_t2m_mou_6  std_ic_t2f_mou_6  \\\n",
       "count  20984.000000      20984.000000      20984.000000       20984.00000   \n",
       "mean     236.127060         15.217241         30.273796           2.91167   \n",
       "std      309.688761         70.835910         95.300274          21.05211   \n",
       "min        0.000000          0.000000          0.000000           0.00000   \n",
       "25%       51.960000          0.000000          0.030000           0.00000   \n",
       "50%      142.190000          0.630000          5.830000           0.00000   \n",
       "75%      305.220000          9.195000         25.390000           0.20000   \n",
       "max     7454.630000       3038.340000       3613.980000        1351.11000   \n",
       "\n",
       "       std_ic_mou_6  total_ic_mou_6  spl_ic_mou_6  isd_ic_mou_6  \n",
       "count  20984.000000    20984.000000  20984.000000  20984.000000  \n",
       "mean      48.406447      296.683751      0.063772     10.848323  \n",
       "std      131.480014      357.918139      0.200656     76.904438  \n",
       "min        0.000000        0.000000      0.000000      0.000000  \n",
       "25%        1.600000       80.690000      0.000000      0.000000  \n",
       "50%       12.885000      194.100000      0.000000      0.000000  \n",
       "75%       43.980000      381.832500      0.000000      0.000000  \n",
       "max     3929.240000     7716.140000     19.760000   6789.410000  "
      ]
     },
     "execution_count": 71,
     "metadata": {},
     "output_type": "execute_result"
    }
   ],
   "source": [
    "telecom_df_high_val_cust.loc[:,mou_ic_cols6].describe()"
   ]
  },
  {
   "cell_type": "code",
   "execution_count": 72,
   "id": "e2023900",
   "metadata": {},
   "outputs": [
    {
     "data": {
      "image/png": "[encoded data removed]",
      "text/plain": [
       "<Figure size 1440x720 with 2 Axes>"
      ]
     },
     "metadata": {
      "needs_background": "light"
     },
     "output_type": "display_data"
    }
   ],
   "source": [
    "#Checking the corelation\n",
    "plt.subplots(figsize = (20,10))\n",
    "#Plotting heatmap of numerical features\n",
    "sns.heatmap(round(telecom_df_high_val_cust.filter(mou_ic_cols6).corr(),2), cmap='coolwarm' , annot=True, center = 0)\n",
    "plt.show()"
   ]
  },
  {
   "cell_type": "markdown",
   "id": "39bd9979",
   "metadata": {},
   "source": [
    "##### Observations : We can see that total_ic_mou_6, std_ic_mou_6 and loc_ic_mou_6 seems to have strong correlation with other fileds and they needs to be inspected to avoid any multicolinearity issues."
   ]
  },
  {
   "cell_type": "code",
   "execution_count": 73,
   "id": "704ecf1c",
   "metadata": {},
   "outputs": [
    {
     "data": {
      "text/plain": [
       "['loc_ic_mou_6',\n",
       " 'loc_ic_mou_7',\n",
       " 'loc_ic_mou_8',\n",
       " 'std_ic_mou_6',\n",
       " 'std_ic_mou_7',\n",
       " 'std_ic_mou_8',\n",
       " 'total_ic_mou_6',\n",
       " 'total_ic_mou_7',\n",
       " 'total_ic_mou_8']"
      ]
     },
     "execution_count": 73,
     "metadata": {},
     "output_type": "execute_result"
    }
   ],
   "source": [
    "#lets drop columns with total_ic_mou|std_ic_mou|loc_ic_mou\n",
    "list_total_ic_cols = telecom_df_high_val_cust.columns[telecom_df_high_val_cust.columns.str.contains('total_ic_mou|std_ic_mou|loc_ic_mou',regex=True)]\n",
    "telecom_df_high_val_cust.drop(list_total_ic_cols,axis=1,inplace=True)\n",
    "list_total_ic_cols.tolist()"
   ]
  },
  {
   "cell_type": "code",
   "execution_count": 74,
   "id": "da74b6b7",
   "metadata": {},
   "outputs": [
    {
     "data": {
      "text/plain": [
       "(20984, 139)"
      ]
     },
     "execution_count": 74,
     "metadata": {},
     "output_type": "execute_result"
    }
   ],
   "source": [
    "telecom_df_high_val_cust.shape"
   ]
  },
  {
   "cell_type": "markdown",
   "id": "4d2d938e",
   "metadata": {},
   "source": [
    "## 6. Offnet Usage related Features"
   ]
  },
  {
   "cell_type": "code",
   "execution_count": 75,
   "id": "559519b1",
   "metadata": {},
   "outputs": [],
   "source": [
    "offnet_usage_service_col = telecom_df_high_val_cust.columns[telecom_df_high_val_cust.columns.str.contains('offnet.*mou',regex=True)]"
   ]
  },
  {
   "cell_type": "code",
   "execution_count": 76,
   "id": "7132afa0",
   "metadata": {},
   "outputs": [
    {
     "data": {
      "image/png": "[encoded data removed]",
      "text/plain": [
       "<Figure size 1440x1152 with 3 Axes>"
      ]
     },
     "metadata": {
      "needs_background": "light"
     },
     "output_type": "display_data"
    }
   ],
   "source": [
    "# Offnet mou values for churned and non churned customers\n",
    "plot_box_chart('offnet_mou')"
   ]
  },
  {
   "cell_type": "code",
   "execution_count": 77,
   "id": "22609e37",
   "metadata": {},
   "outputs": [
    {
     "data": {
      "image/png": "[encoded data removed]",
      "text/plain": [
       "<Figure size 720x360 with 1 Axes>"
      ]
     },
     "metadata": {
      "needs_background": "light"
     },
     "output_type": "display_data"
    },
    {
     "data": {
      "text/html": [
       "<div>\n",
       "<style scoped>\n",
       "    .dataframe tbody tr th:only-of-type {\n",
       "        vertical-align: middle;\n",
       "    }\n",
       "\n",
       "    .dataframe tbody tr th {\n",
       "        vertical-align: top;\n",
       "    }\n",
       "\n",
       "    .dataframe thead th {\n",
       "        text-align: right;\n",
       "    }\n",
       "</style>\n",
       "<table border=\"1\" class=\"dataframe\">\n",
       "  <thead>\n",
       "    <tr style=\"text-align: right;\">\n",
       "      <th></th>\n",
       "      <th>offnet_mou_6</th>\n",
       "      <th>offnet_mou_7</th>\n",
       "      <th>offnet_mou_8</th>\n",
       "    </tr>\n",
       "  </thead>\n",
       "  <tbody>\n",
       "    <tr>\n",
       "      <th>Non Churn</th>\n",
       "      <td>388.609858</td>\n",
       "      <td>404.815650</td>\n",
       "      <td>371.048317</td>\n",
       "    </tr>\n",
       "    <tr>\n",
       "      <th>Churn</th>\n",
       "      <td>526.734603</td>\n",
       "      <td>279.916975</td>\n",
       "      <td>25.760453</td>\n",
       "    </tr>\n",
       "  </tbody>\n",
       "</table>\n",
       "</div>"
      ],
      "text/plain": [
       "           offnet_mou_6  offnet_mou_7  offnet_mou_8\n",
       "Non Churn    388.609858    404.815650    371.048317\n",
       "Churn        526.734603    279.916975     25.760453"
      ]
     },
     "execution_count": 77,
     "metadata": {},
     "output_type": "execute_result"
    }
   ],
   "source": [
    "plot_mean_bar_chart(telecom_df_high_val_cust, offnet_usage_service_col)"
   ]
  },
  {
   "cell_type": "markdown",
   "id": "0785d8d2",
   "metadata": {},
   "source": [
    "##### Observations : We can see the drop for offnet mou services in the 8th month"
   ]
  },
  {
   "cell_type": "markdown",
   "id": "957a7d4a",
   "metadata": {},
   "source": [
    "## 7. ONNET : All kind of calls within the same operator network"
   ]
  },
  {
   "cell_type": "code",
   "execution_count": 78,
   "id": "41851afe",
   "metadata": {},
   "outputs": [],
   "source": [
    "#minutes of usage related columns\n",
    "onnet_usage_service =  telecom_df_high_val_cust.columns[telecom_df_high_val_cust.columns.str.contains('^onnet.*mou',regex=True)]"
   ]
  },
  {
   "cell_type": "code",
   "execution_count": 79,
   "id": "f7fe128e",
   "metadata": {},
   "outputs": [
    {
     "data": {
      "text/plain": [
       "Index(['onnet_mou_6', 'onnet_mou_7', 'onnet_mou_8'], dtype='object')"
      ]
     },
     "execution_count": 79,
     "metadata": {},
     "output_type": "execute_result"
    }
   ],
   "source": [
    "onnet_usage_service"
   ]
  },
  {
   "cell_type": "code",
   "execution_count": 80,
   "id": "06d82688",
   "metadata": {},
   "outputs": [
    {
     "data": {
      "image/png": "[encoded data removed]",
      "text/plain": [
       "<Figure size 1440x1152 with 3 Axes>"
      ]
     },
     "metadata": {
      "needs_background": "light"
     },
     "output_type": "display_data"
    }
   ],
   "source": [
    "# Plotting offnet\n",
    "plot_box_chart('onnet_mou')"
   ]
  },
  {
   "cell_type": "code",
   "execution_count": 81,
   "id": "2127706e",
   "metadata": {},
   "outputs": [
    {
     "data": {
      "image/png": "[encoded data removed]",
      "text/plain": [
       "<Figure size 720x360 with 1 Axes>"
      ]
     },
     "metadata": {
      "needs_background": "light"
     },
     "output_type": "display_data"
    },
    {
     "data": {
      "text/html": [
       "<div>\n",
       "<style scoped>\n",
       "    .dataframe tbody tr th:only-of-type {\n",
       "        vertical-align: middle;\n",
       "    }\n",
       "\n",
       "    .dataframe tbody tr th {\n",
       "        vertical-align: top;\n",
       "    }\n",
       "\n",
       "    .dataframe thead th {\n",
       "        text-align: right;\n",
       "    }\n",
       "</style>\n",
       "<table border=\"1\" class=\"dataframe\">\n",
       "  <thead>\n",
       "    <tr style=\"text-align: right;\">\n",
       "      <th></th>\n",
       "      <th>onnet_mou_6</th>\n",
       "      <th>onnet_mou_7</th>\n",
       "      <th>onnet_mou_8</th>\n",
       "    </tr>\n",
       "  </thead>\n",
       "  <tbody>\n",
       "    <tr>\n",
       "      <th>Non Churn</th>\n",
       "      <td>267.620306</td>\n",
       "      <td>286.692580</td>\n",
       "      <td>261.348319</td>\n",
       "    </tr>\n",
       "    <tr>\n",
       "      <th>Churn</th>\n",
       "      <td>449.545283</td>\n",
       "      <td>242.203644</td>\n",
       "      <td>23.864699</td>\n",
       "    </tr>\n",
       "  </tbody>\n",
       "</table>\n",
       "</div>"
      ],
      "text/plain": [
       "           onnet_mou_6  onnet_mou_7  onnet_mou_8\n",
       "Non Churn   267.620306   286.692580   261.348319\n",
       "Churn       449.545283   242.203644    23.864699"
      ]
     },
     "execution_count": 81,
     "metadata": {},
     "output_type": "execute_result"
    }
   ],
   "source": [
    "plot_mean_bar_chart(telecom_df_high_val_cust, onnet_usage_service)"
   ]
  },
  {
   "cell_type": "markdown",
   "id": "d8e49388",
   "metadata": {},
   "source": [
    "##### Observations : We also see that there is a drop in Onnet usage in the 8th month for churned customers"
   ]
  },
  {
   "cell_type": "markdown",
   "id": "99b8b005",
   "metadata": {},
   "source": [
    "## 8. Tenure Analysis for Customers "
   ]
  },
  {
   "cell_type": "code",
   "execution_count": 82,
   "id": "798b3fc7",
   "metadata": {},
   "outputs": [],
   "source": [
    "tenure_data = telecom_df_high_val_cust.copy()"
   ]
  },
  {
   "cell_type": "code",
   "execution_count": 83,
   "id": "a929e159",
   "metadata": {},
   "outputs": [
    {
     "data": {
      "image/png": "[encoded data removed]",
      "text/plain": [
       "<Figure size 1008x576 with 1 Axes>"
      ]
     },
     "metadata": {
      "needs_background": "light"
     },
     "output_type": "display_data"
    }
   ],
   "source": [
    "plt.figure(figsize=(14,8))\n",
    "# aon --> Age on network - number of days the customer is using the operator T network\n",
    "tenure_data['tenure'] = tenure_data['aon']/30\n",
    "tenure_data['tenure'].head()\n",
    "ax = sns.distplot(tenure_data['tenure'], hist=True, kde=False, \n",
    "             bins=int(180/5), color = 'darkgreen', \n",
    "             hist_kws={'edgecolor':'red'},\n",
    "             kde_kws={'linewidth': 4})\n",
    "ax.set_ylabel('Number of Customers')\n",
    "ax.set_xlabel('Tenure in Months')\n",
    "ax.set_title('Customers Vs Tenure')\n",
    "plt.show()"
   ]
  },
  {
   "cell_type": "code",
   "execution_count": 84,
   "id": "f308805e",
   "metadata": {},
   "outputs": [
    {
     "data": {
      "text/plain": [
       "12    6-12 Months\n",
       "15        1-2 Yrs\n",
       "23        1-2 Yrs\n",
       "24        2-5 Yrs\n",
       "27        1-2 Yrs\n",
       "Name: tenure_range, dtype: category\n",
       "Categories (5, object): ['0-6 Months' < '6-12 Months' < '1-2 Yrs' < '2-5 Yrs' < '5 Yrs and above']"
      ]
     },
     "execution_count": 84,
     "metadata": {},
     "output_type": "execute_result"
    }
   ],
   "source": [
    "tn_range = [0, 6, 12, 24, 60, 61]\n",
    "tn_label = [ '0-6 Months', '6-12 Months', '1-2 Yrs', '2-5 Yrs', '5 Yrs and above']\n",
    "tenure_data['tenure_range'] = pd.cut(tenure_data['tenure'], tn_range, labels=tn_label)\n",
    "tenure_data['tenure_range'].head()"
   ]
  },
  {
   "cell_type": "code",
   "execution_count": 85,
   "id": "b7d358d6",
   "metadata": {},
   "outputs": [
    {
     "data": {
      "image/png": "[encoded data removed]",
      "text/plain": [
       "<Figure size 1008x576 with 1 Axes>"
      ]
     },
     "metadata": {
      "needs_background": "light"
     },
     "output_type": "display_data"
    }
   ],
   "source": [
    "plt.figure(figsize=(14,8))\n",
    "sns.countplot(x = 'tenure_range', hue = 'churn',data = tenure_data,palette=(\"plasma\"))\n",
    "plt.show()"
   ]
  },
  {
   "cell_type": "markdown",
   "id": "86c933f2",
   "metadata": {},
   "source": [
    "### Checking columns with more than 30% NA values."
   ]
  },
  {
   "cell_type": "code",
   "execution_count": 86,
   "id": "ed8875c5",
   "metadata": {},
   "outputs": [
    {
     "data": {
      "text/plain": [
       "count_rech_3g_8             51.725124\n",
       "night_pck_user_8            51.725124\n",
       "date_of_last_rech_data_8    51.725124\n",
       "count_rech_2g_8             51.725124\n",
       "fb_user_8                   51.725124\n",
       "                              ...    \n",
       "isd_og_mou_6                 0.000000\n",
       "std_og_t2c_mou_8             0.000000\n",
       "std_og_t2f_mou_8             0.000000\n",
       "std_og_t2f_mou_7             0.000000\n",
       "churn                        0.000000\n",
       "Length: 139, dtype: float64"
      ]
     },
     "execution_count": 86,
     "metadata": {},
     "output_type": "execute_result"
    }
   ],
   "source": [
    "100*telecom_df_high_val_cust.isnull().mean().sort_values(ascending=False)"
   ]
  },
  {
   "cell_type": "code",
   "execution_count": 88,
   "id": "2f3d6ae4",
   "metadata": {},
   "outputs": [
    {
     "name": "stdout",
     "output_type": "stream",
     "text": [
      "The Below Columns are removed from the Dataset :\n",
      "\n",
      "['date_of_last_rech_data_6', 'date_of_last_rech_data_7', 'date_of_last_rech_data_8', 'count_rech_2g_8', 'count_rech_3g_8', 'night_pck_user_6', 'night_pck_user_7', 'night_pck_user_8', 'fb_user_6', 'fb_user_7', 'fb_user_8']\n"
     ]
    }
   ],
   "source": [
    "# making list of columns that have high missing values that we want to remove\n",
    "rmcols=[]\n",
    "for i in telecom_df_high_val_cust.columns:\n",
    "    if(telecom_df_high_val_cust[i].isnull().mean()*100>=30.00):\n",
    "        rmcols.append(i)\n",
    "        \n",
    "print(\"The Below Columns are removed from the Dataset :\\n\")\n",
    "print(rmcols)"
   ]
  },
  {
   "cell_type": "code",
   "execution_count": 89,
   "id": "3343f14a",
   "metadata": {},
   "outputs": [
    {
     "data": {
      "text/plain": [
       "(20984, 139)"
      ]
     },
     "execution_count": 89,
     "metadata": {},
     "output_type": "execute_result"
    }
   ],
   "source": [
    "telecom_df_high_val_cust.shape"
   ]
  },
  {
   "cell_type": "code",
   "execution_count": 90,
   "id": "38d65cea",
   "metadata": {},
   "outputs": [
    {
     "data": {
      "text/plain": [
       "(20984, 128)"
      ]
     },
     "execution_count": 90,
     "metadata": {},
     "output_type": "execute_result"
    }
   ],
   "source": [
    "# Removing these columns\n",
    "telecom_df_high_val_cust.drop(rmcols,axis=1,inplace=True)\n",
    "telecom_df_high_val_cust.shape# verifying the shape of the dataset"
   ]
  },
  {
   "cell_type": "code",
   "execution_count": 91,
   "id": "7416a022",
   "metadata": {},
   "outputs": [],
   "source": [
    "telecom_df_high_val_cust.drop(['max_rech_data_8'], axis=1,inplace=True)"
   ]
  },
  {
   "cell_type": "code",
   "execution_count": 92,
   "id": "b8f810a9",
   "metadata": {},
   "outputs": [
    {
     "data": {
      "text/plain": [
       "(20984, 127)"
      ]
     },
     "execution_count": 92,
     "metadata": {},
     "output_type": "execute_result"
    }
   ],
   "source": [
    "telecom_df_high_val_cust.shape"
   ]
  },
  {
   "cell_type": "code",
   "execution_count": 93,
   "id": "a85180a3",
   "metadata": {},
   "outputs": [],
   "source": [
    "numberic_col = [ 'og_others_6','ic_others_6', 'og_others_7', 'ic_others_7']"
   ]
  },
  {
   "cell_type": "code",
   "execution_count": 94,
   "id": "76cef366",
   "metadata": {},
   "outputs": [],
   "source": [
    "#Replacing NaN values with zero for all numeric data as most of the data is clean and will not impact the analysis\n",
    "for i in numberic_col:\n",
    "    telecom_df_high_val_cust.loc[telecom_df_high_val_cust[i].isnull(),i]=0"
   ]
  },
  {
   "cell_type": "code",
   "execution_count": 95,
   "id": "fbede30f",
   "metadata": {},
   "outputs": [
    {
     "data": {
      "text/plain": [
       "og_others_8             3.678994\n",
       "ic_others_8             3.678994\n",
       "date_of_last_rech_8     1.906214\n",
       "last_date_of_month_8    0.519443\n",
       "date_of_last_rech_7     0.328822\n",
       "                          ...   \n",
       "std_og_t2f_mou_8        0.000000\n",
       "std_og_t2f_mou_7        0.000000\n",
       "std_og_t2f_mou_6        0.000000\n",
       "std_og_t2m_mou_8        0.000000\n",
       "churn                   0.000000\n",
       "Length: 127, dtype: float64"
      ]
     },
     "execution_count": 95,
     "metadata": {},
     "output_type": "execute_result"
    }
   ],
   "source": [
    "100*telecom_df_high_val_cust.isnull().mean().sort_values(ascending=False)"
   ]
  },
  {
   "cell_type": "markdown",
   "id": "ef880f4f",
   "metadata": {},
   "source": [
    "## 8. Derive new features."
   ]
  },
  {
   "cell_type": "code",
   "execution_count": 96,
   "id": "743bd3f0",
   "metadata": {},
   "outputs": [
    {
     "name": "stdout",
     "output_type": "stream",
     "text": [
      "(20984, 127)\n"
     ]
    },
    {
     "data": {
      "text/html": [
       "<div>\n",
       "<style scoped>\n",
       "    .dataframe tbody tr th:only-of-type {\n",
       "        vertical-align: middle;\n",
       "    }\n",
       "\n",
       "    .dataframe tbody tr th {\n",
       "        vertical-align: top;\n",
       "    }\n",
       "\n",
       "    .dataframe thead th {\n",
       "        text-align: right;\n",
       "    }\n",
       "</style>\n",
       "<table border=\"1\" class=\"dataframe\">\n",
       "  <thead>\n",
       "    <tr style=\"text-align: right;\">\n",
       "      <th></th>\n",
       "      <th>id</th>\n",
       "      <th>last_date_of_month_8</th>\n",
       "      <th>arpu_6</th>\n",
       "      <th>arpu_7</th>\n",
       "      <th>arpu_8</th>\n",
       "      <th>onnet_mou_6</th>\n",
       "      <th>onnet_mou_7</th>\n",
       "      <th>onnet_mou_8</th>\n",
       "      <th>offnet_mou_6</th>\n",
       "      <th>offnet_mou_7</th>\n",
       "      <th>...</th>\n",
       "      <th>aon</th>\n",
       "      <th>vbc_3g_8</th>\n",
       "      <th>vbc_3g_7</th>\n",
       "      <th>vbc_3g_6</th>\n",
       "      <th>churn_probability</th>\n",
       "      <th>total_rech_amt_data_6</th>\n",
       "      <th>total_rech_amt_data_7</th>\n",
       "      <th>total_rech_amt_data_8</th>\n",
       "      <th>total_avg_rech_amnt_6_7_GPhase</th>\n",
       "      <th>churn</th>\n",
       "    </tr>\n",
       "  </thead>\n",
       "  <tbody>\n",
       "    <tr>\n",
       "      <th>12</th>\n",
       "      <td>12</td>\n",
       "      <td>2014-08-31</td>\n",
       "      <td>439.919</td>\n",
       "      <td>397.946</td>\n",
       "      <td>392.024</td>\n",
       "      <td>244.46</td>\n",
       "      <td>108.31</td>\n",
       "      <td>42.98</td>\n",
       "      <td>571.98</td>\n",
       "      <td>727.91</td>\n",
       "      <td>...</td>\n",
       "      <td>322</td>\n",
       "      <td>0.0</td>\n",
       "      <td>0.00</td>\n",
       "      <td>0.00</td>\n",
       "      <td>0</td>\n",
       "      <td>0.0</td>\n",
       "      <td>0.0</td>\n",
       "      <td>0.0</td>\n",
       "      <td>469.5</td>\n",
       "      <td>0</td>\n",
       "    </tr>\n",
       "    <tr>\n",
       "      <th>15</th>\n",
       "      <td>15</td>\n",
       "      <td>2014-08-31</td>\n",
       "      <td>580.549</td>\n",
       "      <td>377.294</td>\n",
       "      <td>338.286</td>\n",
       "      <td>10.43</td>\n",
       "      <td>24.99</td>\n",
       "      <td>194.43</td>\n",
       "      <td>317.11</td>\n",
       "      <td>341.79</td>\n",
       "      <td>...</td>\n",
       "      <td>602</td>\n",
       "      <td>0.0</td>\n",
       "      <td>0.00</td>\n",
       "      <td>0.00</td>\n",
       "      <td>0</td>\n",
       "      <td>155.0</td>\n",
       "      <td>0.0</td>\n",
       "      <td>155.0</td>\n",
       "      <td>604.5</td>\n",
       "      <td>0</td>\n",
       "    </tr>\n",
       "    <tr>\n",
       "      <th>23</th>\n",
       "      <td>23</td>\n",
       "      <td>2014-08-31</td>\n",
       "      <td>1130.948</td>\n",
       "      <td>905.506</td>\n",
       "      <td>479.762</td>\n",
       "      <td>859.53</td>\n",
       "      <td>372.71</td>\n",
       "      <td>0.89</td>\n",
       "      <td>293.46</td>\n",
       "      <td>450.11</td>\n",
       "      <td>...</td>\n",
       "      <td>455</td>\n",
       "      <td>0.0</td>\n",
       "      <td>0.00</td>\n",
       "      <td>0.00</td>\n",
       "      <td>0</td>\n",
       "      <td>0.0</td>\n",
       "      <td>0.0</td>\n",
       "      <td>0.0</td>\n",
       "      <td>1205.0</td>\n",
       "      <td>0</td>\n",
       "    </tr>\n",
       "    <tr>\n",
       "      <th>24</th>\n",
       "      <td>24</td>\n",
       "      <td>2014-08-31</td>\n",
       "      <td>371.974</td>\n",
       "      <td>352.069</td>\n",
       "      <td>240.449</td>\n",
       "      <td>93.18</td>\n",
       "      <td>38.29</td>\n",
       "      <td>29.86</td>\n",
       "      <td>531.19</td>\n",
       "      <td>507.76</td>\n",
       "      <td>...</td>\n",
       "      <td>1219</td>\n",
       "      <td>0.0</td>\n",
       "      <td>0.00</td>\n",
       "      <td>0.00</td>\n",
       "      <td>0</td>\n",
       "      <td>24.0</td>\n",
       "      <td>48.0</td>\n",
       "      <td>24.0</td>\n",
       "      <td>469.5</td>\n",
       "      <td>0</td>\n",
       "    </tr>\n",
       "    <tr>\n",
       "      <th>27</th>\n",
       "      <td>27</td>\n",
       "      <td>2014-08-31</td>\n",
       "      <td>390.489</td>\n",
       "      <td>350.985</td>\n",
       "      <td>421.300</td>\n",
       "      <td>8.58</td>\n",
       "      <td>11.48</td>\n",
       "      <td>12.68</td>\n",
       "      <td>133.16</td>\n",
       "      <td>158.73</td>\n",
       "      <td>...</td>\n",
       "      <td>573</td>\n",
       "      <td>700.4</td>\n",
       "      <td>185.71</td>\n",
       "      <td>173.72</td>\n",
       "      <td>0</td>\n",
       "      <td>209.0</td>\n",
       "      <td>306.0</td>\n",
       "      <td>217.0</td>\n",
       "      <td>826.0</td>\n",
       "      <td>0</td>\n",
       "    </tr>\n",
       "  </tbody>\n",
       "</table>\n",
       "<p>5 rows × 127 columns</p>\n",
       "</div>"
      ],
      "text/plain": [
       "    id last_date_of_month_8    arpu_6   arpu_7   arpu_8  onnet_mou_6  \\\n",
       "12  12           2014-08-31   439.919  397.946  392.024       244.46   \n",
       "15  15           2014-08-31   580.549  377.294  338.286        10.43   \n",
       "23  23           2014-08-31  1130.948  905.506  479.762       859.53   \n",
       "24  24           2014-08-31   371.974  352.069  240.449        93.18   \n",
       "27  27           2014-08-31   390.489  350.985  421.300         8.58   \n",
       "\n",
       "    onnet_mou_7  onnet_mou_8  offnet_mou_6  offnet_mou_7  ...   aon  vbc_3g_8  \\\n",
       "12       108.31        42.98        571.98        727.91  ...   322       0.0   \n",
       "15        24.99       194.43        317.11        341.79  ...   602       0.0   \n",
       "23       372.71         0.89        293.46        450.11  ...   455       0.0   \n",
       "24        38.29        29.86        531.19        507.76  ...  1219       0.0   \n",
       "27        11.48        12.68        133.16        158.73  ...   573     700.4   \n",
       "\n",
       "    vbc_3g_7  vbc_3g_6  churn_probability  total_rech_amt_data_6  \\\n",
       "12      0.00      0.00                  0                    0.0   \n",
       "15      0.00      0.00                  0                  155.0   \n",
       "23      0.00      0.00                  0                    0.0   \n",
       "24      0.00      0.00                  0                   24.0   \n",
       "27    185.71    173.72                  0                  209.0   \n",
       "\n",
       "    total_rech_amt_data_7  total_rech_amt_data_8  \\\n",
       "12                    0.0                    0.0   \n",
       "15                    0.0                  155.0   \n",
       "23                    0.0                    0.0   \n",
       "24                   48.0                   24.0   \n",
       "27                  306.0                  217.0   \n",
       "\n",
       "    total_avg_rech_amnt_6_7_GPhase  churn  \n",
       "12                           469.5      0  \n",
       "15                           604.5      0  \n",
       "23                          1205.0      0  \n",
       "24                           469.5      0  \n",
       "27                           826.0      0  \n",
       "\n",
       "[5 rows x 127 columns]"
      ]
     },
     "execution_count": 96,
     "metadata": {},
     "output_type": "execute_result"
    }
   ],
   "source": [
    "telecom_df_final = telecom_df_high_val_cust.copy()\n",
    "print(telecom_df_final.shape)\n",
    "telecom_df_final.head()"
   ]
  },
  {
   "cell_type": "code",
   "execution_count": 97,
   "id": "23a8d073",
   "metadata": {},
   "outputs": [
    {
     "name": "stdout",
     "output_type": "stream",
     "text": [
      "(20984, 122)\n",
      "arpu\n",
      "onnet_mou\n",
      "offnet_mou\n",
      "roam_ic_mou\n",
      "roam_og_mou\n",
      "loc_og_t2t_mou\n",
      "loc_og_t2m_mou\n",
      "loc_og_t2f_mou\n",
      "loc_og_t2c_mou\n",
      "std_og_t2t_mou\n",
      "std_og_t2m_mou\n",
      "std_og_t2f_mou\n",
      "isd_og_mou\n",
      "spl_og_mou\n",
      "og_others\n",
      "loc_ic_t2t_mou\n",
      "loc_ic_t2m_mou\n",
      "loc_ic_t2f_mou\n",
      "std_ic_t2t_mou\n",
      "std_ic_t2m_mou\n",
      "std_ic_t2f_mou\n",
      "spl_ic_mou\n",
      "isd_ic_mou\n",
      "ic_others\n",
      "total_rech_num\n",
      "total_rech_amt\n",
      "max_rech_amt\n",
      "last_day_rch_amt\n",
      "total_rech_data\n",
      "max_rech_data\n",
      "av_rech_amt_data\n",
      "vol_2g_mb\n",
      "vol_3g_mb\n",
      "monthly_2g\n",
      "sachet_2g\n",
      "monthly_3g\n",
      "sachet_3g\n",
      "vbc_3g\n",
      "total_rech_amt_data\n"
     ]
    }
   ],
   "source": [
    "telecom_df_final.drop([\"total_avg_rech_amnt_6_7_GPhase\"],axis=1,inplace=True)\n",
    "telecom_df_final.drop(telecom_df_high_val_cust.filter(regex='date_').columns,axis=1,inplace=True)\n",
    "print (telecom_df_final.shape)\n",
    "\n",
    "col_list = telecom_df_final.filter(regex='_6|_7').columns.str[:-2]\n",
    "for idx, col in enumerate(col_list.unique()):\n",
    "    print(col)\n",
    "    avg_col_name = \"avg_\"+col+\"_av67\"\n",
    "    col_6 = col+\"_6\"\n",
    "    col_7 = col+\"_7\"\n",
    "    telecom_df_final[avg_col_name] = (telecom_df_final[col_6]  + telecom_df_final[col_7])/ 2"
   ]
  },
  {
   "cell_type": "code",
   "execution_count": 98,
   "id": "2c65e8c5",
   "metadata": {},
   "outputs": [
    {
     "name": "stdout",
     "output_type": "stream",
     "text": [
      "(20984, 83)\n"
     ]
    }
   ],
   "source": [
    "col_list_to_drop = telecom_df_final.filter(regex='_6|_7')\n",
    "telecom_df_final.drop(col_list_to_drop,axis=1,inplace=True)\n",
    "print (telecom_df_final.shape)"
   ]
  },
  {
   "cell_type": "code",
   "execution_count": 99,
   "id": "acb4c5ae",
   "metadata": {},
   "outputs": [
    {
     "data": {
      "text/html": [
       "<div>\n",
       "<style scoped>\n",
       "    .dataframe tbody tr th:only-of-type {\n",
       "        vertical-align: middle;\n",
       "    }\n",
       "\n",
       "    .dataframe tbody tr th {\n",
       "        vertical-align: top;\n",
       "    }\n",
       "\n",
       "    .dataframe thead th {\n",
       "        text-align: right;\n",
       "    }\n",
       "</style>\n",
       "<table border=\"1\" class=\"dataframe\">\n",
       "  <thead>\n",
       "    <tr style=\"text-align: right;\">\n",
       "      <th></th>\n",
       "      <th>id</th>\n",
       "      <th>arpu_8</th>\n",
       "      <th>onnet_mou_8</th>\n",
       "      <th>offnet_mou_8</th>\n",
       "      <th>roam_ic_mou_8</th>\n",
       "      <th>roam_og_mou_8</th>\n",
       "      <th>loc_og_t2t_mou_8</th>\n",
       "      <th>loc_og_t2m_mou_8</th>\n",
       "      <th>loc_og_t2f_mou_8</th>\n",
       "      <th>loc_og_t2c_mou_8</th>\n",
       "      <th>...</th>\n",
       "      <th>avg_max_rech_data_av67</th>\n",
       "      <th>avg_av_rech_amt_data_av67</th>\n",
       "      <th>avg_vol_2g_mb_av67</th>\n",
       "      <th>avg_vol_3g_mb_av67</th>\n",
       "      <th>avg_monthly_2g_av67</th>\n",
       "      <th>avg_sachet_2g_av67</th>\n",
       "      <th>avg_monthly_3g_av67</th>\n",
       "      <th>avg_sachet_3g_av67</th>\n",
       "      <th>avg_vbc_3g_av67</th>\n",
       "      <th>avg_total_rech_amt_data_av67</th>\n",
       "    </tr>\n",
       "  </thead>\n",
       "  <tbody>\n",
       "    <tr>\n",
       "      <th>12</th>\n",
       "      <td>12</td>\n",
       "      <td>392.024</td>\n",
       "      <td>42.98</td>\n",
       "      <td>644.43</td>\n",
       "      <td>0.0</td>\n",
       "      <td>0.0</td>\n",
       "      <td>3.98</td>\n",
       "      <td>51.24</td>\n",
       "      <td>0.00</td>\n",
       "      <td>0.00</td>\n",
       "      <td>...</td>\n",
       "      <td>0.0</td>\n",
       "      <td>0.0</td>\n",
       "      <td>0.00</td>\n",
       "      <td>0.00</td>\n",
       "      <td>0.0</td>\n",
       "      <td>0.0</td>\n",
       "      <td>0.0</td>\n",
       "      <td>0.0</td>\n",
       "      <td>0.000</td>\n",
       "      <td>0.0</td>\n",
       "    </tr>\n",
       "    <tr>\n",
       "      <th>15</th>\n",
       "      <td>15</td>\n",
       "      <td>338.286</td>\n",
       "      <td>194.43</td>\n",
       "      <td>197.09</td>\n",
       "      <td>0.0</td>\n",
       "      <td>0.0</td>\n",
       "      <td>194.43</td>\n",
       "      <td>185.88</td>\n",
       "      <td>4.94</td>\n",
       "      <td>0.00</td>\n",
       "      <td>...</td>\n",
       "      <td>77.0</td>\n",
       "      <td>77.0</td>\n",
       "      <td>130.21</td>\n",
       "      <td>0.00</td>\n",
       "      <td>0.5</td>\n",
       "      <td>0.0</td>\n",
       "      <td>0.0</td>\n",
       "      <td>0.0</td>\n",
       "      <td>0.000</td>\n",
       "      <td>77.5</td>\n",
       "    </tr>\n",
       "    <tr>\n",
       "      <th>23</th>\n",
       "      <td>23</td>\n",
       "      <td>479.762</td>\n",
       "      <td>0.89</td>\n",
       "      <td>386.91</td>\n",
       "      <td>0.0</td>\n",
       "      <td>0.0</td>\n",
       "      <td>0.89</td>\n",
       "      <td>378.01</td>\n",
       "      <td>8.88</td>\n",
       "      <td>0.00</td>\n",
       "      <td>...</td>\n",
       "      <td>0.0</td>\n",
       "      <td>0.0</td>\n",
       "      <td>0.00</td>\n",
       "      <td>0.00</td>\n",
       "      <td>0.0</td>\n",
       "      <td>0.0</td>\n",
       "      <td>0.0</td>\n",
       "      <td>0.0</td>\n",
       "      <td>0.000</td>\n",
       "      <td>0.0</td>\n",
       "    </tr>\n",
       "    <tr>\n",
       "      <th>24</th>\n",
       "      <td>24</td>\n",
       "      <td>240.449</td>\n",
       "      <td>29.86</td>\n",
       "      <td>222.03</td>\n",
       "      <td>0.0</td>\n",
       "      <td>0.0</td>\n",
       "      <td>29.86</td>\n",
       "      <td>99.86</td>\n",
       "      <td>0.00</td>\n",
       "      <td>0.36</td>\n",
       "      <td>...</td>\n",
       "      <td>23.0</td>\n",
       "      <td>34.5</td>\n",
       "      <td>0.02</td>\n",
       "      <td>0.00</td>\n",
       "      <td>0.0</td>\n",
       "      <td>1.5</td>\n",
       "      <td>0.0</td>\n",
       "      <td>0.0</td>\n",
       "      <td>0.000</td>\n",
       "      <td>36.0</td>\n",
       "    </tr>\n",
       "    <tr>\n",
       "      <th>27</th>\n",
       "      <td>27</td>\n",
       "      <td>421.300</td>\n",
       "      <td>12.68</td>\n",
       "      <td>182.83</td>\n",
       "      <td>0.0</td>\n",
       "      <td>0.0</td>\n",
       "      <td>12.68</td>\n",
       "      <td>157.23</td>\n",
       "      <td>25.59</td>\n",
       "      <td>0.00</td>\n",
       "      <td>...</td>\n",
       "      <td>153.0</td>\n",
       "      <td>254.5</td>\n",
       "      <td>49.46</td>\n",
       "      <td>325.04</td>\n",
       "      <td>0.5</td>\n",
       "      <td>2.0</td>\n",
       "      <td>0.0</td>\n",
       "      <td>0.5</td>\n",
       "      <td>179.715</td>\n",
       "      <td>257.5</td>\n",
       "    </tr>\n",
       "  </tbody>\n",
       "</table>\n",
       "<p>5 rows × 83 columns</p>\n",
       "</div>"
      ],
      "text/plain": [
       "    id   arpu_8  onnet_mou_8  offnet_mou_8  roam_ic_mou_8  roam_og_mou_8  \\\n",
       "12  12  392.024        42.98        644.43            0.0            0.0   \n",
       "15  15  338.286       194.43        197.09            0.0            0.0   \n",
       "23  23  479.762         0.89        386.91            0.0            0.0   \n",
       "24  24  240.449        29.86        222.03            0.0            0.0   \n",
       "27  27  421.300        12.68        182.83            0.0            0.0   \n",
       "\n",
       "    loc_og_t2t_mou_8  loc_og_t2m_mou_8  loc_og_t2f_mou_8  loc_og_t2c_mou_8  \\\n",
       "12              3.98             51.24              0.00              0.00   \n",
       "15            194.43            185.88              4.94              0.00   \n",
       "23              0.89            378.01              8.88              0.00   \n",
       "24             29.86             99.86              0.00              0.36   \n",
       "27             12.68            157.23             25.59              0.00   \n",
       "\n",
       "    ...  avg_max_rech_data_av67  avg_av_rech_amt_data_av67  \\\n",
       "12  ...                     0.0                        0.0   \n",
       "15  ...                    77.0                       77.0   \n",
       "23  ...                     0.0                        0.0   \n",
       "24  ...                    23.0                       34.5   \n",
       "27  ...                   153.0                      254.5   \n",
       "\n",
       "    avg_vol_2g_mb_av67  avg_vol_3g_mb_av67  avg_monthly_2g_av67  \\\n",
       "12                0.00                0.00                  0.0   \n",
       "15              130.21                0.00                  0.5   \n",
       "23                0.00                0.00                  0.0   \n",
       "24                0.02                0.00                  0.0   \n",
       "27               49.46              325.04                  0.5   \n",
       "\n",
       "    avg_sachet_2g_av67  avg_monthly_3g_av67  avg_sachet_3g_av67  \\\n",
       "12                 0.0                  0.0                 0.0   \n",
       "15                 0.0                  0.0                 0.0   \n",
       "23                 0.0                  0.0                 0.0   \n",
       "24                 1.5                  0.0                 0.0   \n",
       "27                 2.0                  0.0                 0.5   \n",
       "\n",
       "    avg_vbc_3g_av67  avg_total_rech_amt_data_av67  \n",
       "12            0.000                           0.0  \n",
       "15            0.000                          77.5  \n",
       "23            0.000                           0.0  \n",
       "24            0.000                          36.0  \n",
       "27          179.715                         257.5  \n",
       "\n",
       "[5 rows x 83 columns]"
      ]
     },
     "execution_count": 99,
     "metadata": {},
     "output_type": "execute_result"
    }
   ],
   "source": [
    "telecom_df_final.head()"
   ]
  },
  {
   "cell_type": "code",
   "execution_count": 100,
   "id": "328b71be",
   "metadata": {},
   "outputs": [
    {
     "data": {
      "text/plain": [
       "Index(['id', 'arpu_8', 'onnet_mou_8', 'offnet_mou_8', 'roam_ic_mou_8',\n",
       "       'roam_og_mou_8', 'loc_og_t2t_mou_8', 'loc_og_t2m_mou_8',\n",
       "       'loc_og_t2f_mou_8', 'loc_og_t2c_mou_8', 'std_og_t2t_mou_8',\n",
       "       'std_og_t2m_mou_8', 'std_og_t2f_mou_8', 'std_og_t2c_mou_8',\n",
       "       'isd_og_mou_8', 'spl_og_mou_8', 'og_others_8', 'loc_ic_t2t_mou_8',\n",
       "       'loc_ic_t2m_mou_8', 'loc_ic_t2f_mou_8', 'std_ic_t2t_mou_8',\n",
       "       'std_ic_t2m_mou_8', 'std_ic_t2f_mou_8', 'std_ic_t2o_mou_8',\n",
       "       'spl_ic_mou_8', 'isd_ic_mou_8', 'ic_others_8', 'total_rech_num_8',\n",
       "       'total_rech_amt_8', 'max_rech_amt_8', 'last_day_rch_amt_8',\n",
       "       'total_rech_data_8', 'av_rech_amt_data_8', 'vol_2g_mb_8', 'vol_3g_mb_8',\n",
       "       'monthly_2g_8', 'sachet_2g_8', 'monthly_3g_8', 'sachet_3g_8', 'aon',\n",
       "       'vbc_3g_8', 'churn_probability', 'total_rech_amt_data_8', 'churn',\n",
       "       'avg_arpu_av67', 'avg_onnet_mou_av67', 'avg_offnet_mou_av67',\n",
       "       'avg_roam_ic_mou_av67', 'avg_roam_og_mou_av67',\n",
       "       'avg_loc_og_t2t_mou_av67', 'avg_loc_og_t2m_mou_av67',\n",
       "       'avg_loc_og_t2f_mou_av67', 'avg_loc_og_t2c_mou_av67',\n",
       "       'avg_std_og_t2t_mou_av67', 'avg_std_og_t2m_mou_av67',\n",
       "       'avg_std_og_t2f_mou_av67', 'avg_isd_og_mou_av67', 'avg_spl_og_mou_av67',\n",
       "       'avg_og_others_av67', 'avg_loc_ic_t2t_mou_av67',\n",
       "       'avg_loc_ic_t2m_mou_av67', 'avg_loc_ic_t2f_mou_av67',\n",
       "       'avg_std_ic_t2t_mou_av67', 'avg_std_ic_t2m_mou_av67',\n",
       "       'avg_std_ic_t2f_mou_av67', 'avg_spl_ic_mou_av67', 'avg_isd_ic_mou_av67',\n",
       "       'avg_ic_others_av67', 'avg_total_rech_num_av67',\n",
       "       'avg_total_rech_amt_av67', 'avg_max_rech_amt_av67',\n",
       "       'avg_last_day_rch_amt_av67', 'avg_total_rech_data_av67',\n",
       "       'avg_max_rech_data_av67', 'avg_av_rech_amt_data_av67',\n",
       "       'avg_vol_2g_mb_av67', 'avg_vol_3g_mb_av67', 'avg_monthly_2g_av67',\n",
       "       'avg_sachet_2g_av67', 'avg_monthly_3g_av67', 'avg_sachet_3g_av67',\n",
       "       'avg_vbc_3g_av67', 'avg_total_rech_amt_data_av67'],\n",
       "      dtype='object')"
      ]
     },
     "execution_count": 100,
     "metadata": {},
     "output_type": "execute_result"
    }
   ],
   "source": [
    "telecom_df_final.columns"
   ]
  },
  {
   "cell_type": "markdown",
   "id": "1eb1ac2d",
   "metadata": {},
   "source": [
    "##### Observations : We have merged most of the columns related to month 6 & 7 so to reduce the number of features. By doing this apporach we have reduced the fetures from 124 to 84."
   ]
  },
  {
   "cell_type": "markdown",
   "id": "e25959c8",
   "metadata": {},
   "source": [
    "# Step 4 : Training the model"
   ]
  },
  {
   "cell_type": "code",
   "execution_count": 101,
   "id": "930f4dae",
   "metadata": {},
   "outputs": [
    {
     "name": "stdout",
     "output_type": "stream",
     "text": [
      "Requirement already satisfied: imbalanced-learn==0.6.0 in c:\\users\\abhijit\\anaconda3\\lib\\site-packages (0.6.0)\n",
      "Requirement already satisfied: scikit-learn>=0.22 in c:\\users\\abhijit\\anaconda3\\lib\\site-packages (from imbalanced-learn==0.6.0) (1.0.2)\n",
      "Requirement already satisfied: scipy>=0.17 in c:\\users\\abhijit\\anaconda3\\lib\\site-packages (from imbalanced-learn==0.6.0) (1.7.3)\n",
      "Requirement already satisfied: joblib>=0.11 in c:\\users\\abhijit\\anaconda3\\lib\\site-packages (from imbalanced-learn==0.6.0) (1.1.0)\n",
      "Requirement already satisfied: numpy>=1.11 in c:\\users\\abhijit\\anaconda3\\lib\\site-packages (from imbalanced-learn==0.6.0) (1.21.5)\n",
      "Requirement already satisfied: threadpoolctl>=2.0.0 in c:\\users\\abhijit\\anaconda3\\lib\\site-packages (from scikit-learn>=0.22->imbalanced-learn==0.6.0) (2.2.0)\n",
      "Collecting scikit-learn==0.22.1\n",
      "  Using cached scikit-learn-0.22.1.tar.gz (6.9 MB)\n",
      "Requirement already satisfied: numpy>=1.11.0 in c:\\users\\abhijit\\anaconda3\\lib\\site-packages (from scikit-learn==0.22.1) (1.21.5)\n",
      "Requirement already satisfied: scipy>=0.17.0 in c:\\users\\abhijit\\anaconda3\\lib\\site-packages (from scikit-learn==0.22.1) (1.7.3)\n",
      "Requirement already satisfied: joblib>=0.11 in c:\\users\\abhijit\\anaconda3\\lib\\site-packages (from scikit-learn==0.22.1) (1.1.0)\n",
      "Building wheels for collected packages: scikit-learn\n",
      "  Building wheel for scikit-learn (setup.py): started\n",
      "  Building wheel for scikit-learn (setup.py): finished with status 'error'\n",
      "  Running setup.py clean for scikit-learn\n",
      "Failed to build scikit-learn\n",
      "Installing collected packages: scikit-learn\n",
      "  Attempting uninstall: scikit-learn\n",
      "    Found existing installation: scikit-learn 1.0.2\n",
      "    Uninstalling scikit-learn-1.0.2:\n",
      "      Successfully uninstalled scikit-learn-1.0.2\n",
      "    Running setup.py install for scikit-learn: started\n",
      "    Running setup.py install for scikit-learn: finished with status 'error'\n",
      "  Rolling back uninstall of scikit-learn\n",
      "  Moving to c:\\users\\abhijit\\anaconda3\\lib\\site-packages\\scikit_learn-1.0.2.dist-info\\\n",
      "   from C:\\Users\\ABHIJIT\\anaconda3\\Lib\\site-packages\\~cikit_learn-1.0.2.dist-info\n",
      "  Moving to c:\\users\\abhijit\\anaconda3\\lib\\site-packages\\sklearn\\\n",
      "   from C:\\Users\\ABHIJIT\\anaconda3\\Lib\\site-packages\\~klearn\n"
     ]
    },
    {
     "name": "stderr",
     "output_type": "stream",
     "text": [
      "  ERROR: Command errored out with exit status 1:\n",
      "   command: 'C:\\Users\\ABHIJIT\\anaconda3\\python.exe' -u -c 'import io, os, sys, setuptools, tokenize; sys.argv[0] = '\"'\"'C:\\\\Users\\\\ABHIJIT\\\\AppData\\\\Local\\\\Temp\\\\pip-install-3d4huvu7\\\\scikit-learn_a7df0ab57ca04911b443040a38410219\\\\setup.py'\"'\"'; __file__='\"'\"'C:\\\\Users\\\\ABHIJIT\\\\AppData\\\\Local\\\\Temp\\\\pip-install-3d4huvu7\\\\scikit-learn_a7df0ab57ca04911b443040a38410219\\\\setup.py'\"'\"';f = getattr(tokenize, '\"'\"'open'\"'\"', open)(__file__) if os.path.exists(__file__) else io.StringIO('\"'\"'from setuptools import setup; setup()'\"'\"');code = f.read().replace('\"'\"'\\r\\n'\"'\"', '\"'\"'\\n'\"'\"');f.close();exec(compile(code, __file__, '\"'\"'exec'\"'\"'))' bdist_wheel -d 'C:\\Users\\ABHIJIT\\AppData\\Local\\Temp\\pip-wheel-1lijaq_3'\n",
      "       cwd: C:\\Users\\ABHIJIT\\AppData\\Local\\Temp\\pip-install-3d4huvu7\\scikit-learn_a7df0ab57ca04911b443040a38410219\\\n",
      "  Complete output (35 lines):\n",
      "  Partial import of sklearn during the build process.\n",
      "  No module named 'numpy.distutils._msvccompiler' in numpy.distutils; trying from distutils\n",
      "  Traceback (most recent call last):\n",
      "    File \"<string>\", line 1, in <module>\n",
      "    File \"C:\\Users\\ABHIJIT\\AppData\\Local\\Temp\\pip-install-3d4huvu7\\scikit-learn_a7df0ab57ca04911b443040a38410219\\setup.py\", line 303, in <module>\n",
      "      setup_package()\n",
      "    File \"C:\\Users\\ABHIJIT\\AppData\\Local\\Temp\\pip-install-3d4huvu7\\scikit-learn_a7df0ab57ca04911b443040a38410219\\setup.py\", line 299, in setup_package\n",
      "      setup(**metadata)\n",
      "    File \"C:\\Users\\ABHIJIT\\anaconda3\\lib\\site-packages\\numpy\\distutils\\core.py\", line 135, in setup\n",
      "      config = configuration()\n",
      "    File \"C:\\Users\\ABHIJIT\\AppData\\Local\\Temp\\pip-install-3d4huvu7\\scikit-learn_a7df0ab57ca04911b443040a38410219\\setup.py\", line 182, in configuration\n",
      "      config.add_subpackage('sklearn')\n",
      "    File \"C:\\Users\\ABHIJIT\\anaconda3\\lib\\site-packages\\numpy\\distutils\\misc_util.py\", line 1014, in add_subpackage\n",
      "      config_list = self.get_subpackage(subpackage_name, subpackage_path,\n",
      "    File \"C:\\Users\\ABHIJIT\\anaconda3\\lib\\site-packages\\numpy\\distutils\\misc_util.py\", line 980, in get_subpackage\n",
      "      config = self._get_configuration_from_setup_py(\n",
      "    File \"C:\\Users\\ABHIJIT\\anaconda3\\lib\\site-packages\\numpy\\distutils\\misc_util.py\", line 922, in _get_configuration_from_setup_py\n",
      "      config = setup_module.configuration(*args)\n",
      "    File \"sklearn\\setup.py\", line 86, in configuration\n",
      "      cythonize_extensions(top_path, config)\n",
      "    File \"C:\\Users\\ABHIJIT\\AppData\\Local\\Temp\\pip-install-3d4huvu7\\scikit-learn_a7df0ab57ca04911b443040a38410219\\sklearn\\_build_utils\\__init__.py\", line 50, in cythonize_extensions\n",
      "      basic_check_build()\n",
      "    File \"C:\\Users\\ABHIJIT\\AppData\\Local\\Temp\\pip-install-3d4huvu7\\scikit-learn_a7df0ab57ca04911b443040a38410219\\sklearn\\_build_utils\\pre_build_helpers.py\", line 70, in basic_check_build\n",
      "      compile_test_program(code)\n",
      "    File \"C:\\Users\\ABHIJIT\\AppData\\Local\\Temp\\pip-install-3d4huvu7\\scikit-learn_a7df0ab57ca04911b443040a38410219\\sklearn\\_build_utils\\pre_build_helpers.py\", line 39, in compile_test_program\n",
      "      ccompiler.compile(['test_program.c'], output_dir='objects',\n",
      "    File \"C:\\Users\\ABHIJIT\\anaconda3\\lib\\site-packages\\setuptools\\_distutils\\_msvccompiler.py\", line 327, in compile\n",
      "      self.initialize()\n",
      "    File \"C:\\Users\\ABHIJIT\\anaconda3\\lib\\site-packages\\setuptools\\_distutils\\_msvccompiler.py\", line 224, in initialize\n",
      "      vc_env = _get_vc_env(plat_spec)\n",
      "    File \"C:\\Users\\ABHIJIT\\anaconda3\\lib\\site-packages\\setuptools\\msvc.py\", line 316, in msvc14_get_vc_env\n",
      "      return _msvc14_get_vc_env(plat_spec)\n",
      "    File \"C:\\Users\\ABHIJIT\\anaconda3\\lib\\site-packages\\setuptools\\msvc.py\", line 270, in _msvc14_get_vc_env\n",
      "      raise distutils.errors.DistutilsPlatformError(\n",
      "  distutils.errors.DistutilsPlatformError: Microsoft Visual C++ 14.0 or greater is required. Get it with \"Microsoft C++ Build Tools\": https://visualstudio.microsoft.com/visual-cpp-build-tools/\n",
      "  ----------------------------------------\n",
      "  ERROR: Failed building wheel for scikit-learn\n",
      "    ERROR: Command errored out with exit status 1:\n",
      "     command: 'C:\\Users\\ABHIJIT\\anaconda3\\python.exe' -u -c 'import io, os, sys, setuptools, tokenize; sys.argv[0] = '\"'\"'C:\\\\Users\\\\ABHIJIT\\\\AppData\\\\Local\\\\Temp\\\\pip-install-3d4huvu7\\\\scikit-learn_a7df0ab57ca04911b443040a38410219\\\\setup.py'\"'\"'; __file__='\"'\"'C:\\\\Users\\\\ABHIJIT\\\\AppData\\\\Local\\\\Temp\\\\pip-install-3d4huvu7\\\\scikit-learn_a7df0ab57ca04911b443040a38410219\\\\setup.py'\"'\"';f = getattr(tokenize, '\"'\"'open'\"'\"', open)(__file__) if os.path.exists(__file__) else io.StringIO('\"'\"'from setuptools import setup; setup()'\"'\"');code = f.read().replace('\"'\"'\\r\\n'\"'\"', '\"'\"'\\n'\"'\"');f.close();exec(compile(code, __file__, '\"'\"'exec'\"'\"'))' install --record 'C:\\Users\\ABHIJIT\\AppData\\Local\\Temp\\pip-record-gh0oj8k0\\install-record.txt' --single-version-externally-managed --compile --install-headers 'C:\\Users\\ABHIJIT\\anaconda3\\Include\\scikit-learn'\n",
      "         cwd: C:\\Users\\ABHIJIT\\AppData\\Local\\Temp\\pip-install-3d4huvu7\\scikit-learn_a7df0ab57ca04911b443040a38410219\\\n",
      "    Complete output (35 lines):\n",
      "    Partial import of sklearn during the build process.\n",
      "    No module named 'numpy.distutils._msvccompiler' in numpy.distutils; trying from distutils\n",
      "    Traceback (most recent call last):\n",
      "      File \"<string>\", line 1, in <module>\n",
      "      File \"C:\\Users\\ABHIJIT\\AppData\\Local\\Temp\\pip-install-3d4huvu7\\scikit-learn_a7df0ab57ca04911b443040a38410219\\setup.py\", line 303, in <module>\n",
      "        setup_package()\n",
      "      File \"C:\\Users\\ABHIJIT\\AppData\\Local\\Temp\\pip-install-3d4huvu7\\scikit-learn_a7df0ab57ca04911b443040a38410219\\setup.py\", line 299, in setup_package\n",
      "        setup(**metadata)\n",
      "      File \"C:\\Users\\ABHIJIT\\anaconda3\\lib\\site-packages\\numpy\\distutils\\core.py\", line 135, in setup\n",
      "        config = configuration()\n",
      "      File \"C:\\Users\\ABHIJIT\\AppData\\Local\\Temp\\pip-install-3d4huvu7\\scikit-learn_a7df0ab57ca04911b443040a38410219\\setup.py\", line 182, in configuration\n",
      "        config.add_subpackage('sklearn')\n",
      "      File \"C:\\Users\\ABHIJIT\\anaconda3\\lib\\site-packages\\numpy\\distutils\\misc_util.py\", line 1014, in add_subpackage\n",
      "        config_list = self.get_subpackage(subpackage_name, subpackage_path,\n",
      "      File \"C:\\Users\\ABHIJIT\\anaconda3\\lib\\site-packages\\numpy\\distutils\\misc_util.py\", line 980, in get_subpackage\n",
      "        config = self._get_configuration_from_setup_py(\n",
      "      File \"C:\\Users\\ABHIJIT\\anaconda3\\lib\\site-packages\\numpy\\distutils\\misc_util.py\", line 922, in _get_configuration_from_setup_py\n",
      "        config = setup_module.configuration(*args)\n",
      "      File \"sklearn\\setup.py\", line 86, in configuration\n",
      "        cythonize_extensions(top_path, config)\n",
      "      File \"C:\\Users\\ABHIJIT\\AppData\\Local\\Temp\\pip-install-3d4huvu7\\scikit-learn_a7df0ab57ca04911b443040a38410219\\sklearn\\_build_utils\\__init__.py\", line 50, in cythonize_extensions\n",
      "        basic_check_build()\n",
      "      File \"C:\\Users\\ABHIJIT\\AppData\\Local\\Temp\\pip-install-3d4huvu7\\scikit-learn_a7df0ab57ca04911b443040a38410219\\sklearn\\_build_utils\\pre_build_helpers.py\", line 70, in basic_check_build\n",
      "        compile_test_program(code)\n",
      "      File \"C:\\Users\\ABHIJIT\\AppData\\Local\\Temp\\pip-install-3d4huvu7\\scikit-learn_a7df0ab57ca04911b443040a38410219\\sklearn\\_build_utils\\pre_build_helpers.py\", line 39, in compile_test_program\n",
      "        ccompiler.compile(['test_program.c'], output_dir='objects',\n",
      "      File \"C:\\Users\\ABHIJIT\\anaconda3\\lib\\site-packages\\setuptools\\_distutils\\_msvccompiler.py\", line 327, in compile\n",
      "        self.initialize()\n",
      "      File \"C:\\Users\\ABHIJIT\\anaconda3\\lib\\site-packages\\setuptools\\_distutils\\_msvccompiler.py\", line 224, in initialize\n",
      "        vc_env = _get_vc_env(plat_spec)\n",
      "      File \"C:\\Users\\ABHIJIT\\anaconda3\\lib\\site-packages\\setuptools\\msvc.py\", line 316, in msvc14_get_vc_env\n",
      "        return _msvc14_get_vc_env(plat_spec)\n",
      "      File \"C:\\Users\\ABHIJIT\\anaconda3\\lib\\site-packages\\setuptools\\msvc.py\", line 270, in _msvc14_get_vc_env\n",
      "        raise distutils.errors.DistutilsPlatformError(\n",
      "    distutils.errors.DistutilsPlatformError: Microsoft Visual C++ 14.0 or greater is required. Get it with \"Microsoft C++ Build Tools\": https://visualstudio.microsoft.com/visual-cpp-build-tools/\n",
      "    ----------------------------------------\n",
      "ERROR: Command errored out with exit status 1: 'C:\\Users\\ABHIJIT\\anaconda3\\python.exe' -u -c 'import io, os, sys, setuptools, tokenize; sys.argv[0] = '\"'\"'C:\\\\Users\\\\ABHIJIT\\\\AppData\\\\Local\\\\Temp\\\\pip-install-3d4huvu7\\\\scikit-learn_a7df0ab57ca04911b443040a38410219\\\\setup.py'\"'\"'; __file__='\"'\"'C:\\\\Users\\\\ABHIJIT\\\\AppData\\\\Local\\\\Temp\\\\pip-install-3d4huvu7\\\\scikit-learn_a7df0ab57ca04911b443040a38410219\\\\setup.py'\"'\"';f = getattr(tokenize, '\"'\"'open'\"'\"', open)(__file__) if os.path.exists(__file__) else io.StringIO('\"'\"'from setuptools import setup; setup()'\"'\"');code = f.read().replace('\"'\"'\\r\\n'\"'\"', '\"'\"'\\n'\"'\"');f.close();exec(compile(code, __file__, '\"'\"'exec'\"'\"'))' install --record 'C:\\Users\\ABHIJIT\\AppData\\Local\\Temp\\pip-record-gh0oj8k0\\install-record.txt' --single-version-externally-managed --compile --install-headers 'C:\\Users\\ABHIJIT\\anaconda3\\Include\\scikit-learn' Check the logs for full command output.\n"
     ]
    }
   ],
   "source": [
    "## PCA : Principal Component Analysis\n",
    "!pip install imbalanced-learn==0.6.0\n",
    "!pip install scikit-learn==0.22.1"
   ]
  },
  {
   "cell_type": "code",
   "execution_count": 102,
   "id": "796e3aad",
   "metadata": {},
   "outputs": [],
   "source": [
    "\n",
    "from imblearn.over_sampling import SMOTE\n",
    "from sklearn.decomposition import PCA\n",
    "from sklearn.preprocessing import StandardScaler\n",
    "from sklearn.decomposition import IncrementalPCA\n",
    "\n",
    "def split_date(df):\n",
    "    Y = df[\"churn\"]\n",
    "    X = df.drop([\"churn\"],axis=1)\n",
    "    return X,Y\n",
    "    \n",
    "def scale_data(X):\n",
    "    scaler = StandardScaler()\n",
    "    X_col = X.columns\n",
    "    X_scaled = scaler.fit_transform(X)\n",
    "    X_scale_final = pd.DataFrame(X_scaled, columns=X_col)\n",
    "    print(\"Scaling the data ....\")\n",
    "    return X_scale_final\n",
    "\n",
    "def get_scree_plot(X):\n",
    "    pca = PCA(svd_solver='randomized', random_state=101)\n",
    "    pca.fit(X)\n",
    "    fig = plt.figure(figsize = (8,6))\n",
    "    plt.plot(np.cumsum(pca.explained_variance_ratio_))\n",
    "    plt.xlabel('number of components')\n",
    "    plt.ylabel('cumulative explained variance')\n",
    "    plt.show()\n",
    "    return pca"
   ]
  },
  {
   "cell_type": "code",
   "execution_count": 103,
   "id": "1a4f73b4",
   "metadata": {},
   "outputs": [
    {
     "data": {
      "text/html": [
       "<div>\n",
       "<style scoped>\n",
       "    .dataframe tbody tr th:only-of-type {\n",
       "        vertical-align: middle;\n",
       "    }\n",
       "\n",
       "    .dataframe tbody tr th {\n",
       "        vertical-align: top;\n",
       "    }\n",
       "\n",
       "    .dataframe thead th {\n",
       "        text-align: right;\n",
       "    }\n",
       "</style>\n",
       "<table border=\"1\" class=\"dataframe\">\n",
       "  <thead>\n",
       "    <tr style=\"text-align: right;\">\n",
       "      <th></th>\n",
       "      <th>id</th>\n",
       "      <th>arpu_8</th>\n",
       "      <th>onnet_mou_8</th>\n",
       "      <th>offnet_mou_8</th>\n",
       "      <th>roam_ic_mou_8</th>\n",
       "      <th>roam_og_mou_8</th>\n",
       "      <th>loc_og_t2t_mou_8</th>\n",
       "      <th>loc_og_t2m_mou_8</th>\n",
       "      <th>loc_og_t2f_mou_8</th>\n",
       "      <th>loc_og_t2c_mou_8</th>\n",
       "      <th>...</th>\n",
       "      <th>avg_max_rech_data_av67</th>\n",
       "      <th>avg_av_rech_amt_data_av67</th>\n",
       "      <th>avg_vol_2g_mb_av67</th>\n",
       "      <th>avg_vol_3g_mb_av67</th>\n",
       "      <th>avg_monthly_2g_av67</th>\n",
       "      <th>avg_sachet_2g_av67</th>\n",
       "      <th>avg_monthly_3g_av67</th>\n",
       "      <th>avg_sachet_3g_av67</th>\n",
       "      <th>avg_vbc_3g_av67</th>\n",
       "      <th>avg_total_rech_amt_data_av67</th>\n",
       "    </tr>\n",
       "  </thead>\n",
       "  <tbody>\n",
       "    <tr>\n",
       "      <th>12</th>\n",
       "      <td>12</td>\n",
       "      <td>392.024</td>\n",
       "      <td>42.98</td>\n",
       "      <td>644.43</td>\n",
       "      <td>0.0</td>\n",
       "      <td>0.0</td>\n",
       "      <td>3.98</td>\n",
       "      <td>51.24</td>\n",
       "      <td>0.00</td>\n",
       "      <td>0.00</td>\n",
       "      <td>...</td>\n",
       "      <td>0.0</td>\n",
       "      <td>0.0</td>\n",
       "      <td>0.00</td>\n",
       "      <td>0.00</td>\n",
       "      <td>0.0</td>\n",
       "      <td>0.0</td>\n",
       "      <td>0.0</td>\n",
       "      <td>0.0</td>\n",
       "      <td>0.000</td>\n",
       "      <td>0.0</td>\n",
       "    </tr>\n",
       "    <tr>\n",
       "      <th>15</th>\n",
       "      <td>15</td>\n",
       "      <td>338.286</td>\n",
       "      <td>194.43</td>\n",
       "      <td>197.09</td>\n",
       "      <td>0.0</td>\n",
       "      <td>0.0</td>\n",
       "      <td>194.43</td>\n",
       "      <td>185.88</td>\n",
       "      <td>4.94</td>\n",
       "      <td>0.00</td>\n",
       "      <td>...</td>\n",
       "      <td>77.0</td>\n",
       "      <td>77.0</td>\n",
       "      <td>130.21</td>\n",
       "      <td>0.00</td>\n",
       "      <td>0.5</td>\n",
       "      <td>0.0</td>\n",
       "      <td>0.0</td>\n",
       "      <td>0.0</td>\n",
       "      <td>0.000</td>\n",
       "      <td>77.5</td>\n",
       "    </tr>\n",
       "    <tr>\n",
       "      <th>23</th>\n",
       "      <td>23</td>\n",
       "      <td>479.762</td>\n",
       "      <td>0.89</td>\n",
       "      <td>386.91</td>\n",
       "      <td>0.0</td>\n",
       "      <td>0.0</td>\n",
       "      <td>0.89</td>\n",
       "      <td>378.01</td>\n",
       "      <td>8.88</td>\n",
       "      <td>0.00</td>\n",
       "      <td>...</td>\n",
       "      <td>0.0</td>\n",
       "      <td>0.0</td>\n",
       "      <td>0.00</td>\n",
       "      <td>0.00</td>\n",
       "      <td>0.0</td>\n",
       "      <td>0.0</td>\n",
       "      <td>0.0</td>\n",
       "      <td>0.0</td>\n",
       "      <td>0.000</td>\n",
       "      <td>0.0</td>\n",
       "    </tr>\n",
       "    <tr>\n",
       "      <th>24</th>\n",
       "      <td>24</td>\n",
       "      <td>240.449</td>\n",
       "      <td>29.86</td>\n",
       "      <td>222.03</td>\n",
       "      <td>0.0</td>\n",
       "      <td>0.0</td>\n",
       "      <td>29.86</td>\n",
       "      <td>99.86</td>\n",
       "      <td>0.00</td>\n",
       "      <td>0.36</td>\n",
       "      <td>...</td>\n",
       "      <td>23.0</td>\n",
       "      <td>34.5</td>\n",
       "      <td>0.02</td>\n",
       "      <td>0.00</td>\n",
       "      <td>0.0</td>\n",
       "      <td>1.5</td>\n",
       "      <td>0.0</td>\n",
       "      <td>0.0</td>\n",
       "      <td>0.000</td>\n",
       "      <td>36.0</td>\n",
       "    </tr>\n",
       "    <tr>\n",
       "      <th>27</th>\n",
       "      <td>27</td>\n",
       "      <td>421.300</td>\n",
       "      <td>12.68</td>\n",
       "      <td>182.83</td>\n",
       "      <td>0.0</td>\n",
       "      <td>0.0</td>\n",
       "      <td>12.68</td>\n",
       "      <td>157.23</td>\n",
       "      <td>25.59</td>\n",
       "      <td>0.00</td>\n",
       "      <td>...</td>\n",
       "      <td>153.0</td>\n",
       "      <td>254.5</td>\n",
       "      <td>49.46</td>\n",
       "      <td>325.04</td>\n",
       "      <td>0.5</td>\n",
       "      <td>2.0</td>\n",
       "      <td>0.0</td>\n",
       "      <td>0.5</td>\n",
       "      <td>179.715</td>\n",
       "      <td>257.5</td>\n",
       "    </tr>\n",
       "  </tbody>\n",
       "</table>\n",
       "<p>5 rows × 83 columns</p>\n",
       "</div>"
      ],
      "text/plain": [
       "    id   arpu_8  onnet_mou_8  offnet_mou_8  roam_ic_mou_8  roam_og_mou_8  \\\n",
       "12  12  392.024        42.98        644.43            0.0            0.0   \n",
       "15  15  338.286       194.43        197.09            0.0            0.0   \n",
       "23  23  479.762         0.89        386.91            0.0            0.0   \n",
       "24  24  240.449        29.86        222.03            0.0            0.0   \n",
       "27  27  421.300        12.68        182.83            0.0            0.0   \n",
       "\n",
       "    loc_og_t2t_mou_8  loc_og_t2m_mou_8  loc_og_t2f_mou_8  loc_og_t2c_mou_8  \\\n",
       "12              3.98             51.24              0.00              0.00   \n",
       "15            194.43            185.88              4.94              0.00   \n",
       "23              0.89            378.01              8.88              0.00   \n",
       "24             29.86             99.86              0.00              0.36   \n",
       "27             12.68            157.23             25.59              0.00   \n",
       "\n",
       "    ...  avg_max_rech_data_av67  avg_av_rech_amt_data_av67  \\\n",
       "12  ...                     0.0                        0.0   \n",
       "15  ...                    77.0                       77.0   \n",
       "23  ...                     0.0                        0.0   \n",
       "24  ...                    23.0                       34.5   \n",
       "27  ...                   153.0                      254.5   \n",
       "\n",
       "    avg_vol_2g_mb_av67  avg_vol_3g_mb_av67  avg_monthly_2g_av67  \\\n",
       "12                0.00                0.00                  0.0   \n",
       "15              130.21                0.00                  0.5   \n",
       "23                0.00                0.00                  0.0   \n",
       "24                0.02                0.00                  0.0   \n",
       "27               49.46              325.04                  0.5   \n",
       "\n",
       "    avg_sachet_2g_av67  avg_monthly_3g_av67  avg_sachet_3g_av67  \\\n",
       "12                 0.0                  0.0                 0.0   \n",
       "15                 0.0                  0.0                 0.0   \n",
       "23                 0.0                  0.0                 0.0   \n",
       "24                 1.5                  0.0                 0.0   \n",
       "27                 2.0                  0.0                 0.5   \n",
       "\n",
       "    avg_vbc_3g_av67  avg_total_rech_amt_data_av67  \n",
       "12            0.000                           0.0  \n",
       "15            0.000                          77.5  \n",
       "23            0.000                           0.0  \n",
       "24            0.000                          36.0  \n",
       "27          179.715                         257.5  \n",
       "\n",
       "[5 rows x 83 columns]"
      ]
     },
     "execution_count": 103,
     "metadata": {},
     "output_type": "execute_result"
    }
   ],
   "source": [
    "telecom_pca_df = telecom_df_final.copy()\n",
    "telecom_pca_df.head()"
   ]
  },
  {
   "cell_type": "code",
   "execution_count": 104,
   "id": "1af22d19",
   "metadata": {},
   "outputs": [],
   "source": [
    "#Splitting in x and y\n",
    "X,Y=split_date(telecom_pca_df)"
   ]
  },
  {
   "cell_type": "code",
   "execution_count": 105,
   "id": "81a71b3e",
   "metadata": {},
   "outputs": [
    {
     "data": {
      "text/html": [
       "<div>\n",
       "<style scoped>\n",
       "    .dataframe tbody tr th:only-of-type {\n",
       "        vertical-align: middle;\n",
       "    }\n",
       "\n",
       "    .dataframe tbody tr th {\n",
       "        vertical-align: top;\n",
       "    }\n",
       "\n",
       "    .dataframe thead th {\n",
       "        text-align: right;\n",
       "    }\n",
       "</style>\n",
       "<table border=\"1\" class=\"dataframe\">\n",
       "  <thead>\n",
       "    <tr style=\"text-align: right;\">\n",
       "      <th></th>\n",
       "      <th>id</th>\n",
       "      <th>arpu_8</th>\n",
       "      <th>onnet_mou_8</th>\n",
       "      <th>offnet_mou_8</th>\n",
       "      <th>roam_ic_mou_8</th>\n",
       "      <th>roam_og_mou_8</th>\n",
       "      <th>loc_og_t2t_mou_8</th>\n",
       "      <th>loc_og_t2m_mou_8</th>\n",
       "      <th>loc_og_t2f_mou_8</th>\n",
       "      <th>loc_og_t2c_mou_8</th>\n",
       "      <th>...</th>\n",
       "      <th>avg_max_rech_data_av67</th>\n",
       "      <th>avg_av_rech_amt_data_av67</th>\n",
       "      <th>avg_vol_2g_mb_av67</th>\n",
       "      <th>avg_vol_3g_mb_av67</th>\n",
       "      <th>avg_monthly_2g_av67</th>\n",
       "      <th>avg_sachet_2g_av67</th>\n",
       "      <th>avg_monthly_3g_av67</th>\n",
       "      <th>avg_sachet_3g_av67</th>\n",
       "      <th>avg_vbc_3g_av67</th>\n",
       "      <th>avg_total_rech_amt_data_av67</th>\n",
       "    </tr>\n",
       "  </thead>\n",
       "  <tbody>\n",
       "    <tr>\n",
       "      <th>12</th>\n",
       "      <td>12</td>\n",
       "      <td>392.024</td>\n",
       "      <td>42.98</td>\n",
       "      <td>644.43</td>\n",
       "      <td>0.0</td>\n",
       "      <td>0.0</td>\n",
       "      <td>3.98</td>\n",
       "      <td>51.24</td>\n",
       "      <td>0.00</td>\n",
       "      <td>0.00</td>\n",
       "      <td>...</td>\n",
       "      <td>0.0</td>\n",
       "      <td>0.0</td>\n",
       "      <td>0.00</td>\n",
       "      <td>0.00</td>\n",
       "      <td>0.0</td>\n",
       "      <td>0.0</td>\n",
       "      <td>0.0</td>\n",
       "      <td>0.0</td>\n",
       "      <td>0.000</td>\n",
       "      <td>0.0</td>\n",
       "    </tr>\n",
       "    <tr>\n",
       "      <th>15</th>\n",
       "      <td>15</td>\n",
       "      <td>338.286</td>\n",
       "      <td>194.43</td>\n",
       "      <td>197.09</td>\n",
       "      <td>0.0</td>\n",
       "      <td>0.0</td>\n",
       "      <td>194.43</td>\n",
       "      <td>185.88</td>\n",
       "      <td>4.94</td>\n",
       "      <td>0.00</td>\n",
       "      <td>...</td>\n",
       "      <td>77.0</td>\n",
       "      <td>77.0</td>\n",
       "      <td>130.21</td>\n",
       "      <td>0.00</td>\n",
       "      <td>0.5</td>\n",
       "      <td>0.0</td>\n",
       "      <td>0.0</td>\n",
       "      <td>0.0</td>\n",
       "      <td>0.000</td>\n",
       "      <td>77.5</td>\n",
       "    </tr>\n",
       "    <tr>\n",
       "      <th>23</th>\n",
       "      <td>23</td>\n",
       "      <td>479.762</td>\n",
       "      <td>0.89</td>\n",
       "      <td>386.91</td>\n",
       "      <td>0.0</td>\n",
       "      <td>0.0</td>\n",
       "      <td>0.89</td>\n",
       "      <td>378.01</td>\n",
       "      <td>8.88</td>\n",
       "      <td>0.00</td>\n",
       "      <td>...</td>\n",
       "      <td>0.0</td>\n",
       "      <td>0.0</td>\n",
       "      <td>0.00</td>\n",
       "      <td>0.00</td>\n",
       "      <td>0.0</td>\n",
       "      <td>0.0</td>\n",
       "      <td>0.0</td>\n",
       "      <td>0.0</td>\n",
       "      <td>0.000</td>\n",
       "      <td>0.0</td>\n",
       "    </tr>\n",
       "    <tr>\n",
       "      <th>24</th>\n",
       "      <td>24</td>\n",
       "      <td>240.449</td>\n",
       "      <td>29.86</td>\n",
       "      <td>222.03</td>\n",
       "      <td>0.0</td>\n",
       "      <td>0.0</td>\n",
       "      <td>29.86</td>\n",
       "      <td>99.86</td>\n",
       "      <td>0.00</td>\n",
       "      <td>0.36</td>\n",
       "      <td>...</td>\n",
       "      <td>23.0</td>\n",
       "      <td>34.5</td>\n",
       "      <td>0.02</td>\n",
       "      <td>0.00</td>\n",
       "      <td>0.0</td>\n",
       "      <td>1.5</td>\n",
       "      <td>0.0</td>\n",
       "      <td>0.0</td>\n",
       "      <td>0.000</td>\n",
       "      <td>36.0</td>\n",
       "    </tr>\n",
       "    <tr>\n",
       "      <th>27</th>\n",
       "      <td>27</td>\n",
       "      <td>421.300</td>\n",
       "      <td>12.68</td>\n",
       "      <td>182.83</td>\n",
       "      <td>0.0</td>\n",
       "      <td>0.0</td>\n",
       "      <td>12.68</td>\n",
       "      <td>157.23</td>\n",
       "      <td>25.59</td>\n",
       "      <td>0.00</td>\n",
       "      <td>...</td>\n",
       "      <td>153.0</td>\n",
       "      <td>254.5</td>\n",
       "      <td>49.46</td>\n",
       "      <td>325.04</td>\n",
       "      <td>0.5</td>\n",
       "      <td>2.0</td>\n",
       "      <td>0.0</td>\n",
       "      <td>0.5</td>\n",
       "      <td>179.715</td>\n",
       "      <td>257.5</td>\n",
       "    </tr>\n",
       "  </tbody>\n",
       "</table>\n",
       "<p>5 rows × 82 columns</p>\n",
       "</div>"
      ],
      "text/plain": [
       "    id   arpu_8  onnet_mou_8  offnet_mou_8  roam_ic_mou_8  roam_og_mou_8  \\\n",
       "12  12  392.024        42.98        644.43            0.0            0.0   \n",
       "15  15  338.286       194.43        197.09            0.0            0.0   \n",
       "23  23  479.762         0.89        386.91            0.0            0.0   \n",
       "24  24  240.449        29.86        222.03            0.0            0.0   \n",
       "27  27  421.300        12.68        182.83            0.0            0.0   \n",
       "\n",
       "    loc_og_t2t_mou_8  loc_og_t2m_mou_8  loc_og_t2f_mou_8  loc_og_t2c_mou_8  \\\n",
       "12              3.98             51.24              0.00              0.00   \n",
       "15            194.43            185.88              4.94              0.00   \n",
       "23              0.89            378.01              8.88              0.00   \n",
       "24             29.86             99.86              0.00              0.36   \n",
       "27             12.68            157.23             25.59              0.00   \n",
       "\n",
       "    ...  avg_max_rech_data_av67  avg_av_rech_amt_data_av67  \\\n",
       "12  ...                     0.0                        0.0   \n",
       "15  ...                    77.0                       77.0   \n",
       "23  ...                     0.0                        0.0   \n",
       "24  ...                    23.0                       34.5   \n",
       "27  ...                   153.0                      254.5   \n",
       "\n",
       "    avg_vol_2g_mb_av67  avg_vol_3g_mb_av67  avg_monthly_2g_av67  \\\n",
       "12                0.00                0.00                  0.0   \n",
       "15              130.21                0.00                  0.5   \n",
       "23                0.00                0.00                  0.0   \n",
       "24                0.02                0.00                  0.0   \n",
       "27               49.46              325.04                  0.5   \n",
       "\n",
       "    avg_sachet_2g_av67  avg_monthly_3g_av67  avg_sachet_3g_av67  \\\n",
       "12                 0.0                  0.0                 0.0   \n",
       "15                 0.0                  0.0                 0.0   \n",
       "23                 0.0                  0.0                 0.0   \n",
       "24                 1.5                  0.0                 0.0   \n",
       "27                 2.0                  0.0                 0.5   \n",
       "\n",
       "    avg_vbc_3g_av67  avg_total_rech_amt_data_av67  \n",
       "12            0.000                           0.0  \n",
       "15            0.000                          77.5  \n",
       "23            0.000                           0.0  \n",
       "24            0.000                          36.0  \n",
       "27          179.715                         257.5  \n",
       "\n",
       "[5 rows x 82 columns]"
      ]
     },
     "execution_count": 105,
     "metadata": {},
     "output_type": "execute_result"
    }
   ],
   "source": [
    "X.head()"
   ]
  },
  {
   "cell_type": "code",
   "execution_count": 106,
   "id": "a3afa112",
   "metadata": {},
   "outputs": [
    {
     "data": {
      "text/plain": [
       "12    0\n",
       "15    0\n",
       "23    0\n",
       "24    0\n",
       "27    0\n",
       "33    0\n",
       "39    0\n",
       "45    0\n",
       "49    0\n",
       "52    0\n",
       "Name: churn, dtype: int64"
      ]
     },
     "execution_count": 106,
     "metadata": {},
     "output_type": "execute_result"
    }
   ],
   "source": [
    "Y.head(10)"
   ]
  },
  {
   "cell_type": "markdown",
   "id": "bad7b8d7",
   "metadata": {},
   "source": [
    "## Percentage distribution of churn/non-churn cutomer data"
   ]
  },
  {
   "cell_type": "code",
   "execution_count": 107,
   "id": "83b54bf5",
   "metadata": {},
   "outputs": [
    {
     "name": "stdout",
     "output_type": "stream",
     "text": [
      "Percenatge of Churned Customer data : 5.47\n"
     ]
    }
   ],
   "source": [
    "print(\"Percenatge of Churned Customer data : \"+str(round(100*Y.sum()/len(Y),2)))"
   ]
  },
  {
   "cell_type": "code",
   "execution_count": 108,
   "id": "697c109e",
   "metadata": {},
   "outputs": [
    {
     "data": {
      "image/png": "[encoded data removed]",
      "text/plain": [
       "<Figure size 576x432 with 1 Axes>"
      ]
     },
     "metadata": {},
     "output_type": "display_data"
    }
   ],
   "source": [
    "#Churn Distribution\n",
    "pie_chart = telecom_pca_df['churn'].value_counts()*100.0 /len(telecom_pca_df)\n",
    "ax = pie_chart.plot.pie(autopct='%.1f%%', labels = ['No', 'Yes'],figsize =(8,6), fontsize = 14 )                                                                           \n",
    "ax.set_ylabel('Churn',fontsize = 12)\n",
    "ax.set_title('Churn Distribution', fontsize = 12)\n",
    "plt.show()"
   ]
  },
  {
   "cell_type": "markdown",
   "id": "afb0c819",
   "metadata": {},
   "source": [
    "## Scaling the data so as to normalize all the fields"
   ]
  },
  {
   "cell_type": "code",
   "execution_count": 109,
   "id": "a2c33aed",
   "metadata": {},
   "outputs": [
    {
     "name": "stdout",
     "output_type": "stream",
     "text": [
      "Scaling the data ....\n",
      "(20984, 82)\n"
     ]
    },
    {
     "data": {
      "text/html": [
       "<div>\n",
       "<style scoped>\n",
       "    .dataframe tbody tr th:only-of-type {\n",
       "        vertical-align: middle;\n",
       "    }\n",
       "\n",
       "    .dataframe tbody tr th {\n",
       "        vertical-align: top;\n",
       "    }\n",
       "\n",
       "    .dataframe thead th {\n",
       "        text-align: right;\n",
       "    }\n",
       "</style>\n",
       "<table border=\"1\" class=\"dataframe\">\n",
       "  <thead>\n",
       "    <tr style=\"text-align: right;\">\n",
       "      <th></th>\n",
       "      <th>id</th>\n",
       "      <th>arpu_8</th>\n",
       "      <th>onnet_mou_8</th>\n",
       "      <th>offnet_mou_8</th>\n",
       "      <th>roam_ic_mou_8</th>\n",
       "      <th>roam_og_mou_8</th>\n",
       "      <th>loc_og_t2t_mou_8</th>\n",
       "      <th>loc_og_t2m_mou_8</th>\n",
       "      <th>loc_og_t2f_mou_8</th>\n",
       "      <th>loc_og_t2c_mou_8</th>\n",
       "      <th>...</th>\n",
       "      <th>avg_max_rech_data_av67</th>\n",
       "      <th>avg_av_rech_amt_data_av67</th>\n",
       "      <th>avg_vol_2g_mb_av67</th>\n",
       "      <th>avg_vol_3g_mb_av67</th>\n",
       "      <th>avg_monthly_2g_av67</th>\n",
       "      <th>avg_sachet_2g_av67</th>\n",
       "      <th>avg_monthly_3g_av67</th>\n",
       "      <th>avg_sachet_3g_av67</th>\n",
       "      <th>avg_vbc_3g_av67</th>\n",
       "      <th>avg_total_rech_amt_data_av67</th>\n",
       "    </tr>\n",
       "  </thead>\n",
       "  <tbody>\n",
       "    <tr>\n",
       "      <th>0</th>\n",
       "      <td>-1.741335</td>\n",
       "      <td>-0.254323</td>\n",
       "      <td>-0.437773</td>\n",
       "      <td>0.614531</td>\n",
       "      <td>-0.167619</td>\n",
       "      <td>-0.190201</td>\n",
       "      <td>-0.328977</td>\n",
       "      <td>-0.463071</td>\n",
       "      <td>-0.319299</td>\n",
       "      <td>-0.235883</td>\n",
       "      <td>...</td>\n",
       "      <td>-0.734751</td>\n",
       "      <td>-0.679548</td>\n",
       "      <td>-0.376848</td>\n",
       "      <td>-0.401420</td>\n",
       "      <td>-0.463536</td>\n",
       "      <td>-0.368311</td>\n",
       "      <td>-0.393106</td>\n",
       "      <td>-0.207546</td>\n",
       "      <td>-0.413242</td>\n",
       "      <td>-0.682782</td>\n",
       "    </tr>\n",
       "    <tr>\n",
       "      <th>1</th>\n",
       "      <td>-1.741186</td>\n",
       "      <td>-0.358685</td>\n",
       "      <td>-0.114965</td>\n",
       "      <td>-0.326099</td>\n",
       "      <td>-0.167619</td>\n",
       "      <td>-0.190201</td>\n",
       "      <td>0.476813</td>\n",
       "      <td>0.126022</td>\n",
       "      <td>-0.065164</td>\n",
       "      <td>-0.235883</td>\n",
       "      <td>...</td>\n",
       "      <td>-0.000637</td>\n",
       "      <td>-0.263219</td>\n",
       "      <td>0.068408</td>\n",
       "      <td>-0.401420</td>\n",
       "      <td>0.820536</td>\n",
       "      <td>-0.368311</td>\n",
       "      <td>-0.393106</td>\n",
       "      <td>-0.207546</td>\n",
       "      <td>-0.413242</td>\n",
       "      <td>-0.266345</td>\n",
       "    </tr>\n",
       "    <tr>\n",
       "      <th>2</th>\n",
       "      <td>-1.740788</td>\n",
       "      <td>-0.083930</td>\n",
       "      <td>-0.527486</td>\n",
       "      <td>0.073039</td>\n",
       "      <td>-0.167619</td>\n",
       "      <td>-0.190201</td>\n",
       "      <td>-0.342050</td>\n",
       "      <td>0.966652</td>\n",
       "      <td>0.137527</td>\n",
       "      <td>-0.235883</td>\n",
       "      <td>...</td>\n",
       "      <td>-0.734751</td>\n",
       "      <td>-0.679548</td>\n",
       "      <td>-0.376848</td>\n",
       "      <td>-0.401420</td>\n",
       "      <td>-0.463536</td>\n",
       "      <td>-0.368311</td>\n",
       "      <td>-0.393106</td>\n",
       "      <td>-0.207546</td>\n",
       "      <td>-0.413242</td>\n",
       "      <td>-0.682782</td>\n",
       "    </tr>\n",
       "    <tr>\n",
       "      <th>3</th>\n",
       "      <td>-1.740739</td>\n",
       "      <td>-0.548691</td>\n",
       "      <td>-0.465738</td>\n",
       "      <td>-0.273658</td>\n",
       "      <td>-0.167619</td>\n",
       "      <td>-0.190201</td>\n",
       "      <td>-0.219479</td>\n",
       "      <td>-0.250343</td>\n",
       "      <td>-0.319299</td>\n",
       "      <td>-0.184745</td>\n",
       "      <td>...</td>\n",
       "      <td>-0.515470</td>\n",
       "      <td>-0.493011</td>\n",
       "      <td>-0.376780</td>\n",
       "      <td>-0.401420</td>\n",
       "      <td>-0.463536</td>\n",
       "      <td>0.329829</td>\n",
       "      <td>-0.393106</td>\n",
       "      <td>-0.207546</td>\n",
       "      <td>-0.413242</td>\n",
       "      <td>-0.489341</td>\n",
       "    </tr>\n",
       "    <tr>\n",
       "      <th>4</th>\n",
       "      <td>-1.740590</td>\n",
       "      <td>-0.197467</td>\n",
       "      <td>-0.502356</td>\n",
       "      <td>-0.356084</td>\n",
       "      <td>-0.167619</td>\n",
       "      <td>-0.190201</td>\n",
       "      <td>-0.292167</td>\n",
       "      <td>0.000669</td>\n",
       "      <td>0.997164</td>\n",
       "      <td>-0.235883</td>\n",
       "      <td>...</td>\n",
       "      <td>0.723943</td>\n",
       "      <td>0.696500</td>\n",
       "      <td>-0.207719</td>\n",
       "      <td>-0.024537</td>\n",
       "      <td>0.820536</td>\n",
       "      <td>0.562542</td>\n",
       "      <td>-0.393106</td>\n",
       "      <td>0.332660</td>\n",
       "      <td>0.043126</td>\n",
       "      <td>0.700864</td>\n",
       "    </tr>\n",
       "  </tbody>\n",
       "</table>\n",
       "<p>5 rows × 82 columns</p>\n",
       "</div>"
      ],
      "text/plain": [
       "         id    arpu_8  onnet_mou_8  offnet_mou_8  roam_ic_mou_8  \\\n",
       "0 -1.741335 -0.254323    -0.437773      0.614531      -0.167619   \n",
       "1 -1.741186 -0.358685    -0.114965     -0.326099      -0.167619   \n",
       "2 -1.740788 -0.083930    -0.527486      0.073039      -0.167619   \n",
       "3 -1.740739 -0.548691    -0.465738     -0.273658      -0.167619   \n",
       "4 -1.740590 -0.197467    -0.502356     -0.356084      -0.167619   \n",
       "\n",
       "   roam_og_mou_8  loc_og_t2t_mou_8  loc_og_t2m_mou_8  loc_og_t2f_mou_8  \\\n",
       "0      -0.190201         -0.328977         -0.463071         -0.319299   \n",
       "1      -0.190201          0.476813          0.126022         -0.065164   \n",
       "2      -0.190201         -0.342050          0.966652          0.137527   \n",
       "3      -0.190201         -0.219479         -0.250343         -0.319299   \n",
       "4      -0.190201         -0.292167          0.000669          0.997164   \n",
       "\n",
       "   loc_og_t2c_mou_8  ...  avg_max_rech_data_av67  avg_av_rech_amt_data_av67  \\\n",
       "0         -0.235883  ...               -0.734751                  -0.679548   \n",
       "1         -0.235883  ...               -0.000637                  -0.263219   \n",
       "2         -0.235883  ...               -0.734751                  -0.679548   \n",
       "3         -0.184745  ...               -0.515470                  -0.493011   \n",
       "4         -0.235883  ...                0.723943                   0.696500   \n",
       "\n",
       "   avg_vol_2g_mb_av67  avg_vol_3g_mb_av67  avg_monthly_2g_av67  \\\n",
       "0           -0.376848           -0.401420            -0.463536   \n",
       "1            0.068408           -0.401420             0.820536   \n",
       "2           -0.376848           -0.401420            -0.463536   \n",
       "3           -0.376780           -0.401420            -0.463536   \n",
       "4           -0.207719           -0.024537             0.820536   \n",
       "\n",
       "   avg_sachet_2g_av67  avg_monthly_3g_av67  avg_sachet_3g_av67  \\\n",
       "0           -0.368311            -0.393106           -0.207546   \n",
       "1           -0.368311            -0.393106           -0.207546   \n",
       "2           -0.368311            -0.393106           -0.207546   \n",
       "3            0.329829            -0.393106           -0.207546   \n",
       "4            0.562542            -0.393106            0.332660   \n",
       "\n",
       "   avg_vbc_3g_av67  avg_total_rech_amt_data_av67  \n",
       "0        -0.413242                     -0.682782  \n",
       "1        -0.413242                     -0.266345  \n",
       "2        -0.413242                     -0.682782  \n",
       "3        -0.413242                     -0.489341  \n",
       "4         0.043126                      0.700864  \n",
       "\n",
       "[5 rows x 82 columns]"
      ]
     },
     "execution_count": 109,
     "metadata": {},
     "output_type": "execute_result"
    }
   ],
   "source": [
    "X_scaled = scale_data(X)\n",
    "print(X_scaled.shape)\n",
    "X_scaled.head(5)"
   ]
  },
  {
   "cell_type": "code",
   "execution_count": 110,
   "id": "39335e32",
   "metadata": {},
   "outputs": [],
   "source": [
    "#replacing nan with 0\n",
    "X_scaled=X_scaled.replace(np.nan,0)"
   ]
  },
  {
   "cell_type": "code",
   "execution_count": 111,
   "id": "2ef5ccda",
   "metadata": {},
   "outputs": [
    {
     "data": {
      "image/png": "[encoded data removed]",
      "text/plain": [
       "<Figure size 576x432 with 1 Axes>"
      ]
     },
     "metadata": {
      "needs_background": "light"
     },
     "output_type": "display_data"
    },
    {
     "data": {
      "text/html": [
       "<div>\n",
       "<style scoped>\n",
       "    .dataframe tbody tr th:only-of-type {\n",
       "        vertical-align: middle;\n",
       "    }\n",
       "\n",
       "    .dataframe tbody tr th {\n",
       "        vertical-align: top;\n",
       "    }\n",
       "\n",
       "    .dataframe thead th {\n",
       "        text-align: right;\n",
       "    }\n",
       "</style>\n",
       "<table border=\"1\" class=\"dataframe\">\n",
       "  <thead>\n",
       "    <tr style=\"text-align: right;\">\n",
       "      <th></th>\n",
       "      <th>PC1</th>\n",
       "      <th>PC2</th>\n",
       "      <th>PC3</th>\n",
       "      <th>Feature</th>\n",
       "    </tr>\n",
       "  </thead>\n",
       "  <tbody>\n",
       "    <tr>\n",
       "      <th>0</th>\n",
       "      <td>0.003295</td>\n",
       "      <td>0.003640</td>\n",
       "      <td>-0.005005</td>\n",
       "      <td>id</td>\n",
       "    </tr>\n",
       "    <tr>\n",
       "      <th>1</th>\n",
       "      <td>0.049261</td>\n",
       "      <td>0.319631</td>\n",
       "      <td>0.113330</td>\n",
       "      <td>arpu_8</td>\n",
       "    </tr>\n",
       "    <tr>\n",
       "      <th>2</th>\n",
       "      <td>-0.082087</td>\n",
       "      <td>0.138639</td>\n",
       "      <td>0.149792</td>\n",
       "      <td>onnet_mou_8</td>\n",
       "    </tr>\n",
       "    <tr>\n",
       "      <th>3</th>\n",
       "      <td>-0.067617</td>\n",
       "      <td>0.229695</td>\n",
       "      <td>0.075803</td>\n",
       "      <td>offnet_mou_8</td>\n",
       "    </tr>\n",
       "    <tr>\n",
       "      <th>4</th>\n",
       "      <td>0.000553</td>\n",
       "      <td>0.043895</td>\n",
       "      <td>0.004392</td>\n",
       "      <td>roam_ic_mou_8</td>\n",
       "    </tr>\n",
       "  </tbody>\n",
       "</table>\n",
       "</div>"
      ],
      "text/plain": [
       "        PC1       PC2       PC3        Feature\n",
       "0  0.003295  0.003640 -0.005005             id\n",
       "1  0.049261  0.319631  0.113330         arpu_8\n",
       "2 -0.082087  0.138639  0.149792    onnet_mou_8\n",
       "3 -0.067617  0.229695  0.075803   offnet_mou_8\n",
       "4  0.000553  0.043895  0.004392  roam_ic_mou_8"
      ]
     },
     "execution_count": 111,
     "metadata": {},
     "output_type": "execute_result"
    }
   ],
   "source": [
    "pca = get_scree_plot(X_scaled) # scree plot\n",
    "\n",
    "col = list(X_scaled.columns)\n",
    "df_pca = pd.DataFrame({'PC1':pca.components_[0],'PC2':pca.components_[1], 'PC3':pca.components_[2],'Feature':col})\n",
    "df_pca.head()"
   ]
  },
  {
   "cell_type": "code",
   "execution_count": 112,
   "id": "781aa782",
   "metadata": {},
   "outputs": [
    {
     "data": {
      "text/plain": [
       "array([ 10.93,  19.47,  25.59,  30.38,  34.42,  37.86,  41.04,  44.02,\n",
       "        46.85,  49.52,  52.13,  54.47,  56.74,  58.88,  60.96,  62.81,\n",
       "        64.55,  66.27,  67.93,  69.57,  71.1 ,  72.61,  74.  ,  75.37,\n",
       "        76.67,  77.92,  79.15,  80.25,  81.34,  82.36,  83.35,  84.29,\n",
       "        85.22,  86.13,  87.  ,  87.85,  88.67,  89.47,  90.24,  90.88,\n",
       "        91.48,  92.05,  92.6 ,  93.09,  93.57,  94.02,  94.46,  94.85,\n",
       "        95.21,  95.56,  95.91,  96.23,  96.54,  96.84,  97.14,  97.41,\n",
       "        97.68,  97.95,  98.21,  98.47,  98.7 ,  98.9 ,  99.1 ,  99.28,\n",
       "        99.45,  99.6 ,  99.72,  99.82,  99.92,  99.96, 100.  , 100.02,\n",
       "       100.03, 100.03, 100.03, 100.03, 100.03, 100.03, 100.03, 100.03,\n",
       "       100.03, 100.03])"
      ]
     },
     "execution_count": 112,
     "metadata": {},
     "output_type": "execute_result"
    }
   ],
   "source": [
    "np.cumsum(np.round(pca.explained_variance_ratio_, decimals=4)*100)"
   ]
  },
  {
   "cell_type": "markdown",
   "id": "45ffc947",
   "metadata": {},
   "source": [
    "#### Observation : Looks like 60 components are enough to describe 95% of the variance in the dataset.We'll choose **60** components for our modeling"
   ]
  },
  {
   "cell_type": "markdown",
   "id": "1f6efde8",
   "metadata": {},
   "source": [
    "# Step 5 : Model Prediction and Evaluation"
   ]
  },
  {
   "cell_type": "code",
   "execution_count": 113,
   "id": "6ec456c1",
   "metadata": {},
   "outputs": [],
   "source": [
    "test_data=pd.read_csv(\"test.csv\")"
   ]
  },
  {
   "cell_type": "code",
   "execution_count": 114,
   "id": "27a9bcb9",
   "metadata": {},
   "outputs": [
    {
     "data": {
      "text/plain": [
       "(30000, 171)"
      ]
     },
     "execution_count": 114,
     "metadata": {},
     "output_type": "execute_result"
    }
   ],
   "source": [
    "test_data.shape"
   ]
  },
  {
   "cell_type": "code",
   "execution_count": 115,
   "id": "abd9129b",
   "metadata": {},
   "outputs": [
    {
     "data": {
      "text/plain": [
       "(20984, 83)"
      ]
     },
     "execution_count": 115,
     "metadata": {},
     "output_type": "execute_result"
    }
   ],
   "source": [
    "telecom_pca_df.shape"
   ]
  },
  {
   "cell_type": "code",
   "execution_count": 116,
   "id": "a8671d65",
   "metadata": {},
   "outputs": [],
   "source": [
    "x_train=X\n",
    "y_train=Y"
   ]
  },
  {
   "cell_type": "code",
   "execution_count": 117,
   "id": "72c1c6da",
   "metadata": {},
   "outputs": [
    {
     "data": {
      "text/plain": [
       "Index(['id', 'arpu_8', 'onnet_mou_8', 'offnet_mou_8', 'roam_ic_mou_8',\n",
       "       'roam_og_mou_8', 'loc_og_t2t_mou_8', 'loc_og_t2m_mou_8',\n",
       "       'loc_og_t2f_mou_8', 'loc_og_t2c_mou_8', 'std_og_t2t_mou_8',\n",
       "       'std_og_t2m_mou_8', 'std_og_t2f_mou_8', 'std_og_t2c_mou_8',\n",
       "       'isd_og_mou_8', 'spl_og_mou_8', 'og_others_8', 'loc_ic_t2t_mou_8',\n",
       "       'loc_ic_t2m_mou_8', 'loc_ic_t2f_mou_8', 'std_ic_t2t_mou_8',\n",
       "       'std_ic_t2m_mou_8', 'std_ic_t2f_mou_8', 'std_ic_t2o_mou_8',\n",
       "       'spl_ic_mou_8', 'isd_ic_mou_8', 'ic_others_8', 'total_rech_num_8',\n",
       "       'total_rech_amt_8', 'max_rech_amt_8', 'last_day_rch_amt_8',\n",
       "       'total_rech_data_8', 'av_rech_amt_data_8', 'vol_2g_mb_8', 'vol_3g_mb_8',\n",
       "       'monthly_2g_8', 'sachet_2g_8', 'monthly_3g_8', 'sachet_3g_8', 'aon',\n",
       "       'vbc_3g_8', 'churn_probability', 'total_rech_amt_data_8',\n",
       "       'avg_arpu_av67', 'avg_onnet_mou_av67', 'avg_offnet_mou_av67',\n",
       "       'avg_roam_ic_mou_av67', 'avg_roam_og_mou_av67',\n",
       "       'avg_loc_og_t2t_mou_av67', 'avg_loc_og_t2m_mou_av67',\n",
       "       'avg_loc_og_t2f_mou_av67', 'avg_loc_og_t2c_mou_av67',\n",
       "       'avg_std_og_t2t_mou_av67', 'avg_std_og_t2m_mou_av67',\n",
       "       'avg_std_og_t2f_mou_av67', 'avg_isd_og_mou_av67', 'avg_spl_og_mou_av67',\n",
       "       'avg_og_others_av67', 'avg_loc_ic_t2t_mou_av67',\n",
       "       'avg_loc_ic_t2m_mou_av67', 'avg_loc_ic_t2f_mou_av67',\n",
       "       'avg_std_ic_t2t_mou_av67', 'avg_std_ic_t2m_mou_av67',\n",
       "       'avg_std_ic_t2f_mou_av67', 'avg_spl_ic_mou_av67', 'avg_isd_ic_mou_av67',\n",
       "       'avg_ic_others_av67', 'avg_total_rech_num_av67',\n",
       "       'avg_total_rech_amt_av67', 'avg_max_rech_amt_av67',\n",
       "       'avg_last_day_rch_amt_av67', 'avg_total_rech_data_av67',\n",
       "       'avg_max_rech_data_av67', 'avg_av_rech_amt_data_av67',\n",
       "       'avg_vol_2g_mb_av67', 'avg_vol_3g_mb_av67', 'avg_monthly_2g_av67',\n",
       "       'avg_sachet_2g_av67', 'avg_monthly_3g_av67', 'avg_sachet_3g_av67',\n",
       "       'avg_vbc_3g_av67', 'avg_total_rech_amt_data_av67'],\n",
       "      dtype='object')"
      ]
     },
     "execution_count": 117,
     "metadata": {},
     "output_type": "execute_result"
    }
   ],
   "source": [
    "X.columns"
   ]
  },
  {
   "cell_type": "code",
   "execution_count": 118,
   "id": "0a02d14c",
   "metadata": {},
   "outputs": [],
   "source": [
    "test_data['total_rech_data_6'] = test_data['total_rech_data_6'].replace(np.NaN,0.0)\n",
    "test_data['total_rech_data_7'] = test_data['total_rech_data_7'].replace(np.NaN,0.0)\n",
    "test_data['total_rech_data_8'] = test_data['total_rech_data_8'].replace(np.NaN,0.0)\n",
    "test_data['av_rech_amt_data_6'] = test_data['av_rech_amt_data_6'].replace(np.NaN,0.0)\n",
    "test_data['av_rech_amt_data_7'] = test_data['av_rech_amt_data_7'].replace(np.NaN,0.0)\n",
    "test_data['av_rech_amt_data_8'] = test_data['av_rech_amt_data_8'].replace(np.NaN,0.0)\n",
    "# let's adding new column total recharge amount for data: total_rech_amt_data for calculating High Value customer process\n",
    "test_data['total_rech_amt_data_6'] = test_data.av_rech_amt_data_6 + df_telecom_train.total_rech_data_6\n",
    "test_data['total_rech_amt_data_7'] = test_data.av_rech_amt_data_7 + df_telecom_train.total_rech_data_7\n",
    "test_data['total_rech_amt_data_8'] = test_data.av_rech_amt_data_8 + df_telecom_train.total_rech_data_8\n",
    "test_data['total_avg_rech_amnt_6_7_GPhase'] = (test_data.total_rech_amt_6 + test_data.total_rech_amt_data_6 \\\n",
    "                                               + test_data.total_rech_amt_7+ test_data.total_rech_amt_data_7)/2"
   ]
  },
  {
   "cell_type": "code",
   "execution_count": 119,
   "id": "5691b9e5",
   "metadata": {},
   "outputs": [
    {
     "name": "stdout",
     "output_type": "stream",
     "text": [
      "<class 'pandas.core.frame.DataFrame'>\n",
      "RangeIndex: 30000 entries, 0 to 29999\n",
      "Columns: 175 entries, id to total_avg_rech_amnt_6_7_GPhase\n",
      "dtypes: float64(139), int64(27), object(9)\n",
      "memory usage: 40.1+ MB\n"
     ]
    }
   ],
   "source": [
    "test_data.info()"
   ]
  },
  {
   "cell_type": "code",
   "execution_count": 120,
   "id": "aebd1e25",
   "metadata": {},
   "outputs": [],
   "source": [
    "# create a filter for values greater than 70th percentile of total average recharge amount for good phase \n",
    "high_value_filter = test_data.total_avg_rech_amnt_6_7_GPhase.quantile(0.7)\n",
    "test_data_high_val_cust = test_data"
   ]
  },
  {
   "cell_type": "code",
   "execution_count": 121,
   "id": "acb647e4",
   "metadata": {},
   "outputs": [
    {
     "name": "stdout",
     "output_type": "stream",
     "text": [
      "Features before dropping unique values : 175\n",
      "Features after dropping unique values : 165\n"
     ]
    }
   ],
   "source": [
    "drop_col_with_unique_col =['circle_id', 'loc_og_t2o_mou', 'std_og_t2o_mou', 'loc_ic_t2o_mou', \n",
    "                          'last_date_of_month_6', 'last_date_of_month_7',\n",
    "                          'std_og_t2c_mou_6', 'std_og_t2c_mou_7','std_ic_t2o_mou_6', \n",
    "                          'std_ic_t2o_mou_7']\n",
    "\n",
    "print(\"Features before dropping unique values : \"+ str(test_data_high_val_cust.shape[1]))\n",
    "test_data_high_val_cust.drop(drop_col_with_unique_col,axis=1,inplace=True)\n",
    "print(\"Features after dropping unique values : \"+ str(test_data_high_val_cust.shape[1]))"
   ]
  },
  {
   "cell_type": "code",
   "execution_count": 122,
   "id": "25a7cf68",
   "metadata": {},
   "outputs": [
    {
     "name": "stdout",
     "output_type": "stream",
     "text": [
      "<class 'pandas.core.frame.DataFrame'>\n",
      "RangeIndex: 30000 entries, 0 to 29999\n",
      "Columns: 165 entries, id to total_avg_rech_amnt_6_7_GPhase\n",
      "dtypes: float64(132), int64(26), object(7)\n",
      "memory usage: 37.8+ MB\n"
     ]
    }
   ],
   "source": [
    "test_data_high_val_cust.info()"
   ]
  },
  {
   "cell_type": "code",
   "execution_count": 123,
   "id": "2fbb2da1",
   "metadata": {},
   "outputs": [
    {
     "data": {
      "text/html": [
       "<div>\n",
       "<style scoped>\n",
       "    .dataframe tbody tr th:only-of-type {\n",
       "        vertical-align: middle;\n",
       "    }\n",
       "\n",
       "    .dataframe tbody tr th {\n",
       "        vertical-align: top;\n",
       "    }\n",
       "\n",
       "    .dataframe thead th {\n",
       "        text-align: right;\n",
       "    }\n",
       "</style>\n",
       "<table border=\"1\" class=\"dataframe\">\n",
       "  <thead>\n",
       "    <tr style=\"text-align: right;\">\n",
       "      <th></th>\n",
       "      <th>id</th>\n",
       "      <th>last_date_of_month_8</th>\n",
       "      <th>arpu_6</th>\n",
       "      <th>arpu_7</th>\n",
       "      <th>arpu_8</th>\n",
       "      <th>onnet_mou_6</th>\n",
       "      <th>onnet_mou_7</th>\n",
       "      <th>onnet_mou_8</th>\n",
       "      <th>offnet_mou_6</th>\n",
       "      <th>offnet_mou_7</th>\n",
       "      <th>...</th>\n",
       "      <th>fb_user_7</th>\n",
       "      <th>fb_user_8</th>\n",
       "      <th>aon</th>\n",
       "      <th>aug_vbc_3g</th>\n",
       "      <th>jul_vbc_3g</th>\n",
       "      <th>jun_vbc_3g</th>\n",
       "      <th>total_rech_amt_data_6</th>\n",
       "      <th>total_rech_amt_data_7</th>\n",
       "      <th>total_rech_amt_data_8</th>\n",
       "      <th>total_avg_rech_amnt_6_7_GPhase</th>\n",
       "    </tr>\n",
       "  </thead>\n",
       "  <tbody>\n",
       "    <tr>\n",
       "      <th>0</th>\n",
       "      <td>69999</td>\n",
       "      <td>2014-08-31</td>\n",
       "      <td>91.882</td>\n",
       "      <td>65.330</td>\n",
       "      <td>64.445</td>\n",
       "      <td>31.78</td>\n",
       "      <td>20.23</td>\n",
       "      <td>23.11</td>\n",
       "      <td>60.16</td>\n",
       "      <td>32.16</td>\n",
       "      <td>...</td>\n",
       "      <td>NaN</td>\n",
       "      <td>NaN</td>\n",
       "      <td>1692</td>\n",
       "      <td>0.00</td>\n",
       "      <td>0.00</td>\n",
       "      <td>0.00</td>\n",
       "      <td>0.0</td>\n",
       "      <td>0.0</td>\n",
       "      <td>0.0</td>\n",
       "      <td>96.5</td>\n",
       "    </tr>\n",
       "    <tr>\n",
       "      <th>1</th>\n",
       "      <td>70000</td>\n",
       "      <td>2014-08-31</td>\n",
       "      <td>414.168</td>\n",
       "      <td>515.568</td>\n",
       "      <td>360.868</td>\n",
       "      <td>75.51</td>\n",
       "      <td>41.21</td>\n",
       "      <td>19.84</td>\n",
       "      <td>474.34</td>\n",
       "      <td>621.84</td>\n",
       "      <td>...</td>\n",
       "      <td>NaN</td>\n",
       "      <td>NaN</td>\n",
       "      <td>2533</td>\n",
       "      <td>0.00</td>\n",
       "      <td>0.00</td>\n",
       "      <td>0.00</td>\n",
       "      <td>0.0</td>\n",
       "      <td>1.0</td>\n",
       "      <td>0.0</td>\n",
       "      <td>500.5</td>\n",
       "    </tr>\n",
       "    <tr>\n",
       "      <th>2</th>\n",
       "      <td>70001</td>\n",
       "      <td>2014-08-31</td>\n",
       "      <td>329.844</td>\n",
       "      <td>434.884</td>\n",
       "      <td>746.239</td>\n",
       "      <td>7.54</td>\n",
       "      <td>7.86</td>\n",
       "      <td>8.40</td>\n",
       "      <td>16.98</td>\n",
       "      <td>45.81</td>\n",
       "      <td>...</td>\n",
       "      <td>NaN</td>\n",
       "      <td>NaN</td>\n",
       "      <td>277</td>\n",
       "      <td>525.61</td>\n",
       "      <td>758.41</td>\n",
       "      <td>241.84</td>\n",
       "      <td>0.0</td>\n",
       "      <td>0.0</td>\n",
       "      <td>0.0</td>\n",
       "      <td>750.0</td>\n",
       "    </tr>\n",
       "    <tr>\n",
       "      <th>3</th>\n",
       "      <td>70002</td>\n",
       "      <td>2014-08-31</td>\n",
       "      <td>43.550</td>\n",
       "      <td>171.390</td>\n",
       "      <td>24.400</td>\n",
       "      <td>5.31</td>\n",
       "      <td>2.16</td>\n",
       "      <td>0.00</td>\n",
       "      <td>40.04</td>\n",
       "      <td>205.01</td>\n",
       "      <td>...</td>\n",
       "      <td>NaN</td>\n",
       "      <td>NaN</td>\n",
       "      <td>1244</td>\n",
       "      <td>0.00</td>\n",
       "      <td>0.00</td>\n",
       "      <td>0.00</td>\n",
       "      <td>0.0</td>\n",
       "      <td>0.0</td>\n",
       "      <td>0.0</td>\n",
       "      <td>185.0</td>\n",
       "    </tr>\n",
       "    <tr>\n",
       "      <th>4</th>\n",
       "      <td>70003</td>\n",
       "      <td>2014-08-31</td>\n",
       "      <td>306.854</td>\n",
       "      <td>406.289</td>\n",
       "      <td>413.329</td>\n",
       "      <td>450.93</td>\n",
       "      <td>609.03</td>\n",
       "      <td>700.68</td>\n",
       "      <td>60.94</td>\n",
       "      <td>23.84</td>\n",
       "      <td>...</td>\n",
       "      <td>NaN</td>\n",
       "      <td>NaN</td>\n",
       "      <td>462</td>\n",
       "      <td>0.00</td>\n",
       "      <td>0.00</td>\n",
       "      <td>0.00</td>\n",
       "      <td>7.0</td>\n",
       "      <td>7.0</td>\n",
       "      <td>6.0</td>\n",
       "      <td>430.0</td>\n",
       "    </tr>\n",
       "  </tbody>\n",
       "</table>\n",
       "<p>5 rows × 165 columns</p>\n",
       "</div>"
      ],
      "text/plain": [
       "      id last_date_of_month_8   arpu_6   arpu_7   arpu_8  onnet_mou_6  \\\n",
       "0  69999           2014-08-31   91.882   65.330   64.445        31.78   \n",
       "1  70000           2014-08-31  414.168  515.568  360.868        75.51   \n",
       "2  70001           2014-08-31  329.844  434.884  746.239         7.54   \n",
       "3  70002           2014-08-31   43.550  171.390   24.400         5.31   \n",
       "4  70003           2014-08-31  306.854  406.289  413.329       450.93   \n",
       "\n",
       "   onnet_mou_7  onnet_mou_8  offnet_mou_6  offnet_mou_7  ...  fb_user_7  \\\n",
       "0        20.23        23.11         60.16         32.16  ...        NaN   \n",
       "1        41.21        19.84        474.34        621.84  ...        NaN   \n",
       "2         7.86         8.40         16.98         45.81  ...        NaN   \n",
       "3         2.16         0.00         40.04        205.01  ...        NaN   \n",
       "4       609.03       700.68         60.94         23.84  ...        NaN   \n",
       "\n",
       "   fb_user_8   aon  aug_vbc_3g  jul_vbc_3g  jun_vbc_3g  total_rech_amt_data_6  \\\n",
       "0        NaN  1692        0.00        0.00        0.00                    0.0   \n",
       "1        NaN  2533        0.00        0.00        0.00                    0.0   \n",
       "2        NaN   277      525.61      758.41      241.84                    0.0   \n",
       "3        NaN  1244        0.00        0.00        0.00                    0.0   \n",
       "4        NaN   462        0.00        0.00        0.00                    7.0   \n",
       "\n",
       "   total_rech_amt_data_7  total_rech_amt_data_8  \\\n",
       "0                    0.0                    0.0   \n",
       "1                    1.0                    0.0   \n",
       "2                    0.0                    0.0   \n",
       "3                    0.0                    0.0   \n",
       "4                    7.0                    6.0   \n",
       "\n",
       "   total_avg_rech_amnt_6_7_GPhase  \n",
       "0                            96.5  \n",
       "1                           500.5  \n",
       "2                           750.0  \n",
       "3                           185.0  \n",
       "4                           430.0  \n",
       "\n",
       "[5 rows x 165 columns]"
      ]
     },
     "execution_count": 123,
     "metadata": {},
     "output_type": "execute_result"
    }
   ],
   "source": [
    "for col in df_DateCols:\n",
    "    test_data_high_val_cust[col] = pd.to_datetime(test_data_high_val_cust[col])\n",
    "test_data_high_val_cust.head()"
   ]
  },
  {
   "cell_type": "code",
   "execution_count": 124,
   "id": "7ff699a1",
   "metadata": {},
   "outputs": [
    {
     "data": {
      "text/plain": [
       "Index(['count_rech_2g_6', 'count_rech_2g_7', 'count_rech_2g_8',\n",
       "       'count_rech_3g_6', 'count_rech_3g_7', 'count_rech_3g_8', 'vol_2g_mb_6',\n",
       "       'vol_2g_mb_7', 'vol_2g_mb_8', 'vol_3g_mb_6', 'vol_3g_mb_7',\n",
       "       'vol_3g_mb_8', 'arpu_3g_6', 'arpu_3g_7', 'arpu_3g_8', 'arpu_2g_6',\n",
       "       'arpu_2g_7', 'arpu_2g_8', 'monthly_2g_6', 'monthly_2g_7',\n",
       "       'monthly_2g_8', 'sachet_2g_6', 'sachet_2g_7', 'sachet_2g_8',\n",
       "       'monthly_3g_6', 'monthly_3g_7', 'monthly_3g_8', 'sachet_3g_6',\n",
       "       'sachet_3g_7', 'sachet_3g_8', 'aug_vbc_3g', 'jul_vbc_3g', 'jun_vbc_3g'],\n",
       "      dtype='object')"
      ]
     },
     "execution_count": 124,
     "metadata": {},
     "output_type": "execute_result"
    }
   ],
   "source": [
    "#list_potential_categorical_type(get_meta_data(test_data_high_val_cust),test_data_high_val_cust)\n",
    "test_data_high_val_cust.loc[:,['max_rech_data_6','max_rech_data_7','max_rech_data_8']].describe()\n",
    "#Getting the last day recharge amount columns\n",
    "last_day_rech_amt = test_data_high_val_cust.columns[test_data_high_val_cust.columns.str.contains('day')]\n",
    "last_day_rech_amt.tolist()\n",
    "usage_2g_and_3g = test_data_high_val_cust.columns[test_data_high_val_cust.columns.str.contains('2g|3g',regex=True)]\n",
    "usage_2g_and_3g"
   ]
  },
  {
   "cell_type": "code",
   "execution_count": 125,
   "id": "5931061f",
   "metadata": {},
   "outputs": [
    {
     "data": {
      "text/plain": [
       "['vbc_3g_8', 'vbc_3g_7', 'vbc_3g_6']"
      ]
     },
     "execution_count": 125,
     "metadata": {},
     "output_type": "execute_result"
    }
   ],
   "source": [
    "# let's check Volume based cost \n",
    "vbc_column =test_data_high_val_cust.columns[test_data_high_val_cust.columns.str.contains('vbc_',regex=True)]\n",
    "vbc_column.tolist()\n",
    "# Renaming month named vbc columns to 6,7,8,9 format\n",
    "test_data_high_val_cust.rename(columns={'jun_vbc_3g':'vbc_3g_6','jul_vbc_3g':'vbc_3g_7','aug_vbc_3g':'vbc_3g_8'}, inplace=True)\n",
    "\n",
    "vbc_column = test_data_high_val_cust.columns[test_data_high_val_cust.columns.str.contains('vbc_3g',regex=True)]\n",
    "vbc_column.tolist()"
   ]
  },
  {
   "cell_type": "code",
   "execution_count": 126,
   "id": "d377789b",
   "metadata": {},
   "outputs": [],
   "source": [
    "# Checking Service schemes with validity smaller than a month for 2G/3G\n",
    "SC_2g_or_3g_col = test_data_high_val_cust.columns[test_data_high_val_cust.columns.str.contains('sachet_2g|sachet_3g',regex=True)]\n",
    "# Checking columns for average revenue per user\n",
    "arpu_cols = test_data_high_val_cust.columns[test_data_high_val_cust.columns.str.contains('arpu_')]\n",
    "mou_cols = test_data_high_val_cust.columns[test_data_high_val_cust.columns.str.contains('mou')]\n",
    "test_data_high_val_cust.loc[:,mou_cols] = test_data_high_val_cust.loc[:,mou_cols].replace(np.NaN,0)\n",
    "mou_og_cols6 = test_data_high_val_cust.columns[test_data_high_val_cust.columns.str.contains('.*_og_.*mou_6',regex=True)]"
   ]
  },
  {
   "cell_type": "code",
   "execution_count": 127,
   "id": "e7aba9e1",
   "metadata": {},
   "outputs": [
    {
     "data": {
      "text/plain": [
       "Index(['onnet_mou_6', 'onnet_mou_7', 'onnet_mou_8'], dtype='object')"
      ]
     },
     "execution_count": 127,
     "metadata": {},
     "output_type": "execute_result"
    }
   ],
   "source": [
    "list_total_og_cols = test_data_high_val_cust.columns[test_data_high_val_cust.columns.str.contains('total_og_mou|std_og_mou|loc_og_mou',regex=True)]\n",
    "test_data_high_val_cust.drop(list_total_og_cols,axis=1,inplace=True)\n",
    "#log(\"Columns dropped - \")\n",
    "list_total_og_cols.tolist()\n",
    "mou_ic_cols6 = test_data_high_val_cust.columns[test_data_high_val_cust.columns.str.contains('.*_ic_.*mou_6',regex=True)]\n",
    "test_data_high_val_cust.loc[:,mou_ic_cols6].describe()\n",
    "list_total_ic_cols = test_data_high_val_cust.columns[test_data_high_val_cust.columns.str.contains('total_ic_mou|std_ic_mou|loc_ic_mou',regex=True)]\n",
    "test_data_high_val_cust.drop(list_total_ic_cols,axis=1,inplace=True)\n",
    "#log(\"Columns dropped - \")\n",
    "list_total_ic_cols.tolist()\n",
    "offnet_usage_service_col = test_data_high_val_cust.columns[test_data_high_val_cust.columns.str.contains('offnet.*mou',regex=True)]\n",
    "#minutes of usage related columns\n",
    "onnet_usage_service =test_data_high_val_cust.columns[test_data_high_val_cust.columns.str.contains('^onnet.*mou',regex=True)]\n",
    "onnet_usage_service"
   ]
  },
  {
   "cell_type": "code",
   "execution_count": 128,
   "id": "cf4cab27",
   "metadata": {},
   "outputs": [
    {
     "data": {
      "text/plain": [
       "(30000, 147)"
      ]
     },
     "execution_count": 128,
     "metadata": {},
     "output_type": "execute_result"
    }
   ],
   "source": [
    "test_data_high_val_cust.shape"
   ]
  },
  {
   "cell_type": "code",
   "execution_count": 129,
   "id": "04264936",
   "metadata": {},
   "outputs": [
    {
     "data": {
      "image/png": "[encoded data removed]",
      "text/plain": [
       "<Figure size 1008x576 with 1 Axes>"
      ]
     },
     "metadata": {
      "needs_background": "light"
     },
     "output_type": "display_data"
    },
    {
     "name": "stdout",
     "output_type": "stream",
     "text": [
      "(30000, 147)\n",
      "(30000, 139)\n",
      "arpu\n",
      "onnet_mou\n",
      "offnet_mou\n",
      "roam_ic_mou\n",
      "roam_og_mou\n",
      "loc_og_t2t_mou\n",
      "loc_og_t2m_mou\n",
      "loc_og_t2f_mou\n",
      "loc_og_t2c_mou\n",
      "std_og_t2t_mou\n",
      "std_og_t2m_mou\n",
      "std_og_t2f_mou\n",
      "isd_og_mou\n",
      "spl_og_mou\n",
      "og_others\n",
      "loc_ic_t2t_mou\n",
      "loc_ic_t2m_mou\n",
      "loc_ic_t2f_mou\n",
      "std_ic_t2t_mou\n",
      "std_ic_t2m_mou\n",
      "std_ic_t2f_mou\n",
      "spl_ic_mou\n",
      "isd_ic_mou\n",
      "ic_others\n",
      "total_rech_num\n",
      "total_rech_amt\n",
      "max_rech_amt\n",
      "last_day_rch_amt\n",
      "total_rech_data\n",
      "max_rech_data\n",
      "count_rech_2g\n",
      "count_rech_3g\n",
      "av_rech_amt_data\n",
      "vol_2g_mb\n",
      "vol_3g_mb\n",
      "arpu_3g\n",
      "arpu_2g\n",
      "night_pck_user\n",
      "monthly_2g\n",
      "sachet_2g\n",
      "monthly_3g\n",
      "sachet_3g\n",
      "fb_user\n",
      "vbc_3g\n",
      "total_rech_amt_data\n"
     ]
    }
   ],
   "source": [
    "tenure_data = test_data_high_val_cust.copy()\n",
    "plt.figure(figsize=(14,8))\n",
    "# aon --> Age on network - number of days the customer is using the operator T network\n",
    "tenure_data['tenure'] = tenure_data['aon']/30\n",
    "tenure_data['tenure'].head()\n",
    "ax = sns.distplot(tenure_data['tenure'], hist=True, kde=False, \n",
    "             bins=int(180/5), color = 'darkgreen', \n",
    "             hist_kws={'edgecolor':'red'},\n",
    "             kde_kws={'linewidth': 4})\n",
    "ax.set_ylabel('Number of Customers')\n",
    "ax.set_xlabel('Tenure in Months')\n",
    "ax.set_title('Customers Vs Tenure')\n",
    "plt.show()\n",
    "tn_range = [0, 6, 12, 24, 60, 61]\n",
    "tn_label = [ '0-6 Months', '6-12 Months', '1-2 Yrs', '2-5 Yrs', '5 Yrs and above']\n",
    "tenure_data['tenure_range'] = pd.cut(tenure_data['tenure'], tn_range, labels=tn_label)\n",
    "tenure_data['tenure_range'].head()\n",
    "\n",
    "numberic_col = [ 'og_others_6','ic_others_6', 'og_others_7', 'ic_others_7']\n",
    "\n",
    "test_data_final = test_data_high_val_cust.copy()\n",
    "print(test_data_final.shape)\n",
    "test_data_final.head(3)\n",
    "test_data_final.drop([\"total_avg_rech_amnt_6_7_GPhase\"],axis=1,inplace=True)\n",
    "test_data_final.drop(test_data_high_val_cust.filter(regex='date_').columns,axis=1,inplace=True)\n",
    "print (test_data_final.shape)\n",
    "\n",
    "col_list = test_data_final.filter(regex='_6|_7').columns.str[:-2]\n",
    "for idx, col in enumerate(col_list.unique()):\n",
    "    print(col)\n",
    "    avg_col_name = \"avg_\"+col+\"_av67\"\n",
    "    col_6 = col+\"_6\"\n",
    "    col_7 = col+\"_7\"\n",
    "    test_data_final[avg_col_name] = (test_data_final[col_6]  + test_data_final[col_7])/ 2"
   ]
  },
  {
   "cell_type": "code",
   "execution_count": 130,
   "id": "8efefc9a",
   "metadata": {},
   "outputs": [],
   "source": [
    "test_x=test_data_final[['id', 'arpu_8', 'onnet_mou_8', 'offnet_mou_8', 'roam_ic_mou_8',\n",
    "       'roam_og_mou_8', 'loc_og_t2t_mou_8', 'loc_og_t2m_mou_8',\n",
    "       'loc_og_t2f_mou_8', 'loc_og_t2c_mou_8', 'std_og_t2t_mou_8',\n",
    "       'std_og_t2m_mou_8', 'std_og_t2f_mou_8', 'std_og_t2c_mou_8',\n",
    "       'isd_og_mou_8', 'spl_og_mou_8', 'og_others_8', 'loc_ic_t2t_mou_8',\n",
    "       'loc_ic_t2m_mou_8', 'loc_ic_t2f_mou_8', 'std_ic_t2t_mou_8',\n",
    "       'std_ic_t2m_mou_8', 'std_ic_t2f_mou_8', 'std_ic_t2o_mou_8',\n",
    "       'spl_ic_mou_8', 'isd_ic_mou_8', 'ic_others_8', 'total_rech_num_8',\n",
    "       'total_rech_amt_8', 'max_rech_amt_8', 'last_day_rch_amt_8',\n",
    "       'total_rech_data_8', 'av_rech_amt_data_8', 'vol_2g_mb_8', 'vol_3g_mb_8',\n",
    "       'monthly_2g_8', 'sachet_2g_8', 'monthly_3g_8', 'sachet_3g_8', 'aon',\n",
    "       'vbc_3g_8', 'total_rech_amt_data_8',\n",
    "       'avg_arpu_av67', 'avg_onnet_mou_av67', 'avg_offnet_mou_av67',\n",
    "       'avg_roam_ic_mou_av67', 'avg_roam_og_mou_av67',\n",
    "       'avg_loc_og_t2t_mou_av67', 'avg_loc_og_t2m_mou_av67',\n",
    "       'avg_loc_og_t2f_mou_av67', 'avg_loc_og_t2c_mou_av67',\n",
    "       'avg_std_og_t2t_mou_av67', 'avg_std_og_t2m_mou_av67',\n",
    "       'avg_std_og_t2f_mou_av67', 'avg_isd_og_mou_av67', 'avg_spl_og_mou_av67',\n",
    "       'avg_og_others_av67', 'avg_loc_ic_t2t_mou_av67',\n",
    "       'avg_loc_ic_t2m_mou_av67', 'avg_loc_ic_t2f_mou_av67',\n",
    "       'avg_std_ic_t2t_mou_av67', 'avg_std_ic_t2m_mou_av67',\n",
    "       'avg_std_ic_t2f_mou_av67', 'avg_spl_ic_mou_av67', 'avg_isd_ic_mou_av67',\n",
    "       'avg_ic_others_av67', 'avg_total_rech_num_av67',\n",
    "       'avg_total_rech_amt_av67', 'avg_max_rech_amt_av67',\n",
    "       'avg_last_day_rch_amt_av67', 'avg_total_rech_data_av67',\n",
    "       'avg_max_rech_data_av67', 'avg_av_rech_amt_data_av67',\n",
    "       'avg_vol_2g_mb_av67', 'avg_vol_3g_mb_av67', 'avg_monthly_2g_av67',\n",
    "       'avg_sachet_2g_av67', 'avg_monthly_3g_av67', 'avg_sachet_3g_av67',\n",
    "       'avg_vbc_3g_av67', 'avg_total_rech_amt_data_av67']]"
   ]
  },
  {
   "cell_type": "code",
   "execution_count": 131,
   "id": "b4d1728c",
   "metadata": {},
   "outputs": [
    {
     "data": {
      "text/plain": [
       "(30000, 81)"
      ]
     },
     "execution_count": 131,
     "metadata": {},
     "output_type": "execute_result"
    }
   ],
   "source": [
    "test_x.shape"
   ]
  },
  {
   "cell_type": "code",
   "execution_count": 132,
   "id": "4f6449b5",
   "metadata": {},
   "outputs": [
    {
     "data": {
      "text/plain": [
       "Index(['id', 'arpu_8', 'onnet_mou_8', 'offnet_mou_8', 'roam_ic_mou_8',\n",
       "       'roam_og_mou_8', 'loc_og_t2t_mou_8', 'loc_og_t2m_mou_8',\n",
       "       'loc_og_t2f_mou_8', 'loc_og_t2c_mou_8', 'std_og_t2t_mou_8',\n",
       "       'std_og_t2m_mou_8', 'std_og_t2f_mou_8', 'std_og_t2c_mou_8',\n",
       "       'isd_og_mou_8', 'spl_og_mou_8', 'og_others_8', 'loc_ic_t2t_mou_8',\n",
       "       'loc_ic_t2m_mou_8', 'loc_ic_t2f_mou_8', 'std_ic_t2t_mou_8',\n",
       "       'std_ic_t2m_mou_8', 'std_ic_t2f_mou_8', 'std_ic_t2o_mou_8',\n",
       "       'spl_ic_mou_8', 'isd_ic_mou_8', 'ic_others_8', 'total_rech_num_8',\n",
       "       'total_rech_amt_8', 'max_rech_amt_8', 'last_day_rch_amt_8',\n",
       "       'total_rech_data_8', 'av_rech_amt_data_8', 'vol_2g_mb_8', 'vol_3g_mb_8',\n",
       "       'monthly_2g_8', 'sachet_2g_8', 'monthly_3g_8', 'sachet_3g_8', 'aon',\n",
       "       'vbc_3g_8', 'churn_probability', 'total_rech_amt_data_8',\n",
       "       'avg_arpu_av67', 'avg_onnet_mou_av67', 'avg_offnet_mou_av67',\n",
       "       'avg_roam_ic_mou_av67', 'avg_roam_og_mou_av67',\n",
       "       'avg_loc_og_t2t_mou_av67', 'avg_loc_og_t2m_mou_av67',\n",
       "       'avg_loc_og_t2f_mou_av67', 'avg_loc_og_t2c_mou_av67',\n",
       "       'avg_std_og_t2t_mou_av67', 'avg_std_og_t2m_mou_av67',\n",
       "       'avg_std_og_t2f_mou_av67', 'avg_isd_og_mou_av67', 'avg_spl_og_mou_av67',\n",
       "       'avg_og_others_av67', 'avg_loc_ic_t2t_mou_av67',\n",
       "       'avg_loc_ic_t2m_mou_av67', 'avg_loc_ic_t2f_mou_av67',\n",
       "       'avg_std_ic_t2t_mou_av67', 'avg_std_ic_t2m_mou_av67',\n",
       "       'avg_std_ic_t2f_mou_av67', 'avg_spl_ic_mou_av67', 'avg_isd_ic_mou_av67',\n",
       "       'avg_ic_others_av67', 'avg_total_rech_num_av67',\n",
       "       'avg_total_rech_amt_av67', 'avg_max_rech_amt_av67',\n",
       "       'avg_last_day_rch_amt_av67', 'avg_total_rech_data_av67',\n",
       "       'avg_max_rech_data_av67', 'avg_av_rech_amt_data_av67',\n",
       "       'avg_vol_2g_mb_av67', 'avg_vol_3g_mb_av67', 'avg_monthly_2g_av67',\n",
       "       'avg_sachet_2g_av67', 'avg_monthly_3g_av67', 'avg_sachet_3g_av67',\n",
       "       'avg_vbc_3g_av67', 'avg_total_rech_amt_data_av67'],\n",
       "      dtype='object')"
      ]
     },
     "execution_count": 132,
     "metadata": {},
     "output_type": "execute_result"
    }
   ],
   "source": [
    "X.columns"
   ]
  },
  {
   "cell_type": "code",
   "execution_count": 133,
   "id": "f30ce174",
   "metadata": {},
   "outputs": [],
   "source": [
    "X=X.replace(np.nan,0)"
   ]
  },
  {
   "cell_type": "code",
   "execution_count": 134,
   "id": "fd2fc66e",
   "metadata": {},
   "outputs": [],
   "source": [
    "x_train=X\n",
    "y_train=Y\n",
    "x_test=test_x"
   ]
  },
  {
   "cell_type": "code",
   "execution_count": 135,
   "id": "dd9f1473",
   "metadata": {},
   "outputs": [
    {
     "data": {
      "text/plain": [
       "(20984, 82)"
      ]
     },
     "execution_count": 135,
     "metadata": {},
     "output_type": "execute_result"
    }
   ],
   "source": [
    "x_train.shape"
   ]
  },
  {
   "cell_type": "code",
   "execution_count": 136,
   "id": "8b415260",
   "metadata": {},
   "outputs": [
    {
     "data": {
      "text/plain": [
       "(30000, 81)"
      ]
     },
     "execution_count": 136,
     "metadata": {},
     "output_type": "execute_result"
    }
   ],
   "source": [
    "x_test.shape"
   ]
  },
  {
   "cell_type": "code",
   "execution_count": 137,
   "id": "4c778514",
   "metadata": {},
   "outputs": [],
   "source": [
    "X_train=x_train.drop(['churn_probability'],axis=1)"
   ]
  },
  {
   "cell_type": "code",
   "execution_count": 138,
   "id": "f73c2818",
   "metadata": {},
   "outputs": [
    {
     "data": {
      "text/plain": [
       "12    0\n",
       "15    0\n",
       "23    0\n",
       "24    0\n",
       "27    0\n",
       "Name: churn, dtype: int64"
      ]
     },
     "execution_count": 138,
     "metadata": {},
     "output_type": "execute_result"
    }
   ],
   "source": [
    "y_train.head()"
   ]
  },
  {
   "cell_type": "code",
   "execution_count": 139,
   "id": "b278f114",
   "metadata": {},
   "outputs": [
    {
     "data": {
      "text/plain": [
       "(20984,)"
      ]
     },
     "execution_count": 139,
     "metadata": {},
     "output_type": "execute_result"
    }
   ],
   "source": [
    "y_train.shape"
   ]
  },
  {
   "cell_type": "markdown",
   "id": "1e7cff4c",
   "metadata": {},
   "source": [
    "# Tree Model Regression "
   ]
  },
  {
   "cell_type": "code",
   "execution_count": 140,
   "id": "ab5aed8a",
   "metadata": {},
   "outputs": [],
   "source": [
    "telecom_tree_df = telecom_df_final.copy()"
   ]
  },
  {
   "cell_type": "code",
   "execution_count": 141,
   "id": "9ea055b7",
   "metadata": {},
   "outputs": [],
   "source": [
    "# Importing random forest classifier from sklearn library\n",
    "from sklearn.ensemble import RandomForestClassifier\n",
    "from sklearn.metrics import classification_report,confusion_matrix, accuracy_score"
   ]
  },
  {
   "cell_type": "code",
   "execution_count": 142,
   "id": "f1781f78",
   "metadata": {},
   "outputs": [],
   "source": [
    "rfc = RandomForestClassifier()"
   ]
  },
  {
   "cell_type": "code",
   "execution_count": 143,
   "id": "41830e45",
   "metadata": {
    "scrolled": false
   },
   "outputs": [
    {
     "data": {
      "text/plain": [
       "RandomForestClassifier()"
      ]
     },
     "execution_count": 143,
     "metadata": {},
     "output_type": "execute_result"
    }
   ],
   "source": [
    "rfc.fit(X_train,y_train)"
   ]
  },
  {
   "cell_type": "code",
   "execution_count": 144,
   "id": "e1953821",
   "metadata": {},
   "outputs": [],
   "source": [
    "x_test=x_test.replace(np.nan,0)"
   ]
  },
  {
   "cell_type": "code",
   "execution_count": 145,
   "id": "b2449675",
   "metadata": {},
   "outputs": [
    {
     "data": {
      "text/plain": [
       "(30000, 81)"
      ]
     },
     "execution_count": 145,
     "metadata": {},
     "output_type": "execute_result"
    }
   ],
   "source": [
    "x_test.shape"
   ]
  },
  {
   "cell_type": "code",
   "execution_count": 146,
   "id": "c7b53fa1",
   "metadata": {},
   "outputs": [],
   "source": [
    "# Making predictions\n",
    "predictions = rfc.predict(x_test)"
   ]
  },
  {
   "cell_type": "code",
   "execution_count": 147,
   "id": "601634e5",
   "metadata": {},
   "outputs": [
    {
     "data": {
      "text/plain": [
       "array([0, 0, 1, ..., 0, 0, 0], dtype=int64)"
      ]
     },
     "execution_count": 147,
     "metadata": {},
     "output_type": "execute_result"
    }
   ],
   "source": [
    "predictions"
   ]
  },
  {
   "cell_type": "markdown",
   "id": "2f69a6e4",
   "metadata": {},
   "source": [
    "#### Observation : So far so good, let's now look at the list of hyperparameters which we can tune to improve model performance."
   ]
  },
  {
   "cell_type": "markdown",
   "id": "3e0ecf06",
   "metadata": {},
   "source": [
    "## Hyperparameter Tuning"
   ]
  },
  {
   "cell_type": "code",
   "execution_count": 148,
   "id": "45fcdf8b",
   "metadata": {},
   "outputs": [],
   "source": [
    "from sklearn.model_selection import KFold\n",
    "from sklearn.model_selection import GridSearchCV\n",
    "from sklearn import svm\n",
    "from sklearn import metrics\n",
    "from sklearn.preprocessing import StandardScaler\n",
    "from sklearn.model_selection import KFold,GridSearchCV\n",
    "from sklearn.model_selection import train_test_split\n",
    "from sklearn.metrics import confusion_matrix, precision_recall_curve, auc, roc_auc_score, roc_curve, recall_score, classification_report\n",
    "\n",
    "\n",
    "def tune_hyperparameter(parameters,x_train,y_train,n_folds = 5,max_depth=0):\n",
    "    \n",
    "    if(max_depth==0):\n",
    "        rf = RandomForestClassifier()\n",
    "    else :\n",
    "        rf = RandomForestClassifier(max_depth=max_depth)\n",
    "        \n",
    "    rf = GridSearchCV(rf, parameters, cv=n_folds,n_jobs = -1, scoring=\"accuracy\",return_train_score=True)\n",
    "    rf.fit(x_train, y_train)\n",
    "    scores = rf.cv_results_\n",
    "\n",
    "    for key in parameters.keys():\n",
    "        hyperparameters = key\n",
    "        break\n",
    "\n",
    "    # plotting accuracies for parameters\n",
    "    plt.figure(figsize=(16,5))\n",
    "    plt.plot(scores[\"param_\"+hyperparameters], scores[\"mean_train_score\"], label=\"training accuracy\")\n",
    "    plt.plot(scores[\"param_\"+hyperparameters], scores[\"mean_test_score\"], label=\"test accuracy\")\n",
    "    plt.xlabel(hyperparameters)\n",
    "    plt.ylabel(\"Accuracy\")\n",
    "    plt.legend()\n",
    "    plt.show()"
   ]
  },
  {
   "cell_type": "markdown",
   "id": "e4614d0e",
   "metadata": {},
   "source": [
    "## Tuning max_depth\n",
    "Let's try to find the optimum values for 'max_depth' and understand how the value of max_depth impacts the overall accuracy of the ensemble."
   ]
  },
  {
   "cell_type": "code",
   "execution_count": 149,
   "id": "d9d81a8b",
   "metadata": {},
   "outputs": [
    {
     "data": {
      "image/png": "[encoded data removed]",
      "text/plain": [
       "<Figure size 1152x360 with 1 Axes>"
      ]
     },
     "metadata": {
      "needs_background": "light"
     },
     "output_type": "display_data"
    }
   ],
   "source": [
    "# parameters to build the model on\n",
    "parameters = {'max_depth': range(2, 40, 5)}\n",
    "tune_hyperparameter(parameters,x_train,y_train)"
   ]
  },
  {
   "cell_type": "markdown",
   "id": "860c3455",
   "metadata": {},
   "source": [
    "#### Observation :\n",
    "- We can see that as we increase the value of max_depth, both train and test scores increase till a point, but after that test score becomme stagnant. \n",
    "- The ensemble tries to overfit as we increase the max_depth. Thus, controlling the depth of the constituent trees will help reduce overfitting in the forest.\n",
    "- **7 and 12** value have peek convergens and can be used for grid veiw search."
   ]
  },
  {
   "cell_type": "markdown",
   "id": "eb984953",
   "metadata": {},
   "source": [
    "## Tuning n_estimators\n",
    "- Let's try to find the optimum values for n_estimators and understand how the value of n_estimators impacts the overall accuracy. Notice that we'll specify an appropriately low value of max_depth, so that the trees do not overfit."
   ]
  },
  {
   "cell_type": "code",
   "execution_count": 150,
   "id": "0fb3fea6",
   "metadata": {},
   "outputs": [
    {
     "data": {
      "image/png": "[encoded data removed]",
      "text/plain": [
       "<Figure size 1152x360 with 1 Axes>"
      ]
     },
     "metadata": {
      "needs_background": "light"
     },
     "output_type": "display_data"
    }
   ],
   "source": [
    "# parameters to build the model on\n",
    "parameters = {'n_estimators': range(100, 2000, 200)}\n",
    "tune_hyperparameter(parameters,x_train,y_train)"
   ]
  },
  {
   "cell_type": "markdown",
   "id": "2fcdcf96",
   "metadata": {},
   "source": [
    "#### Observation :\n",
    "- Score almost remain the same with very low dip throught the range. We will use **200** for grid view search."
   ]
  },
  {
   "cell_type": "markdown",
   "id": "fffe05f8",
   "metadata": {},
   "source": [
    "## Tuning max_features\n",
    "- Let's see how the model performance varies with 'max_features', which is the maximum numbre of features considered for splitting at a node."
   ]
  },
  {
   "cell_type": "code",
   "execution_count": 151,
   "id": "dd21140f",
   "metadata": {},
   "outputs": [
    {
     "data": {
      "image/png": "[encoded data removed]",
      "text/plain": [
       "<Figure size 1152x360 with 1 Axes>"
      ]
     },
     "metadata": {
      "needs_background": "light"
     },
     "output_type": "display_data"
    }
   ],
   "source": [
    "# parameters to build the model on\n",
    "parameters = {'max_features': [20,30,40,50,60]}\n",
    "tune_hyperparameter(parameters,x_train,y_train,4)"
   ]
  },
  {
   "cell_type": "markdown",
   "id": "578a9066",
   "metadata": {},
   "source": [
    "#### Observation :\n",
    "- Apparently, accuracy of training seems to be stable and test scores seems to increase till **40** and then decrease. Again we see increase on **60** and we will use that."
   ]
  },
  {
   "cell_type": "code",
   "execution_count": 152,
   "id": "5d6f757c",
   "metadata": {},
   "outputs": [
    {
     "data": {
      "image/png": "[encoded data removed]",
      "text/plain": [
       "<Figure size 1152x360 with 1 Axes>"
      ]
     },
     "metadata": {
      "needs_background": "light"
     },
     "output_type": "display_data"
    }
   ],
   "source": [
    "# parameters to build the model on\n",
    "parameters = {'min_samples_leaf': range(1, 100, 10)}\n",
    "tune_hyperparameter(parameters,x_train,y_train)"
   ]
  },
  {
   "cell_type": "markdown",
   "id": "8ceb8f85",
   "metadata": {},
   "source": [
    "#### Observation :\n",
    "- We can see that the model starts to overfit as value is decrease the value of min_samples_leaf. **10 to 20** seems to be a good range and that will be used in grid search."
   ]
  },
  {
   "cell_type": "code",
   "execution_count": 153,
   "id": "833024d0",
   "metadata": {},
   "outputs": [
    {
     "data": {
      "image/png": "[encoded data removed]",
      "text/plain": [
       "<Figure size 1152x360 with 1 Axes>"
      ]
     },
     "metadata": {
      "needs_background": "light"
     },
     "output_type": "display_data"
    }
   ],
   "source": [
    "# parameters to build the model on\n",
    "parameters = {'min_samples_split': range(10, 100, 10)}\n",
    "tune_hyperparameter(parameters,x_train,y_train)"
   ]
  },
  {
   "cell_type": "markdown",
   "id": "d937bf5a",
   "metadata": {},
   "source": [
    "#### Observation :\n",
    "- Range **10 to 30** is optimal with good accuracy. "
   ]
  },
  {
   "cell_type": "markdown",
   "id": "6df3eb04",
   "metadata": {},
   "source": [
    "## Grid Search to Find Optimal Hyperparameters"
   ]
  },
  {
   "cell_type": "code",
   "execution_count": 154,
   "id": "11a73095",
   "metadata": {},
   "outputs": [],
   "source": [
    "#We can now find the optimal hyperparameters using GridSearchCV.\n",
    "# Create the parameter grid based on the results of random search \n",
    "param_grid = {\n",
    "    'max_depth': [7,12],\n",
    "    'n_estimators': [200],\n",
    "    'max_features': [40],\n",
    "    'min_samples_leaf': [10,20],\n",
    "    'min_samples_split': [10,20,30]\n",
    "}\n",
    "# Create a based model\n",
    "rf = RandomForestClassifier()\n",
    "# Instantiate the grid search model\n",
    "rf_grid_search = GridSearchCV(estimator = rf, param_grid = param_grid, \n",
    "                          cv = 5, n_jobs = -1,verbose = 1,return_train_score=True)"
   ]
  },
  {
   "cell_type": "code",
   "execution_count": 155,
   "id": "95aedc80",
   "metadata": {},
   "outputs": [
    {
     "name": "stdout",
     "output_type": "stream",
     "text": [
      "Fitting 5 folds for each of 12 candidates, totalling 60 fits\n"
     ]
    },
    {
     "data": {
      "text/plain": [
       "GridSearchCV(cv=5, estimator=RandomForestClassifier(), n_jobs=-1,\n",
       "             param_grid={'max_depth': [7, 12], 'max_features': [40],\n",
       "                         'min_samples_leaf': [10, 20],\n",
       "                         'min_samples_split': [10, 20, 30],\n",
       "                         'n_estimators': [200]},\n",
       "             return_train_score=True, verbose=1)"
      ]
     },
     "execution_count": 155,
     "metadata": {},
     "output_type": "execute_result"
    }
   ],
   "source": [
    "# Fit the grid search to the data\n",
    "rf_grid_search.fit(x_train, y_train)"
   ]
  },
  {
   "cell_type": "code",
   "execution_count": 156,
   "id": "fc8ca062",
   "metadata": {},
   "outputs": [
    {
     "name": "stdout",
     "output_type": "stream",
     "text": [
      "We can get accuracy of 1.0 using {'max_depth': 7, 'max_features': 40, 'min_samples_leaf': 10, 'min_samples_split': 20, 'n_estimators': 200}\n"
     ]
    }
   ],
   "source": [
    "#printing the optimal accuracy score and hyperparameters\n",
    "print('We can get accuracy of '+str(round(rf_grid_search.best_score_,2))+' using '+str(rf_grid_search.best_params_))"
   ]
  },
  {
   "cell_type": "code",
   "execution_count": 157,
   "id": "e94e8858",
   "metadata": {},
   "outputs": [
    {
     "name": "stdout",
     "output_type": "stream",
     "text": [
      "Max accuracy with Random Forest classifier - 1.0\n"
     ]
    }
   ],
   "source": [
    "print(\"Max accuracy with Random Forest classifier - \"+str(round(rf_grid_search.best_score_,2)))"
   ]
  },
  {
   "cell_type": "markdown",
   "id": "ad2a2f50",
   "metadata": {},
   "source": [
    "## Building and Evaluating the Final Model for Random Forest\n",
    "- Let's now build and evaluate the final model, i.e. the model with highest test accuracy."
   ]
  },
  {
   "cell_type": "code",
   "execution_count": 158,
   "id": "e337f34a",
   "metadata": {},
   "outputs": [
    {
     "data": {
      "text/plain": [
       "RandomForestClassifier(max_depth=12, max_features=40, min_samples_leaf=10,\n",
       "                       min_samples_split=10, n_estimators=200, n_jobs=-1)"
      ]
     },
     "execution_count": 158,
     "metadata": {},
     "output_type": "execute_result"
    }
   ],
   "source": [
    "rfc = RandomForestClassifier(max_depth=12,\n",
    "                             max_features=40,\n",
    "                             min_samples_leaf=10,\n",
    "                             min_samples_split=10,\n",
    "                             n_estimators=200,\n",
    "                             n_jobs = -1)\n",
    "rfc.fit(X_train,y_train)"
   ]
  },
  {
   "cell_type": "code",
   "execution_count": 172,
   "id": "ed817ba7",
   "metadata": {},
   "outputs": [],
   "source": [
    "# Making predictions\n",
    "predictions = rfc.predict(x_test)"
   ]
  },
  {
   "cell_type": "code",
   "execution_count": 173,
   "id": "ceda4e32",
   "metadata": {},
   "outputs": [
    {
     "data": {
      "text/plain": [
       "array([0, 0, 1, ..., 0, 0, 0], dtype=int64)"
      ]
     },
     "execution_count": 173,
     "metadata": {},
     "output_type": "execute_result"
    }
   ],
   "source": [
    "predictions"
   ]
  },
  {
   "cell_type": "code",
   "execution_count": 174,
   "id": "cb24e04b",
   "metadata": {},
   "outputs": [],
   "source": [
    "solution_data=pd.DataFrame(predictions,index=test_data['id'],columns=['churn_probability'])"
   ]
  },
  {
   "cell_type": "code",
   "execution_count": 175,
   "id": "1e0c28b8",
   "metadata": {},
   "outputs": [],
   "source": [
    "#solution_data=solution_data.reset_index()"
   ]
  },
  {
   "cell_type": "code",
   "execution_count": 176,
   "id": "6bf98a66",
   "metadata": {},
   "outputs": [
    {
     "data": {
      "text/plain": [
       "pandas.core.frame.DataFrame"
      ]
     },
     "execution_count": 176,
     "metadata": {},
     "output_type": "execute_result"
    }
   ],
   "source": [
    "type(solution_data)"
   ]
  },
  {
   "cell_type": "code",
   "execution_count": 177,
   "id": "c6acf3ad",
   "metadata": {},
   "outputs": [
    {
     "data": {
      "text/html": [
       "<div>\n",
       "<style scoped>\n",
       "    .dataframe tbody tr th:only-of-type {\n",
       "        vertical-align: middle;\n",
       "    }\n",
       "\n",
       "    .dataframe tbody tr th {\n",
       "        vertical-align: top;\n",
       "    }\n",
       "\n",
       "    .dataframe thead th {\n",
       "        text-align: right;\n",
       "    }\n",
       "</style>\n",
       "<table border=\"1\" class=\"dataframe\">\n",
       "  <thead>\n",
       "    <tr style=\"text-align: right;\">\n",
       "      <th></th>\n",
       "      <th>churn_probability</th>\n",
       "    </tr>\n",
       "    <tr>\n",
       "      <th>id</th>\n",
       "      <th></th>\n",
       "    </tr>\n",
       "  </thead>\n",
       "  <tbody>\n",
       "    <tr>\n",
       "      <th>69999</th>\n",
       "      <td>0</td>\n",
       "    </tr>\n",
       "    <tr>\n",
       "      <th>70000</th>\n",
       "      <td>0</td>\n",
       "    </tr>\n",
       "    <tr>\n",
       "      <th>70001</th>\n",
       "      <td>1</td>\n",
       "    </tr>\n",
       "    <tr>\n",
       "      <th>70002</th>\n",
       "      <td>0</td>\n",
       "    </tr>\n",
       "    <tr>\n",
       "      <th>70003</th>\n",
       "      <td>0</td>\n",
       "    </tr>\n",
       "    <tr>\n",
       "      <th>...</th>\n",
       "      <td>...</td>\n",
       "    </tr>\n",
       "    <tr>\n",
       "      <th>99994</th>\n",
       "      <td>0</td>\n",
       "    </tr>\n",
       "    <tr>\n",
       "      <th>99995</th>\n",
       "      <td>0</td>\n",
       "    </tr>\n",
       "    <tr>\n",
       "      <th>99996</th>\n",
       "      <td>0</td>\n",
       "    </tr>\n",
       "    <tr>\n",
       "      <th>99997</th>\n",
       "      <td>0</td>\n",
       "    </tr>\n",
       "    <tr>\n",
       "      <th>99998</th>\n",
       "      <td>0</td>\n",
       "    </tr>\n",
       "  </tbody>\n",
       "</table>\n",
       "<p>30000 rows × 1 columns</p>\n",
       "</div>"
      ],
      "text/plain": [
       "       churn_probability\n",
       "id                      \n",
       "69999                  0\n",
       "70000                  0\n",
       "70001                  1\n",
       "70002                  0\n",
       "70003                  0\n",
       "...                  ...\n",
       "99994                  0\n",
       "99995                  0\n",
       "99996                  0\n",
       "99997                  0\n",
       "99998                  0\n",
       "\n",
       "[30000 rows x 1 columns]"
      ]
     },
     "execution_count": 177,
     "metadata": {},
     "output_type": "execute_result"
    }
   ],
   "source": [
    "solution_data"
   ]
  },
  {
   "cell_type": "code",
   "execution_count": 178,
   "id": "25c82685",
   "metadata": {},
   "outputs": [],
   "source": [
    "solution_data.to_csv(\"Submission.csv\")"
   ]
  },
  {
   "cell_type": "markdown",
   "id": "eb55c5cb",
   "metadata": {},
   "source": [
    "# Step 6 :  Recommandations"
   ]
  },
  {
   "cell_type": "markdown",
   "id": "3c06854a",
   "metadata": {},
   "source": [
    "- Less number of high value customer are churing but for last 6 month no new high valued cusotmer is onboarded which is concerning and company should concentrate on that aspect.\n",
    "\n",
    "- Customers with less than 4 years of tenure are more likely to churn and company should concentrate more on that segment by rolling out new schems to that group.\n",
    "- Average revenue per useseems to be most important feature in determining churn prediction. \n",
    "- **Incoming** and **Outgoing Calls** on **romaing** for 8th month are strong indicators of churn behaviour\n",
    "- **Local Outgoing calls** made to landline , fixedline , mobile and call center provides a strong indicator of churn behaviour.\n",
    "- Better 2G/3G area coverage where 2G/3G services are not good, it's strong indicator of churn behaviour."
   ]
  }
 ],
 "metadata": {
  "kernelspec": {
   "display_name": "Python 3 (ipykernel)",
   "language": "python",
   "name": "python3"
  },
  "language_info": {
   "codemirror_mode": {
    "name": "ipython",
    "version": 3
   },
   "file_extension": ".py",
   "mimetype": "text/x-python",
   "name": "python",
   "nbconvert_exporter": "python",
   "pygments_lexer": "ipython3",
   "version": "3.9.12"
  }
 },
 "nbformat": 4,
 "nbformat_minor": 5
}
